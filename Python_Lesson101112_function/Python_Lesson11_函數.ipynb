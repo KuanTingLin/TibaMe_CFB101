{
 "cells": [
  {
   "cell_type": "markdown",
   "metadata": {
    "ExecuteTime": {
     "end_time": "2021-03-27T03:51:33.786419Z",
     "start_time": "2021-03-27T03:51:33.783774Z"
    }
   },
   "source": [
    "# Function (函數)"
   ]
  },
  {
   "cell_type": "code",
   "execution_count": null,
   "metadata": {
    "ExecuteTime": {
     "end_time": "2021-04-02T10:55:01.487480Z",
     "start_time": "2021-04-02T10:55:01.484536Z"
    }
   },
   "outputs": [],
   "source": [
    "def no_return():\n",
    "    \"do nothing\"\n",
    "\n",
    "def return_nothing():\n",
    "    \"do nothing\"\n",
    "    return\n",
    "\n",
    "def return_null():\n",
    "    \"do nothing\"\n",
    "    return None"
   ]
  },
  {
   "cell_type": "code",
   "execution_count": null,
   "metadata": {
    "ExecuteTime": {
     "end_time": "2021-04-02T10:55:13.126881Z",
     "start_time": "2021-04-02T10:55:13.123690Z"
    }
   },
   "outputs": [],
   "source": [
    "print(no_return())\n",
    "print(return_nothing())\n",
    "print(return_null())"
   ]
  },
  {
   "cell_type": "code",
   "execution_count": null,
   "metadata": {
    "ExecuteTime": {
     "end_time": "2021-03-27T14:44:33.123534Z",
     "start_time": "2021-03-27T14:44:33.121149Z"
    }
   },
   "outputs": [],
   "source": [
    "def add(x, y):\n",
    "    \"\"\"\n",
    "    return x+y\n",
    "    x: int\n",
    "    y: int\n",
    "    return: int\n",
    "    \"\"\"\n",
    "    return x + y"
   ]
  },
  {
   "cell_type": "code",
   "execution_count": null,
   "metadata": {
    "ExecuteTime": {
     "end_time": "2021-03-27T14:44:33.510366Z",
     "start_time": "2021-03-27T14:44:33.506855Z"
    }
   },
   "outputs": [],
   "source": [
    "add"
   ]
  },
  {
   "cell_type": "code",
   "execution_count": null,
   "metadata": {
    "ExecuteTime": {
     "end_time": "2021-03-27T14:44:37.806101Z",
     "start_time": "2021-03-27T14:44:37.802091Z"
    }
   },
   "outputs": [],
   "source": [
    "add(1, 2)"
   ]
  },
  {
   "cell_type": "code",
   "execution_count": null,
   "metadata": {
    "ExecuteTime": {
     "end_time": "2021-03-28T08:51:57.084506Z",
     "start_time": "2021-03-28T08:51:57.080453Z"
    }
   },
   "outputs": [],
   "source": [
    "add(x=1, y=2)"
   ]
  },
  {
   "cell_type": "markdown",
   "metadata": {},
   "source": [
    "## Default Value"
   ]
  },
  {
   "cell_type": "code",
   "execution_count": null,
   "metadata": {
    "ExecuteTime": {
     "end_time": "2021-03-27T16:04:25.849014Z",
     "start_time": "2021-03-27T16:04:25.846591Z"
    }
   },
   "outputs": [],
   "source": [
    "def add(x=1, y=1):\n",
    "    \"\"\"\n",
    "    return x+y\n",
    "    x: int\n",
    "    y: int\n",
    "    return: int\n",
    "    \"\"\"\n",
    "    return x + y"
   ]
  },
  {
   "cell_type": "code",
   "execution_count": null,
   "metadata": {
    "ExecuteTime": {
     "end_time": "2021-03-27T16:04:28.948507Z",
     "start_time": "2021-03-27T16:04:28.945197Z"
    }
   },
   "outputs": [],
   "source": [
    "add()"
   ]
  },
  {
   "cell_type": "markdown",
   "metadata": {},
   "source": [
    "## explode list or dictionary"
   ]
  },
  {
   "cell_type": "code",
   "execution_count": null,
   "metadata": {},
   "outputs": [],
   "source": [
    "def add(x, y):\n",
    "    \"\"\"\n",
    "    return x+y\n",
    "    x: int\n",
    "    y: int\n",
    "    return: int\n",
    "    \"\"\"\n",
    "    return x + y"
   ]
  },
  {
   "cell_type": "code",
   "execution_count": null,
   "metadata": {
    "ExecuteTime": {
     "end_time": "2021-03-27T16:09:38.561104Z",
     "start_time": "2021-03-27T16:09:38.557623Z"
    }
   },
   "outputs": [],
   "source": [
    "add(*[1, 2])"
   ]
  },
  {
   "cell_type": "code",
   "execution_count": null,
   "metadata": {
    "ExecuteTime": {
     "end_time": "2021-03-27T16:10:03.344963Z",
     "start_time": "2021-03-27T16:10:03.341231Z"
    }
   },
   "outputs": [],
   "source": [
    "add(**{\"x\": 1, \"y\": 2})"
   ]
  },
  {
   "cell_type": "markdown",
   "metadata": {},
   "source": [
    "## kwargs, args"
   ]
  },
  {
   "cell_type": "code",
   "execution_count": null,
   "metadata": {
    "ExecuteTime": {
     "end_time": "2021-03-27T15:44:03.262774Z",
     "start_time": "2021-03-27T15:44:03.259027Z"
    }
   },
   "outputs": [],
   "source": [
    "def kw_test(**kwargs):\n",
    "    return kwargs  #-->dict\n",
    "    \n",
    "\n",
    "def args_test(*args):\n",
    "    return args  #-->tuple\n",
    "\n",
    "\n",
    "def test(x, y, *args, **kwargs):\n",
    "    print(x, y)\n",
    "    print(\"args=\", args)\n",
    "    print(\"kwargs=\", kwargs)\n",
    "    return x + y"
   ]
  },
  {
   "cell_type": "code",
   "execution_count": null,
   "metadata": {
    "ExecuteTime": {
     "end_time": "2021-03-27T15:44:03.575505Z",
     "start_time": "2021-03-27T15:44:03.571917Z"
    }
   },
   "outputs": [],
   "source": [
    "kw_test(x=2, y=3)"
   ]
  },
  {
   "cell_type": "code",
   "execution_count": null,
   "metadata": {
    "ExecuteTime": {
     "end_time": "2021-03-27T15:44:03.957007Z",
     "start_time": "2021-03-27T15:44:03.953204Z"
    }
   },
   "outputs": [],
   "source": [
    "args_test(1, 2, 3)"
   ]
  },
  {
   "cell_type": "code",
   "execution_count": null,
   "metadata": {
    "ExecuteTime": {
     "end_time": "2021-03-27T15:44:04.501760Z",
     "start_time": "2021-03-27T15:44:04.497339Z"
    }
   },
   "outputs": [],
   "source": [
    "test(2, 3, 10, 11, z=4, m=6)"
   ]
  },
  {
   "cell_type": "code",
   "execution_count": null,
   "metadata": {
    "ExecuteTime": {
     "end_time": "2021-03-27T15:44:13.707535Z",
     "start_time": "2021-03-27T15:44:13.702853Z"
    }
   },
   "outputs": [],
   "source": [
    "test(a=2, b=3, 10, 11, c=4, v=6)"
   ]
  },
  {
   "cell_type": "markdown",
   "metadata": {},
   "source": [
    "## local variable & global variable"
   ]
  },
  {
   "cell_type": "code",
   "execution_count": null,
   "metadata": {
    "ExecuteTime": {
     "end_time": "2021-03-28T04:22:42.648859Z",
     "start_time": "2021-03-28T04:22:42.645771Z"
    }
   },
   "outputs": [],
   "source": [
    "PI = 3.1415926 # global variable\n",
    "def times_pi(x, pi=None):\n",
    "    # 參數亦是 local variable\n",
    "    y = 10 # function 內宣告的變數也是 local variable\n",
    "    if pi is None:\n",
    "        return x*PI\n",
    "    else:\n",
    "        return x*pi"
   ]
  },
  {
   "cell_type": "code",
   "execution_count": null,
   "metadata": {
    "ExecuteTime": {
     "end_time": "2021-03-28T04:22:42.898609Z",
     "start_time": "2021-03-28T04:22:42.895691Z"
    }
   },
   "outputs": [],
   "source": [
    "times_pi(1, 3)"
   ]
  },
  {
   "cell_type": "code",
   "execution_count": null,
   "metadata": {
    "ExecuteTime": {
     "end_time": "2021-03-28T04:22:43.139125Z",
     "start_time": "2021-03-28T04:22:43.136137Z"
    }
   },
   "outputs": [],
   "source": [
    "times_pi(1)"
   ]
  },
  {
   "cell_type": "markdown",
   "metadata": {},
   "source": [
    "### 變數的取用會從區域變數開始找起，再層層向外"
   ]
  },
  {
   "cell_type": "code",
   "execution_count": null,
   "metadata": {
    "ExecuteTime": {
     "end_time": "2021-03-28T07:27:24.246097Z",
     "start_time": "2021-03-28T07:27:24.243961Z"
    }
   },
   "outputs": [],
   "source": [
    "PI = 3.1415926\n",
    "def times_pi_2(x):\n",
    "    PI = 3\n",
    "    return x*PI"
   ]
  },
  {
   "cell_type": "code",
   "execution_count": null,
   "metadata": {
    "ExecuteTime": {
     "end_time": "2021-03-28T07:27:24.511338Z",
     "start_time": "2021-03-28T07:27:24.508219Z"
    }
   },
   "outputs": [],
   "source": [
    "times_pi_2(1)"
   ]
  },
  {
   "cell_type": "code",
   "execution_count": null,
   "metadata": {
    "ExecuteTime": {
     "end_time": "2021-03-28T07:27:24.932145Z",
     "start_time": "2021-03-28T07:27:24.928944Z"
    }
   },
   "outputs": [],
   "source": [
    "PI"
   ]
  },
  {
   "cell_type": "markdown",
   "metadata": {
    "ExecuteTime": {
     "end_time": "2021-03-28T07:23:48.578116Z",
     "start_time": "2021-03-28T07:23:48.575927Z"
    }
   },
   "source": [
    "### global"
   ]
  },
  {
   "cell_type": "code",
   "execution_count": null,
   "metadata": {
    "ExecuteTime": {
     "end_time": "2021-03-28T07:29:30.100261Z",
     "start_time": "2021-03-28T07:29:30.097556Z"
    }
   },
   "outputs": [],
   "source": [
    "PI = 3.1415926\n",
    "def times_pi_3(x):\n",
    "    global PI\n",
    "    PI = 3\n",
    "    return x*PI"
   ]
  },
  {
   "cell_type": "code",
   "execution_count": null,
   "metadata": {
    "ExecuteTime": {
     "end_time": "2021-03-28T07:29:30.627569Z",
     "start_time": "2021-03-28T07:29:30.623708Z"
    }
   },
   "outputs": [],
   "source": [
    "times_pi_3(1)"
   ]
  },
  {
   "cell_type": "code",
   "execution_count": null,
   "metadata": {
    "ExecuteTime": {
     "end_time": "2021-03-28T07:29:31.130726Z",
     "start_time": "2021-03-28T07:29:31.127407Z"
    }
   },
   "outputs": [],
   "source": [
    "PI"
   ]
  },
  {
   "cell_type": "markdown",
   "metadata": {},
   "source": [
    "### nonlocal"
   ]
  },
  {
   "cell_type": "code",
   "execution_count": null,
   "metadata": {
    "ExecuteTime": {
     "end_time": "2021-03-28T07:32:03.996944Z",
     "start_time": "2021-03-28T07:32:03.993928Z"
    }
   },
   "outputs": [],
   "source": [
    "PI = 3.1415926\n",
    "def outer_function(y):\n",
    "    PI = 3.14\n",
    "    print(\"outer_function's PI = \", PI)\n",
    "    def times_pi_4(x):\n",
    "        nonlocal PI\n",
    "        PI = 3\n",
    "        return x*PI\n",
    "    \n",
    "    answer = times_pi_4(y)\n",
    "    print(\"outer_function's PI = \", PI)\n",
    "    return answer"
   ]
  },
  {
   "cell_type": "code",
   "execution_count": null,
   "metadata": {
    "ExecuteTime": {
     "end_time": "2021-03-28T07:32:04.486244Z",
     "start_time": "2021-03-28T07:32:04.481693Z"
    }
   },
   "outputs": [],
   "source": [
    "outer_function(1)"
   ]
  },
  {
   "cell_type": "code",
   "execution_count": null,
   "metadata": {
    "ExecuteTime": {
     "end_time": "2021-03-28T07:32:12.845026Z",
     "start_time": "2021-03-28T07:32:12.841815Z"
    }
   },
   "outputs": [],
   "source": [
    "PI"
   ]
  },
  {
   "cell_type": "markdown",
   "metadata": {},
   "source": [
    "### 傳值、傳址"
   ]
  },
  {
   "cell_type": "code",
   "execution_count": null,
   "metadata": {
    "ExecuteTime": {
     "end_time": "2021-03-28T08:38:55.622346Z",
     "start_time": "2021-03-28T08:38:55.619796Z"
    }
   },
   "outputs": [],
   "source": [
    "def integer_add_one(x):\n",
    "    x += 1\n",
    "    return x"
   ]
  },
  {
   "cell_type": "code",
   "execution_count": null,
   "metadata": {
    "ExecuteTime": {
     "end_time": "2021-03-28T08:38:55.872456Z",
     "start_time": "2021-03-28T08:38:55.869147Z"
    }
   },
   "outputs": [],
   "source": [
    "value = 5\n",
    "print(value)\n",
    "\n",
    "integer_add_one(value)\n",
    "print(value)"
   ]
  },
  {
   "cell_type": "code",
   "execution_count": null,
   "metadata": {
    "ExecuteTime": {
     "end_time": "2021-03-28T08:39:10.782063Z",
     "start_time": "2021-03-28T08:39:10.779423Z"
    }
   },
   "outputs": [],
   "source": [
    "def array_add_one(x):\n",
    "    x.append(1)\n",
    "    return x"
   ]
  },
  {
   "cell_type": "code",
   "execution_count": null,
   "metadata": {
    "ExecuteTime": {
     "end_time": "2021-03-28T08:39:32.571848Z",
     "start_time": "2021-03-28T08:39:32.568472Z"
    }
   },
   "outputs": [],
   "source": [
    "value = [5]\n",
    "print(value)\n",
    "\n",
    "array_add_one(value)\n",
    "print(value)"
   ]
  },
  {
   "cell_type": "markdown",
   "metadata": {},
   "source": [
    "# 練習"
   ]
  },
  {
   "cell_type": "markdown",
   "metadata": {},
   "source": [
    "```\n",
    "中文表示固定為：一, 二, 三, 四, 五, 六, 七, 八, 九, 零, 十, 百, 千, 萬, 億\n",
    "```"
   ]
  },
  {
   "cell_type": "code",
   "execution_count": null,
   "metadata": {},
   "outputs": [],
   "source": [
    "def grouping_list(group, data):\n",
    "    \"\"\"\n",
    "        將輸入的序列化物件分組\n",
    "    :param group: int, 一組要有幾個元素\n",
    "    :param data: iterable object, 欲分組之物件\n",
    "    :return: list\n",
    "    \"\"\"\n",
    "a = [1, 2, 3, 4, 5, 6, 7, 8, 9]\n",
    "grouping_list(3, a)    \n",
    "# output : [[1, 2, 3], [4, 5, 6], [7, 8, 9]]"
   ]
  },
  {
   "cell_type": "code",
   "execution_count": null,
   "metadata": {},
   "outputs": [],
   "source": [
    "def number_to_chinese(number):\n",
    "    \"\"\"\n",
    "        將數字轉換成中文表示\n",
    "        若無法轉換，則回傳 None\n",
    "        考慮到「億」即可\n",
    "    :param number: int\n",
    "    :return: str\n",
    "    \"\"\"\n",
    "number = 25\n",
    "number_to_chinese(number)    \n",
    "# output : '二十五'"
   ]
  },
  {
   "cell_type": "code",
   "execution_count": null,
   "metadata": {},
   "outputs": [],
   "source": [
    "def chinese_to_number(number):\n",
    "    \"\"\"\n",
    "        將數字轉換成中文表示\n",
    "        若無法轉換，則回傳 None\n",
    "        考慮到「億」即可\n",
    "    :param number: str\n",
    "    :return: int\n",
    "    \"\"\"\n",
    "number = '二十五'\n",
    "chinese_to_number(number)    \n",
    "# output : 25"
   ]
  },
  {
   "cell_type": "code",
   "execution_count": null,
   "metadata": {},
   "outputs": [],
   "source": [
    "def exchange_and_group_data(group, data)\n",
    "    \"\"\"\n",
    "        將輸入的序列化物件分組並轉讓中文跟數字之間做轉換\n",
    "    :param group: int, 一組要有幾個元素\n",
    "    :param data: iterable object, 欲分組之物件\n",
    "    :return: list\n",
    "    \"\"\"\n",
    "    \n",
    "a = [1, 2, 3, '四', '五', '六', 7, 8, 9]\n",
    "grouping_list(3, a)\n",
    "# output : [['一', '二', '三'], [4, 5, 6], ['七', '八', '九']]"
   ]
  },
  {
   "cell_type": "code",
   "execution_count": null,
   "metadata": {},
   "outputs": [],
   "source": []
  }
 ],
 "metadata": {
  "kernelspec": {
   "display_name": "Python 3",
   "language": "python",
   "name": "python3"
  },
  "language_info": {
   "codemirror_mode": {
    "name": "ipython",
    "version": 3
   },
   "file_extension": ".py",
   "mimetype": "text/x-python",
   "name": "python",
   "nbconvert_exporter": "python",
   "pygments_lexer": "ipython3",
   "version": "3.7.3"
  },
  "toc": {
   "base_numbering": 1,
   "nav_menu": {},
   "number_sections": true,
   "sideBar": true,
   "skip_h1_title": false,
   "title_cell": "Table of Contents",
   "title_sidebar": "Contents",
   "toc_cell": false,
   "toc_position": {},
   "toc_section_display": true,
   "toc_window_display": false
  },
  "varInspector": {
   "cols": {
    "lenName": 16,
    "lenType": 16,
    "lenVar": 40
   },
   "kernels_config": {
    "python": {
     "delete_cmd_postfix": "",
     "delete_cmd_prefix": "del ",
     "library": "var_list.py",
     "varRefreshCmd": "print(var_dic_list())"
    },
    "r": {
     "delete_cmd_postfix": ") ",
     "delete_cmd_prefix": "rm(",
     "library": "var_list.r",
     "varRefreshCmd": "cat(var_dic_list()) "
    }
   },
   "types_to_exclude": [
    "module",
    "function",
    "builtin_function_or_method",
    "instance",
    "_Feature"
   ],
   "window_display": false
  }
 },
 "nbformat": 4,
 "nbformat_minor": 2
}
