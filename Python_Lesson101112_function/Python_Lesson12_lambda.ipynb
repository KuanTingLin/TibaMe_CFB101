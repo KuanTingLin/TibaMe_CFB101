{
 "cells": [
  {
   "cell_type": "code",
   "execution_count": null,
   "metadata": {
    "ExecuteTime": {
     "end_time": "2021-03-28T09:39:40.651626Z",
     "start_time": "2021-03-28T09:39:40.646844Z"
    }
   },
   "outputs": [],
   "source": [
    "from collections.abc import Iterator, Iterable\n",
    "# 檢驗 iterator 或 iterable"
   ]
  },
  {
   "cell_type": "markdown",
   "metadata": {
    "ExecuteTime": {
     "end_time": "2021-03-27T03:51:33.786419Z",
     "start_time": "2021-03-27T03:51:33.783774Z"
    }
   },
   "source": [
    "# lambda function (匿名函數)"
   ]
  },
  {
   "cell_type": "code",
   "execution_count": null,
   "metadata": {
    "ExecuteTime": {
     "end_time": "2021-03-28T09:24:10.658716Z",
     "start_time": "2021-03-28T09:24:10.650672Z"
    }
   },
   "outputs": [],
   "source": [
    "lambda x: x+1"
   ]
  },
  {
   "cell_type": "code",
   "execution_count": null,
   "metadata": {
    "ExecuteTime": {
     "end_time": "2021-03-28T09:24:31.794987Z",
     "start_time": "2021-03-28T09:24:31.791116Z"
    }
   },
   "outputs": [],
   "source": [
    "(lambda x: x+1)(2)"
   ]
  },
  {
   "cell_type": "code",
   "execution_count": null,
   "metadata": {
    "ExecuteTime": {
     "end_time": "2021-03-28T09:26:17.097307Z",
     "start_time": "2021-03-28T09:26:17.092861Z"
    }
   },
   "outputs": [],
   "source": [
    "data = [1, 2, 3, 4, 5, 6, 7, 8]\n",
    "sorted(data, key=lambda x: x%2)"
   ]
  },
  {
   "cell_type": "markdown",
   "metadata": {
    "ExecuteTime": {
     "end_time": "2021-03-28T08:51:57.084506Z",
     "start_time": "2021-03-28T08:51:57.080453Z"
    }
   },
   "source": [
    "# filter"
   ]
  },
  {
   "cell_type": "code",
   "execution_count": null,
   "metadata": {
    "ExecuteTime": {
     "end_time": "2021-03-28T09:38:43.502163Z",
     "start_time": "2021-03-28T09:38:43.499299Z"
    }
   },
   "outputs": [],
   "source": [
    "data = [1, 2, 3, 4, 5, 6, 7, 8]\n",
    "filter_data = filter(lambda x: x%2 == 1, data)"
   ]
  },
  {
   "cell_type": "code",
   "execution_count": null,
   "metadata": {
    "ExecuteTime": {
     "end_time": "2021-03-28T09:41:17.677418Z",
     "start_time": "2021-03-28T09:41:17.674696Z"
    }
   },
   "outputs": [],
   "source": [
    "isinstance(filter_data, Iterator)"
   ]
  },
  {
   "cell_type": "code",
   "execution_count": null,
   "metadata": {
    "ExecuteTime": {
     "end_time": "2021-03-28T09:43:12.290189Z",
     "start_time": "2021-03-28T09:43:12.287343Z"
    }
   },
   "outputs": [],
   "source": [
    "for x in filter_data:\n",
    "    print(x)"
   ]
  },
  {
   "cell_type": "markdown",
   "metadata": {},
   "source": [
    "# map"
   ]
  },
  {
   "cell_type": "code",
   "execution_count": null,
   "metadata": {
    "ExecuteTime": {
     "end_time": "2021-03-28T09:47:40.130458Z",
     "start_time": "2021-03-28T09:47:40.127441Z"
    }
   },
   "outputs": [],
   "source": [
    "data = [1, 2, 3, 4, 5, 6, 7, 8]\n",
    "map_data = map(lambda x: x**2, data)"
   ]
  },
  {
   "cell_type": "code",
   "execution_count": null,
   "metadata": {
    "ExecuteTime": {
     "end_time": "2021-03-28T09:47:40.733275Z",
     "start_time": "2021-03-28T09:47:40.729840Z"
    }
   },
   "outputs": [],
   "source": [
    "isinstance(map_data, Iterator)"
   ]
  },
  {
   "cell_type": "code",
   "execution_count": null,
   "metadata": {
    "ExecuteTime": {
     "end_time": "2021-03-28T09:47:41.334934Z",
     "start_time": "2021-03-28T09:47:41.331102Z"
    }
   },
   "outputs": [],
   "source": [
    "list(map_data)"
   ]
  },
  {
   "cell_type": "markdown",
   "metadata": {},
   "source": [
    "# reduce"
   ]
  },
  {
   "cell_type": "code",
   "execution_count": null,
   "metadata": {
    "ExecuteTime": {
     "end_time": "2021-03-28T09:49:20.045238Z",
     "start_time": "2021-03-28T09:49:20.042932Z"
    }
   },
   "outputs": [],
   "source": [
    "from functools import reduce"
   ]
  },
  {
   "cell_type": "code",
   "execution_count": null,
   "metadata": {
    "ExecuteTime": {
     "end_time": "2021-03-28T09:50:29.698132Z",
     "start_time": "2021-03-28T09:50:29.693912Z"
    }
   },
   "outputs": [],
   "source": [
    "data = [1, 2, 3, 4, 5, 6, 7, 8]\n",
    "reduce(lambda x, y: x + y, data)"
   ]
  },
  {
   "cell_type": "markdown",
   "metadata": {},
   "source": [
    "# 練習"
   ]
  },
  {
   "cell_type": "code",
   "execution_count": null,
   "metadata": {},
   "outputs": [],
   "source": [
    "# 利用 lambda, map\n",
    "\n",
    "input_data = [({'name':'Timothy', \n",
    "                'id':1, \n",
    "                'email':'woodooo@yahoo.com.tw'}, \n",
    "               {'name': \n",
    "                'Ellna','id': 2,\n",
    "                'email': 'ellna332@gmail.com'})]\n",
    "output_data = [('A', 'xxx @ xxx'), \n",
    "               ('B', 'yyy @yyy')]"
   ]
  },
  {
   "cell_type": "code",
   "execution_count": null,
   "metadata": {},
   "outputs": [],
   "source": [
    "# 利用 lambda, map, enumerate\n",
    "pattern = 'abba'\n",
    "sentence = 'dog cat cat dog'\n",
    "\n",
    "# 比較 pattern 組合跟 sentence 組合是否相同\n",
    "def pattern_match(pattern, sentence):\n",
    "    \"\"\"\n",
    "        將輸入的序列化物件分組並轉讓中文跟數字之間做轉換\n",
    "    :param pattern: str, \n",
    "    :param sentence: str, 欲分組之物件\n",
    "    :return: Boolean\n",
    "    \"\"\""
   ]
  }
 ],
 "metadata": {
  "kernelspec": {
   "display_name": "Python 3",
   "language": "python",
   "name": "python3"
  },
  "language_info": {
   "codemirror_mode": {
    "name": "ipython",
    "version": 3
   },
   "file_extension": ".py",
   "mimetype": "text/x-python",
   "name": "python",
   "nbconvert_exporter": "python",
   "pygments_lexer": "ipython3",
   "version": "3.7.3"
  },
  "toc": {
   "base_numbering": 1,
   "nav_menu": {},
   "number_sections": true,
   "sideBar": true,
   "skip_h1_title": false,
   "title_cell": "Table of Contents",
   "title_sidebar": "Contents",
   "toc_cell": false,
   "toc_position": {},
   "toc_section_display": true,
   "toc_window_display": false
  },
  "varInspector": {
   "cols": {
    "lenName": 16,
    "lenType": 16,
    "lenVar": 40
   },
   "kernels_config": {
    "python": {
     "delete_cmd_postfix": "",
     "delete_cmd_prefix": "del ",
     "library": "var_list.py",
     "varRefreshCmd": "print(var_dic_list())"
    },
    "r": {
     "delete_cmd_postfix": ") ",
     "delete_cmd_prefix": "rm(",
     "library": "var_list.r",
     "varRefreshCmd": "cat(var_dic_list()) "
    }
   },
   "types_to_exclude": [
    "module",
    "function",
    "builtin_function_or_method",
    "instance",
    "_Feature"
   ],
   "window_display": false
  }
 },
 "nbformat": 4,
 "nbformat_minor": 2
}
