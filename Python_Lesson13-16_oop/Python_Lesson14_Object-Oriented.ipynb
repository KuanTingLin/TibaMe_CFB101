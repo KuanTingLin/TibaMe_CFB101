{
 "cells": [
  {
   "cell_type": "markdown",
   "metadata": {
    "ExecuteTime": {
     "end_time": "2021-03-27T03:51:33.786419Z",
     "start_time": "2021-03-27T03:51:33.783774Z"
    }
   },
   "source": [
    "# 物件導向"
   ]
  },
  {
   "cell_type": "markdown",
   "metadata": {},
   "source": [
    "## 類別(Class)"
   ]
  },
  {
   "cell_type": "code",
   "execution_count": null,
   "metadata": {
    "ExecuteTime": {
     "end_time": "2021-03-30T17:10:26.620004Z",
     "start_time": "2021-03-30T17:10:26.616256Z"
    }
   },
   "outputs": [],
   "source": [
    "class Pencil:\n",
    "    length = 12\n",
    "    material = \"wood\"\n",
    "    nib_size = 0.8\n",
    "    \n",
    "    def sharpen(self):\n",
    "        if self.nib_size < 0.3:\n",
    "            self.nib_size = 1.0\n",
    "            print(\"the pencil lead is breaking!!\")\n",
    "        else:\n",
    "            self.nib_size -= 0.1\n",
    "        return self.nib_size"
   ]
  },
  {
   "cell_type": "code",
   "execution_count": null,
   "metadata": {
    "ExecuteTime": {
     "end_time": "2021-03-30T16:04:48.097178Z",
     "start_time": "2021-03-30T16:04:48.094695Z"
    }
   },
   "outputs": [],
   "source": [
    "my_pencel = Pencil()"
   ]
  },
  {
   "cell_type": "code",
   "execution_count": null,
   "metadata": {
    "ExecuteTime": {
     "end_time": "2021-03-30T16:04:48.548358Z",
     "start_time": "2021-03-30T16:04:48.544631Z"
    }
   },
   "outputs": [],
   "source": [
    "type(my_pencel)"
   ]
  },
  {
   "cell_type": "markdown",
   "metadata": {},
   "source": [
    "## 建構子(Constructor)"
   ]
  },
  {
   "cell_type": "code",
   "execution_count": null,
   "metadata": {
    "ExecuteTime": {
     "end_time": "2021-03-30T16:18:22.630274Z",
     "start_time": "2021-03-30T16:18:22.626019Z"
    }
   },
   "outputs": [],
   "source": [
    "class Pencil:\n",
    "    \n",
    "    def __init__(self, length, material, nib_size):\n",
    "        self.length = length\n",
    "        self.material = material\n",
    "        self.nib_size = nib_size\n",
    "    \n",
    "    def sharpen(self):\n",
    "        if self.nib_size < 0.3:\n",
    "            self.nib_size = 1.0\n",
    "            print(\"the pencil lead is breaking!!\")\n",
    "        else:\n",
    "            self.nib_size -= 0.1\n",
    "        return self.nib_size"
   ]
  },
  {
   "cell_type": "code",
   "execution_count": null,
   "metadata": {
    "ExecuteTime": {
     "end_time": "2021-03-30T16:18:59.278714Z",
     "start_time": "2021-03-30T16:18:59.276063Z"
    }
   },
   "outputs": [],
   "source": [
    "my_pencel = Pencil(length=15, material=\"wood\", nib_size=0.5)"
   ]
  },
  {
   "cell_type": "code",
   "execution_count": null,
   "metadata": {},
   "outputs": [],
   "source": []
  },
  {
   "cell_type": "markdown",
   "metadata": {},
   "source": [
    "## Attribute"
   ]
  },
  {
   "cell_type": "markdown",
   "metadata": {},
   "source": [
    "### 類別變數與實體變數"
   ]
  },
  {
   "cell_type": "code",
   "execution_count": null,
   "metadata": {
    "ExecuteTime": {
     "end_time": "2021-03-31T11:39:08.437730Z",
     "start_time": "2021-03-31T11:39:08.434822Z"
    }
   },
   "outputs": [],
   "source": [
    "class Cat:\n",
    "    legs = 4 # 類別變數\n",
    "    def __init__(self, name):\n",
    "        self.name = name # 實體變數"
   ]
  },
  {
   "cell_type": "markdown",
   "metadata": {},
   "source": [
    "> #### 透過類別異動類別變數，影響到實體"
   ]
  },
  {
   "cell_type": "code",
   "execution_count": null,
   "metadata": {
    "ExecuteTime": {
     "end_time": "2021-03-31T11:39:08.803591Z",
     "start_time": "2021-03-31T11:39:08.799630Z"
    }
   },
   "outputs": [],
   "source": [
    "timothy = Cat(\"Timothy\")\n",
    "print(\"timothy.legs =\", timothy.legs, end=\"\\n\\n\")\n",
    "\n",
    "# 透過類別異動類別變數，影響到實體\n",
    "Cat.legs = 8\n",
    "print(\"set Cat.legs = 8\")\n",
    "print(\"timothy.legs =\", timothy.legs, end=\"\\n\\n\")"
   ]
  },
  {
   "cell_type": "markdown",
   "metadata": {},
   "source": [
    "> #### 實體可以透過 __class__ 呼叫類別"
   ]
  },
  {
   "cell_type": "code",
   "execution_count": null,
   "metadata": {
    "ExecuteTime": {
     "end_time": "2021-03-31T11:39:09.298666Z",
     "start_time": "2021-03-31T11:39:09.295201Z"
    },
    "code_folding": []
   },
   "outputs": [],
   "source": [
    "# 實體可以透過 __class__ 呼叫類別，再呼叫類別變數，\n",
    "# 影響到類別的同時也會影響到其它實體\n",
    "timothy.__class__.legs = 4\n",
    "print(\"set timothy.__class__.legs = 4\")\n",
    "print(\"Cat.legs =\", Cat.legs)\n",
    "print(\"timothy.legs =\", timothy.legs)"
   ]
  },
  {
   "cell_type": "markdown",
   "metadata": {},
   "source": [
    "> #### 但若對實體變數做了宣告，就會跟類別變數產生區隔"
   ]
  },
  {
   "cell_type": "code",
   "execution_count": null,
   "metadata": {
    "ExecuteTime": {
     "end_time": "2021-03-31T11:39:43.075523Z",
     "start_time": "2021-03-31T11:39:43.070187Z"
    }
   },
   "outputs": [],
   "source": [
    "# 但若對實體變數做了宣告，就會跟類別變數產生區隔\n",
    "timothy.legs = 6\n",
    "print(\"set timothy.legs = 6\")\n",
    "print(\"Cat.legs =\", Cat.legs)\n",
    "print(\"timothy.legs =\", timothy.legs)\n",
    "print(\"timothy.__class__.legs =\", timothy.__class__.legs)"
   ]
  },
  {
   "cell_type": "markdown",
   "metadata": {},
   "source": [
    "### staticmethod, classmethod"
   ]
  },
  {
   "cell_type": "code",
   "execution_count": null,
   "metadata": {
    "ExecuteTime": {
     "end_time": "2021-03-31T12:44:41.602732Z",
     "start_time": "2021-03-31T12:44:41.594586Z"
    }
   },
   "outputs": [],
   "source": [
    "class Cat:\n",
    "    legs = 4\n",
    "    def __init__(self, name, skin, sound=\"Meow\"):\n",
    "        self.name = name\n",
    "        self.skin = skin\n",
    "        self.caressing_times = 0\n",
    "        self.sound = sound\n",
    "    \n",
    "    def yell(self):\n",
    "        return self.sound + \"~~~\"\n",
    "    \n",
    "    @staticmethod\n",
    "    def scratch():\n",
    "        return \"scratch!!\"\n",
    "        \n",
    "    def caressing(self):\n",
    "        self.caressing_times += 1\n",
    "        if self.caressing_times < 10:\n",
    "            return self.yell()\n",
    "        else:\n",
    "            return \"angry!!\"\n",
    "    \n",
    "    def sleep(self, times):\n",
    "        self.caressing_times -= times\n",
    "        self.caressing_times = 0 if self.caressing_times < 0 else self.caressing_times\n",
    "        return self.yell()\n",
    "    \n",
    "    @classmethod\n",
    "    def black_cat(cls, name):\n",
    "        return cls(name, \"black\")\n",
    "    \n",
    "    @classmethod\n",
    "    def white_cat(cls, name):\n",
    "        return cls(name, \"white\")"
   ]
  },
  {
   "cell_type": "code",
   "execution_count": null,
   "metadata": {
    "ExecuteTime": {
     "end_time": "2021-03-31T12:42:52.940331Z",
     "start_time": "2021-03-31T12:42:52.936950Z"
    }
   },
   "outputs": [],
   "source": [
    "my_cat = Cat(\"Skittles\", \"Tabby\")\n",
    "my_cat.yell()"
   ]
  },
  {
   "cell_type": "code",
   "execution_count": null,
   "metadata": {
    "ExecuteTime": {
     "end_time": "2021-03-31T12:42:53.148749Z",
     "start_time": "2021-03-31T12:42:53.145488Z"
    }
   },
   "outputs": [],
   "source": [
    "Cat.scratch()"
   ]
  },
  {
   "cell_type": "code",
   "execution_count": null,
   "metadata": {
    "ExecuteTime": {
     "end_time": "2021-03-31T12:46:12.726695Z",
     "start_time": "2021-03-31T12:46:12.723261Z"
    }
   },
   "outputs": [],
   "source": [
    "the_white = Cat.white_cat(\"the_white\")\n",
    "the_white.yell()"
   ]
  },
  {
   "cell_type": "markdown",
   "metadata": {
    "ExecuteTime": {
     "end_time": "2021-03-29T16:33:46.751503Z",
     "start_time": "2021-03-29T16:33:46.749024Z"
    }
   },
   "source": [
    "## 類別總覽"
   ]
  },
  {
   "cell_type": "code",
   "execution_count": null,
   "metadata": {
    "ExecuteTime": {
     "end_time": "2021-03-29T16:33:53.939457Z",
     "start_time": "2021-03-29T16:33:53.935383Z"
    }
   },
   "outputs": [],
   "source": [
    "# class\n",
    "class ClassTest():\n",
    "    number = 0 # variable of class, it can influence all instance\n",
    "    \n",
    "    def __init__(self, word)\n",
    "        self.word = word # variable of instance, only be used in each instance\n",
    "        self.__class__.number += 1 # call the variable of class 'number'\n",
    "    \n",
    "    def __str__(self)\n",
    "        \"\"\"\n",
    "        跟 toString 類似概念，可以自定義物件描述，每次 print(物件) or str(物件)，都會回傳這個結果\n",
    "        \"\"\"\n",
    "    \n",
    "    def __repr__(self)\n",
    "        \"\"\"\n",
    "        呼叫物件時會顯示的樣貌，在沒有 __str__ 的時候，print(物件) or str(物件)，也會回傳這個結果\n",
    "        是很好的 debug 工具喔\n",
    "        \"\"\"\n",
    "    \n",
    "    def instance_method(self)\n",
    "        \"\"\"\n",
    "        最常用，必須接受self參數．該方法被呼叫時會指向實體\n",
    "        \"\"\"\n",
    "    \n",
    "    @staticmethod\n",
    "    def static_method()\n",
    "        \"\"\"\n",
    "        不必實例化，可以直接使用，透過 class.method 呼叫\n",
    "        \"\"\"\n",
    "    \n",
    "    @classmethod\n",
    "    def class_method(cls)\n",
    "        \"\"\"\n",
    "        可在此方法內做一個實例，也就是呼叫此方法就會產生一個實例，透過 class.method 呼叫\n",
    "        \"\"\"\n",
    "        cls()\n",
    "\n",
    "# instance\n",
    "test = ClassTest(\"test\")\n",
    "test.number # 這是被實踐過後的實體變數\n",
    "test.__class__.number # 這是類別變數"
   ]
  },
  {
   "cell_type": "markdown",
   "metadata": {},
   "source": [
    "# Practices\n",
    "```\n",
    "[ 請透過 Pycharm ]\n",
    "建立一個汽車的類別\n",
    "要有車款、顏色、幾人座、價位、當前速度、最高速度、馬力、能源、能源上限、狀態(行駛中、停車中)\n",
    "要可以加速、減速等等、充能...\n",
    "\n",
    "並實體化一個\n",
    "```  "
   ]
  },
  {
   "cell_type": "code",
   "execution_count": null,
   "metadata": {},
   "outputs": [],
   "source": []
  }
 ],
 "metadata": {
  "kernelspec": {
   "display_name": "Python 3",
   "language": "python",
   "name": "python3"
  },
  "language_info": {
   "codemirror_mode": {
    "name": "ipython",
    "version": 3
   },
   "file_extension": ".py",
   "mimetype": "text/x-python",
   "name": "python",
   "nbconvert_exporter": "python",
   "pygments_lexer": "ipython3",
   "version": "3.7.3"
  },
  "toc": {
   "base_numbering": 1,
   "nav_menu": {},
   "number_sections": true,
   "sideBar": true,
   "skip_h1_title": false,
   "title_cell": "Table of Contents",
   "title_sidebar": "Contents",
   "toc_cell": false,
   "toc_position": {},
   "toc_section_display": true,
   "toc_window_display": false
  },
  "varInspector": {
   "cols": {
    "lenName": 16,
    "lenType": 16,
    "lenVar": 40
   },
   "kernels_config": {
    "python": {
     "delete_cmd_postfix": "",
     "delete_cmd_prefix": "del ",
     "library": "var_list.py",
     "varRefreshCmd": "print(var_dic_list())"
    },
    "r": {
     "delete_cmd_postfix": ") ",
     "delete_cmd_prefix": "rm(",
     "library": "var_list.r",
     "varRefreshCmd": "cat(var_dic_list()) "
    }
   },
   "types_to_exclude": [
    "module",
    "function",
    "builtin_function_or_method",
    "instance",
    "_Feature"
   ],
   "window_display": false
  }
 },
 "nbformat": 4,
 "nbformat_minor": 2
}
