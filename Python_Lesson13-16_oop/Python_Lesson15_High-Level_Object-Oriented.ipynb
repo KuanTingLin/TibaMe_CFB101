{
 "cells": [
  {
   "cell_type": "markdown",
   "metadata": {
    "ExecuteTime": {
     "end_time": "2021-03-27T03:51:33.786419Z",
     "start_time": "2021-03-27T03:51:33.783774Z"
    }
   },
   "source": [
    "# 物件導向"
   ]
  },
  {
   "cell_type": "markdown",
   "metadata": {},
   "source": [
    "## 封裝(encapsulation)"
   ]
  },
  {
   "cell_type": "markdown",
   "metadata": {},
   "source": [
    "### __"
   ]
  },
  {
   "cell_type": "code",
   "execution_count": null,
   "metadata": {
    "ExecuteTime": {
     "end_time": "2021-04-03T04:19:06.298612Z",
     "start_time": "2021-04-03T04:19:06.295705Z"
    }
   },
   "outputs": [],
   "source": [
    "# __xxx 無法被使用，無法被修改\n",
    "class Cat:\n",
    "    def __init__(self, name):\n",
    "        self.__name = name"
   ]
  },
  {
   "cell_type": "code",
   "execution_count": null,
   "metadata": {
    "ExecuteTime": {
     "end_time": "2021-04-03T04:18:49.293149Z",
     "start_time": "2021-04-03T04:18:49.267745Z"
    }
   },
   "outputs": [],
   "source": [
    "cat = Cat(\"黑貓\")\n",
    "cat.__name"
   ]
  },
  {
   "cell_type": "markdown",
   "metadata": {},
   "source": [
    "### 接口"
   ]
  },
  {
   "cell_type": "code",
   "execution_count": null,
   "metadata": {
    "ExecuteTime": {
     "end_time": "2021-04-02T10:21:46.212203Z",
     "start_time": "2021-04-02T10:21:46.209072Z"
    }
   },
   "outputs": [],
   "source": [
    "# 開一個接口\n",
    "\n",
    "class Cat:\n",
    "    def __init__(self, name):\n",
    "        self.__name = name\n",
    "        \n",
    "    def name(self):\n",
    "        return self.__name"
   ]
  },
  {
   "cell_type": "code",
   "execution_count": null,
   "metadata": {
    "ExecuteTime": {
     "end_time": "2021-04-02T10:29:00.970631Z",
     "start_time": "2021-04-02T10:29:00.967006Z"
    }
   },
   "outputs": [],
   "source": [
    "cat = Cat(\"黑貓\")\n",
    "cat.name()"
   ]
  },
  {
   "cell_type": "markdown",
   "metadata": {},
   "source": [
    "### getter & setter"
   ]
  },
  {
   "cell_type": "code",
   "execution_count": null,
   "metadata": {
    "ExecuteTime": {
     "end_time": "2021-04-02T10:34:16.447767Z",
     "start_time": "2021-04-02T10:34:16.444679Z"
    }
   },
   "outputs": [],
   "source": [
    "# getter & setter\n",
    "\n",
    "class Cat:\n",
    "    def __init__(self, name):\n",
    "        self.__name = name\n",
    "        \n",
    "    def name(self):\n",
    "        return self.__name\n",
    "    \n",
    "    def set_name(self, name):\n",
    "        self.__name = name\n",
    "        return self.__name"
   ]
  },
  {
   "cell_type": "code",
   "execution_count": null,
   "metadata": {
    "ExecuteTime": {
     "end_time": "2021-04-02T10:34:16.829720Z",
     "start_time": "2021-04-02T10:34:16.825532Z"
    }
   },
   "outputs": [],
   "source": [
    "cat = Cat(\"黑貓\")\n",
    "cat.set_name(\"白貓\")\n",
    "cat.name()"
   ]
  },
  {
   "cell_type": "markdown",
   "metadata": {},
   "source": [
    "### property"
   ]
  },
  {
   "cell_type": "code",
   "execution_count": null,
   "metadata": {
    "ExecuteTime": {
     "end_time": "2021-04-02T10:47:11.377557Z",
     "start_time": "2021-04-02T10:47:11.374407Z"
    }
   },
   "outputs": [],
   "source": [
    "# property\n",
    "class Cat:\n",
    "    def __init__(self, name):\n",
    "        self.__name = name\n",
    "        \n",
    "    @property\n",
    "    def name(self):\n",
    "        return self.__name"
   ]
  },
  {
   "cell_type": "code",
   "execution_count": null,
   "metadata": {
    "ExecuteTime": {
     "end_time": "2021-04-02T10:47:11.557826Z",
     "start_time": "2021-04-02T10:47:11.553686Z"
    }
   },
   "outputs": [],
   "source": [
    "cat = Cat(\"黑貓\")\n",
    "cat.name"
   ]
  },
  {
   "cell_type": "markdown",
   "metadata": {},
   "source": [
    "### property.setter"
   ]
  },
  {
   "cell_type": "code",
   "execution_count": null,
   "metadata": {
    "ExecuteTime": {
     "end_time": "2021-04-02T13:36:01.596423Z",
     "start_time": "2021-04-02T13:36:01.592827Z"
    }
   },
   "outputs": [],
   "source": [
    "# property\n",
    "class Cat:\n",
    "    def __init__(self, name):\n",
    "        self.__name = name\n",
    "        \n",
    "    @property\n",
    "    def name(self):\n",
    "        return self.__name\n",
    "    \n",
    "    @name.setter\n",
    "    def name(self, name):\n",
    "        self.__name = name\n",
    "        return None"
   ]
  },
  {
   "cell_type": "code",
   "execution_count": null,
   "metadata": {
    "ExecuteTime": {
     "end_time": "2021-04-02T13:36:01.840367Z",
     "start_time": "2021-04-02T13:36:01.836412Z"
    }
   },
   "outputs": [],
   "source": [
    "cat = Cat(\"黑貓\")\n",
    "cat.name = \"白貓\"\n",
    "cat.name"
   ]
  },
  {
   "cell_type": "code",
   "execution_count": null,
   "metadata": {
    "ExecuteTime": {
     "end_time": "2021-04-02T13:36:39.259093Z",
     "start_time": "2021-04-02T13:36:39.255225Z"
    }
   },
   "outputs": [],
   "source": [
    "[x for x in dir(cat) if x.startswith(\"_Cat\")]"
   ]
  },
  {
   "cell_type": "markdown",
   "metadata": {
    "ExecuteTime": {
     "end_time": "2021-04-02T12:32:41.128653Z",
     "start_time": "2021-04-02T12:32:41.126662Z"
    }
   },
   "source": [
    "## 繼承(inheritance)"
   ]
  },
  {
   "cell_type": "code",
   "execution_count": null,
   "metadata": {
    "ExecuteTime": {
     "end_time": "2021-04-02T13:49:01.025568Z",
     "start_time": "2021-04-02T13:49:01.019475Z"
    }
   },
   "outputs": [],
   "source": [
    "class Book:\n",
    "    def __init__(self, name, author, publication_date, pages):\n",
    "        self.__name = name\n",
    "        self.__author = author\n",
    "        self.__publication_date = publication_date\n",
    "        self.__pages = pages\n",
    "        self.__bookmark = 1\n",
    "    \n",
    "    @property\n",
    "    def name(self):\n",
    "        return self.__name\n",
    "    \n",
    "    @property\n",
    "    def author(self):\n",
    "        return self.__author\n",
    "    \n",
    "    @property\n",
    "    def publication_date(self):\n",
    "        return self.__publication_date\n",
    "    \n",
    "    @property\n",
    "    def pages(self):\n",
    "        return self.__pages\n",
    "    \n",
    "    @property\n",
    "    def bookmark(self):\n",
    "        return self.__bookmark\n",
    "\n",
    "    @bookmark.setter\n",
    "    def bookmark(self, page):\n",
    "        if page > self.__pages:\n",
    "            return \"No such page.\"\n",
    "        else:\n",
    "            self.__bookmark = page\n",
    "            return \"Turn to page {}\".format(page)\n",
    "        \n",
    "    def read(self, pages):\n",
    "        if (self.bookmark + pages) > self.pages:\n",
    "            self.bookmark = self.pages\n",
    "        self.bookmark += pages\n",
    "        return self.bookmark"
   ]
  },
  {
   "cell_type": "code",
   "execution_count": null,
   "metadata": {
    "ExecuteTime": {
     "end_time": "2021-04-02T13:49:01.431797Z",
     "start_time": "2021-04-02T13:49:01.425196Z"
    }
   },
   "outputs": [],
   "source": [
    "class Novel(Book):\n",
    "    def __init__(self, name, author, publication_date, pages, place, genre):\n",
    "        super().__init__(name, author, publication_date, pages)\n",
    "        self.__place = place\n",
    "        self.__genre = genre\n",
    "    \n",
    "    @property\n",
    "    def place(self):\n",
    "        return self.__place\n",
    "    \n",
    "    @property\n",
    "    def genre(self):\n",
    "        return self.__genre\n",
    "    \n",
    "    def detail(self):\n",
    "        details = \"\"\"\n",
    "        書名 = {}\n",
    "        作者 = {}\n",
    "        出版日期 = {}\n",
    "        總頁數 = {}\n",
    "        出版地點 = {}\n",
    "        類型 = {}\n",
    "        \"\"\".format(self.name, \n",
    "                   self.author, \n",
    "                   self.publication_date, \n",
    "                   self.pages, \n",
    "                   self.place, \n",
    "                   self.genre)\n",
    "        return details"
   ]
  },
  {
   "cell_type": "code",
   "execution_count": null,
   "metadata": {
    "ExecuteTime": {
     "end_time": "2021-04-02T13:49:02.710898Z",
     "start_time": "2021-04-02T13:49:02.707689Z"
    }
   },
   "outputs": [],
   "source": [
    "pandora = Novel(\"潘朵拉\", \"Timothy\", \"2019/01/01\", 100, \"台北\", \"magic\")\n",
    "print(pandora.detail())"
   ]
  },
  {
   "cell_type": "markdown",
   "metadata": {},
   "source": [
    "## 抽象類別(abstract class)"
   ]
  },
  {
   "cell_type": "code",
   "execution_count": null,
   "metadata": {
    "ExecuteTime": {
     "end_time": "2021-04-02T14:15:06.023064Z",
     "start_time": "2021-04-02T14:15:06.017156Z"
    }
   },
   "outputs": [],
   "source": [
    "import abc\n",
    "class Book(abc.ABC):\n",
    "    def __init__(self, name, author, publication_date, pages):\n",
    "        self.__name = name\n",
    "        self.__author = author\n",
    "        self.__publication_date = publication_date\n",
    "        self.__pages = pages\n",
    "        self.__bookmark = 1\n",
    "\n",
    "    @abc.abstractmethod\n",
    "    def detail(self):\n",
    "        \"\"\"\n",
    "        output book's metadata\n",
    "        \"\"\"\n",
    "    \n",
    "    @property\n",
    "    def name(self):\n",
    "        return self.__name\n",
    "    \n",
    "    @property\n",
    "    def author(self):\n",
    "        return self.__author\n",
    "    \n",
    "    @property\n",
    "    def publication_date(self):\n",
    "        return self.__publication_date\n",
    "    \n",
    "    @property\n",
    "    def pages(self):\n",
    "        return self.__pages\n",
    "    \n",
    "    @property\n",
    "    def bookmark(self):\n",
    "        return self.__bookmark\n",
    "\n",
    "    @bookmark.setter\n",
    "    def bookmark(self, page):\n",
    "        self.__bookmark = page"
   ]
  },
  {
   "cell_type": "code",
   "execution_count": null,
   "metadata": {
    "ExecuteTime": {
     "end_time": "2021-04-02T15:22:39.451077Z",
     "start_time": "2021-04-02T15:22:39.445821Z"
    },
    "code_folding": []
   },
   "outputs": [],
   "source": [
    "class Novel(Book):\n",
    "    def __init__(self, name, author, publication_date, pages, place, genre):\n",
    "        super().__init__(name, author, publication_date, pages)\n",
    "        self.__place = place\n",
    "        self.__genre = genre\n",
    "    \n",
    "    @property\n",
    "    def place(self):\n",
    "        return self.__place\n",
    "    \n",
    "    @property\n",
    "    def genre(self):\n",
    "        return self.__genre\n",
    "    \n",
    "    def detail(self):\n",
    "        details = \"\"\"\n",
    "        書名 = {}\n",
    "        作者 = {}\n",
    "        出版日期 = {}\n",
    "        總頁數 = {}\n",
    "        出版地點 = {}\n",
    "        類型 = {}\n",
    "        \"\"\".format(self.name, \n",
    "                   self.author, \n",
    "                   self.publication_date, \n",
    "                   self.pages, \n",
    "                   self.place, \n",
    "                   self.genre)\n",
    "        return details"
   ]
  },
  {
   "cell_type": "code",
   "execution_count": null,
   "metadata": {
    "ExecuteTime": {
     "end_time": "2021-04-02T14:15:07.371494Z",
     "start_time": "2021-04-02T14:15:07.365039Z"
    }
   },
   "outputs": [],
   "source": [
    "pandora = Novel(\"潘朵拉\", \"Timothy\", \"2019/01/01\", 100, \"台北\", \"magic\")"
   ]
  },
  {
   "cell_type": "markdown",
   "metadata": {
    "ExecuteTime": {
     "end_time": "2021-04-02T14:27:53.002167Z",
     "start_time": "2021-04-02T14:27:52.994141Z"
    }
   },
   "source": [
    "## polymorphism(多型)"
   ]
  },
  {
   "cell_type": "code",
   "execution_count": null,
   "metadata": {
    "ExecuteTime": {
     "end_time": "2021-04-02T15:22:41.489145Z",
     "start_time": "2021-04-02T15:22:41.483078Z"
    },
    "code_folding": []
   },
   "outputs": [],
   "source": [
    "class ComicBook(Book):\n",
    "    def __init__(self, name, author, publication_date, pages, place, genre, script=None):\n",
    "        super().__init__(name, author, publication_date, pages)\n",
    "        self.__place = place\n",
    "        self.__genre = genre\n",
    "        self.__script = script if script else author\n",
    "    \n",
    "    @property\n",
    "    def script(self):\n",
    "        return self.__script\n",
    "    \n",
    "    @property\n",
    "    def place(self):\n",
    "        return self.__place\n",
    "    \n",
    "    @property\n",
    "    def genre(self):\n",
    "        return self.__genre\n",
    "    \n",
    "    def detail(self):\n",
    "        details = \"\"\"\n",
    "        書名 = {}\n",
    "        作畫 = {}\n",
    "        劇本 = {}\n",
    "        出版日期 = {}\n",
    "        總頁數 = {}\n",
    "        出版地點 = {}\n",
    "        類型 = {}\n",
    "        \"\"\".format(self.name, \n",
    "                   self.author, \n",
    "                   self.script,\n",
    "                   self.publication_date, \n",
    "                   self.pages, \n",
    "                   self.place, \n",
    "                   self.genre)\n",
    "        return details"
   ]
  },
  {
   "cell_type": "code",
   "execution_count": null,
   "metadata": {
    "ExecuteTime": {
     "end_time": "2021-04-02T15:22:59.864838Z",
     "start_time": "2021-04-02T15:22:59.861206Z"
    }
   },
   "outputs": [],
   "source": [
    "pandora = Novel(\"潘朵拉\", \"Timothy\", \"2019/01/01\", 100, \"台北\", \"magic\")\n",
    "print(pandora.detail())\n",
    "\n",
    "hunter = ComicBook(\"獵人\", \"休刊魔王\", \"2019/01/01\", 100, \"台北\", \"magic\")\n",
    "print(hunter.detail())"
   ]
  },
  {
   "cell_type": "markdown",
   "metadata": {},
   "source": [
    "# Practices\n",
    "```\n",
    "[ 請透過 Pycharm ]\n",
    "將上個章節的汽車類別改成 abstract class\n",
    "並透過該抽象類別建立三種以上的不同類別\n",
    "並各自實體化\n",
    "```  "
   ]
  },
  {
   "cell_type": "code",
   "execution_count": null,
   "metadata": {},
   "outputs": [],
   "source": []
  }
 ],
 "metadata": {
  "kernelspec": {
   "display_name": "Python 3",
   "language": "python",
   "name": "python3"
  },
  "language_info": {
   "codemirror_mode": {
    "name": "ipython",
    "version": 3
   },
   "file_extension": ".py",
   "mimetype": "text/x-python",
   "name": "python",
   "nbconvert_exporter": "python",
   "pygments_lexer": "ipython3",
   "version": "3.7.3"
  },
  "toc": {
   "base_numbering": 1,
   "nav_menu": {},
   "number_sections": true,
   "sideBar": true,
   "skip_h1_title": false,
   "title_cell": "Table of Contents",
   "title_sidebar": "Contents",
   "toc_cell": false,
   "toc_position": {},
   "toc_section_display": true,
   "toc_window_display": true
  },
  "varInspector": {
   "cols": {
    "lenName": 16,
    "lenType": 16,
    "lenVar": 40
   },
   "kernels_config": {
    "python": {
     "delete_cmd_postfix": "",
     "delete_cmd_prefix": "del ",
     "library": "var_list.py",
     "varRefreshCmd": "print(var_dic_list())"
    },
    "r": {
     "delete_cmd_postfix": ") ",
     "delete_cmd_prefix": "rm(",
     "library": "var_list.r",
     "varRefreshCmd": "cat(var_dic_list()) "
    }
   },
   "types_to_exclude": [
    "module",
    "function",
    "builtin_function_or_method",
    "instance",
    "_Feature"
   ],
   "window_display": false
  }
 },
 "nbformat": 4,
 "nbformat_minor": 2
}
