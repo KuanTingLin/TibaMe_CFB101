{
 "cells": [
  {
   "cell_type": "markdown",
   "metadata": {
    "ExecuteTime": {
     "end_time": "2021-03-27T03:51:33.786419Z",
     "start_time": "2021-03-27T03:51:33.783774Z"
    }
   },
   "source": [
    "# Exception"
   ]
  },
  {
   "cell_type": "code",
   "execution_count": null,
   "metadata": {
    "ExecuteTime": {
     "end_time": "2021-04-03T08:13:45.257807Z",
     "start_time": "2021-04-03T08:13:45.255666Z"
    }
   },
   "outputs": [],
   "source": [
    "a = [1, 2, 3, 4]"
   ]
  },
  {
   "cell_type": "code",
   "execution_count": null,
   "metadata": {
    "ExecuteTime": {
     "end_time": "2021-04-03T08:13:52.895823Z",
     "start_time": "2021-04-03T08:13:52.812988Z"
    }
   },
   "outputs": [],
   "source": [
    "a[5]"
   ]
  },
  {
   "cell_type": "code",
   "execution_count": null,
   "metadata": {},
   "outputs": [],
   "source": [
    "1 / 0"
   ]
  },
  {
   "cell_type": "markdown",
   "metadata": {},
   "source": [
    "## try, except, finally"
   ]
  },
  {
   "cell_type": "code",
   "execution_count": null,
   "metadata": {},
   "outputs": [],
   "source": [
    "try:\n",
    "    [1, 2, 3, 4][5]\n",
    "except:\n",
    "    print(\"Some exception happened...\")\n",
    "finally:\n",
    "    print(\"Even so, life must go on\")"
   ]
  },
  {
   "cell_type": "markdown",
   "metadata": {},
   "source": [
    "## 抓取特定例外"
   ]
  },
  {
   "cell_type": "code",
   "execution_count": null,
   "metadata": {},
   "outputs": [],
   "source": [
    "try:\n",
    "    [1, 2, 3, 4][5] \n",
    "except ValueError:\n",
    "    print(\"value error is happening\")\n",
    "except IndexError:\n",
    "    print(\"index error is happening\")"
   ]
  },
  {
   "cell_type": "markdown",
   "metadata": {},
   "source": [
    "### 抓取多個特定例外"
   ]
  },
  {
   "cell_type": "code",
   "execution_count": null,
   "metadata": {},
   "outputs": [],
   "source": [
    "try:\n",
    "    [1, 2, 3, 4][5] \n",
    "except (ValueError, IndexError):\n",
    "    print(\"value or index error is happening\")"
   ]
  },
  {
   "cell_type": "markdown",
   "metadata": {},
   "source": [
    "## 例外訊息"
   ]
  },
  {
   "cell_type": "code",
   "execution_count": null,
   "metadata": {},
   "outputs": [],
   "source": [
    "try:\n",
    "    [1, 2, 3, 4][5] \n",
    "except Exception as e:\n",
    "    k = e\n",
    "    print(e.args)\n",
    "    # e.with_traceback() 回傳錯誤及詳細內容"
   ]
  },
  {
   "cell_type": "code",
   "execution_count": null,
   "metadata": {},
   "outputs": [],
   "source": [
    "import sys\n",
    "try:\n",
    "    [1, 2, 3, 4][5] \n",
    "except Exception as e:\n",
    "    exception_type, exception, exc_traceback = sys.exc_info()\n",
    "    print(exception_type)\n",
    "    print(exception)\n",
    "    print(\"line {} exception: {}\".format(exc_tb.tb_lineno, e.args[0]))"
   ]
  },
  {
   "cell_type": "markdown",
   "metadata": {},
   "source": [
    "## 發起錯誤"
   ]
  },
  {
   "cell_type": "code",
   "execution_count": null,
   "metadata": {},
   "outputs": [],
   "source": [
    "check_data = 5\n",
    "try:\n",
    "    if check_data not in [1, 2, 3, 4]:\n",
    "        raise ValueError(\"Error number {}\".format(check_data))\n",
    "except ValueError as e:\n",
    "    print(\"line {} exception: {}\".format(exc_tb.tb_lineno, e.args[0]))"
   ]
  },
  {
   "cell_type": "code",
   "execution_count": null,
   "metadata": {},
   "outputs": [],
   "source": [
    "check_data = 5\n",
    "try:\n",
    "    if check_data not in [1, 2, 3, 4]:\n",
    "        raise ValueError(\"Error number\", check_data)\n",
    "except ValueError as e:\n",
    "    print(\"line {} exception: {}\".format(exc_tb.tb_lineno, e.args))"
   ]
  },
  {
   "cell_type": "markdown",
   "metadata": {},
   "source": [
    "## 自訂錯誤"
   ]
  },
  {
   "cell_type": "code",
   "execution_count": null,
   "metadata": {},
   "outputs": [],
   "source": [
    "class NotMyCatError(BaseException):\n",
    "    ..."
   ]
  },
  {
   "cell_type": "code",
   "execution_count": null,
   "metadata": {},
   "outputs": [],
   "source": [
    "raise NotMyCatError(\"not my cat!\")"
   ]
  },
  {
   "cell_type": "code",
   "execution_count": null,
   "metadata": {},
   "outputs": [],
   "source": [
    "try:\n",
    "    name = input()\n",
    "    if name != \"Natasha\":\n",
    "        raise NotMyCatError(name, \"is not my cat!\")\n",
    "except NotMyCatError as e:\n",
    "    print(\"line {} exception: {}\".format(exc_tb.tb_lineno, e.args))"
   ]
  },
  {
   "cell_type": "markdown",
   "metadata": {},
   "source": [
    "# file format"
   ]
  },
  {
   "cell_type": "markdown",
   "metadata": {},
   "source": [
    "# read write"
   ]
  },
  {
   "cell_type": "code",
   "execution_count": null,
   "metadata": {},
   "outputs": [],
   "source": [
    "file_path = \"./readwrite.txt\"\n",
    "\n",
    "with open(file_path, mode='w') as f:  #-->write\n",
    "    f.write(\"line 1\\n\")"
   ]
  },
  {
   "cell_type": "code",
   "execution_count": null,
   "metadata": {},
   "outputs": [],
   "source": [
    "with open(file_path, mode='a') as f:  #-->append\n",
    "    f.write(\"line 2\")"
   ]
  },
  {
   "cell_type": "code",
   "execution_count": null,
   "metadata": {},
   "outputs": [],
   "source": [
    "with open(file_path, mode='r') as f:  #-->read\n",
    "    print(f.read(-1))  #--> If n is negative or omitted, read until EOF."
   ]
  },
  {
   "cell_type": "code",
   "execution_count": null,
   "metadata": {},
   "outputs": [],
   "source": [
    "with open(file_path, mode='r') as f:  #-->read\n",
    "    print(f.readline()) #--> return once a line as a string object \n",
    "    print(f.readline())"
   ]
  },
  {
   "cell_type": "code",
   "execution_count": null,
   "metadata": {},
   "outputs": [],
   "source": [
    "with open(file_path, mode='r') as f:  #-->read\n",
    "    print(f.readlines()) #--> Return a list of lines from the stream."
   ]
  },
  {
   "cell_type": "markdown",
   "metadata": {},
   "source": [
    "### csv"
   ]
  },
  {
   "cell_type": "markdown",
   "metadata": {},
   "source": [
    "#### csv 寫檔"
   ]
  },
  {
   "cell_type": "code",
   "execution_count": null,
   "metadata": {},
   "outputs": [],
   "source": [
    "import csv"
   ]
  },
  {
   "cell_type": "code",
   "execution_count": null,
   "metadata": {},
   "outputs": [],
   "source": [
    "csv_file_path = \"./csv_file.csv\"\n",
    "with open(csv_file_path, mode='w') as f:  #-->write\n",
    "    writer = csv.writer(f, delimiter=',')\n",
    "    writer.writerow([\"id\", \"name\", \"price\"])\n",
    "    writer.writerow([\"0001\", \"麥片\", \"200\"])"
   ]
  },
  {
   "cell_type": "code",
   "execution_count": null,
   "metadata": {},
   "outputs": [],
   "source": [
    "# 寫入多行\n",
    "with open(csv_file_path, mode='a') as f:  #-->write\n",
    "    writer = csv.writer(f)\n",
    "    writer.writerows([[\"0002\", \"乖乖\", \"30\"],\n",
    "                      [\"0003\", \"品客\", \"25\"]])"
   ]
  },
  {
   "cell_type": "code",
   "execution_count": null,
   "metadata": {},
   "outputs": [],
   "source": [
    "with open(csv_file_path, mode='a') as f:  #-->write\n",
    "    writer = csv.DictWriter(f, fieldnames=[\"id\", \"name\", \"price\"], delimiter=',')\n",
    "    # writer.writeheader()\n",
    "    writer.writerow({\"id\": \"0004\", \"name\": \"馬克杯\", \"price\": \"150\"})\n",
    "    writer.writerows([{\"id\": \"0005\", \"name\": \"小夜燈\", \"price\": \"500\"},\n",
    "                      {\"id\": \"0006\", \"name\": \"手綁帶\", \"price\": \"327\"}])"
   ]
  },
  {
   "cell_type": "code",
   "execution_count": null,
   "metadata": {},
   "outputs": [],
   "source": [
    "from collections.abc import Iterator, Iterable, Generator\n",
    "with open(csv_file_path, mode='r') as f:  #-->read\n",
    "    rows = csv.reader(f)\n",
    "    print(isinstance(rows, Iterator))\n",
    "    [print(row) for row in rows]"
   ]
  },
  {
   "cell_type": "code",
   "execution_count": null,
   "metadata": {},
   "outputs": [],
   "source": [
    "with open(csv_file_path, mode='r') as f:  #-->read\n",
    "    rows = csv.DictReader(f)\n",
    "    print(isinstance(rows, Iterator))\n",
    "    [print(row) for row in rows]"
   ]
  },
  {
   "cell_type": "markdown",
   "metadata": {},
   "source": [
    "# context manager"
   ]
  },
  {
   "cell_type": "code",
   "execution_count": null,
   "metadata": {},
   "outputs": [],
   "source": [
    "f = open(csv_file_path)\n",
    "f.close()"
   ]
  },
  {
   "cell_type": "code",
   "execution_count": null,
   "metadata": {},
   "outputs": [],
   "source": [
    "class MyOpen():\n",
    "    def __init__(self, filename):\n",
    "        self.filename = filename\n",
    "    def __enter__(self):\n",
    "        self.file = open(self.filename)\n",
    "        return self.file\n",
    "    def __exit__(self, exc_type, exc_value, traceback):\n",
    "        self.file.close()\n"
   ]
  },
  {
   "cell_type": "code",
   "execution_count": null,
   "metadata": {},
   "outputs": [],
   "source": [
    "from contextlib import contextmanager\n",
    "@contextmanager"
   ]
  },
  {
   "cell_type": "code",
   "execution_count": null,
   "metadata": {},
   "outputs": [],
   "source": []
  },
  {
   "cell_type": "markdown",
   "metadata": {},
   "source": [
    "# 練習"
   ]
  },
  {
   "cell_type": "markdown",
   "metadata": {
    "ExecuteTime": {
     "end_time": "2021-04-21T17:26:23.281471Z",
     "start_time": "2021-04-21T17:26:23.278054Z"
    }
   },
   "source": [
    "## 練習一\n",
    "```\n",
    "建立數字轉中文的 function\n",
    "加上 try except 判斷數字是否超過可處理範圍\n",
    "```"
   ]
  },
  {
   "cell_type": "markdown",
   "metadata": {},
   "source": [
    "## 練習二\n",
    "```\n",
    "透過 csv 模組，寫出 tsv 檔案，\n",
    "Hint: 分隔符號： \\t\n",
    "```"
   ]
  },
  {
   "cell_type": "code",
   "execution_count": null,
   "metadata": {},
   "outputs": [],
   "source": []
  },
  {
   "cell_type": "markdown",
   "metadata": {},
   "source": [
    "## 練習三\n",
    "```\n",
    "接續迴圈作業，讀入 for_loop_test\n",
    "將資料整理成如下格式\n",
    "\n",
    "'第一層, 第二層, 第三層, 第四層'\n",
    "...\n",
    "```\n",
    "### 每一層底下都有複數層，每個第一層下都有多個第二層，每個第二層下都有多個第三層，依此類推\n",
    "\n",
    "### 輸出結果：\n",
    "```\n",
    "手機/相機/耳機/穿戴,手機,Apple,品牌\n",
    "手機/相機/耳機/穿戴,手機,Apple,顏色\n",
    "手機/相機/耳機/穿戴,手機,Apple,手機類型\n",
    "手機/相機/耳機/穿戴,手機,Apple,螢幕尺寸\n",
    "手機/相機/耳機/穿戴,手機,Apple,ROM/內建儲存空間\n",
    "手機/相機/耳機/穿戴,手機,Apple,處理器類型\n",
    "手機/相機/耳機/穿戴,手機,Apple,主相機畫素\n",
    "手機/相機/耳機/穿戴,手機,三星SAMSUNG,品牌\n",
    "手機/相機/耳機/穿戴,手機,三星SAMSUNG,顏色\n",
    "手機/相機/耳機/穿戴,手機,三星SAMSUNG,主相機畫素\n",
    "手機/相機/耳機/穿戴,手機,三星SAMSUNG,手機類型\n",
    "手機/相機/耳機/穿戴,手機,三星SAMSUNG,螢幕尺寸\n",
    "手機/相機/耳機/穿戴,手機,三星SAMSUNG,ROM/內建儲存空間\n",
    "手機/相機/耳機/穿戴,手機,三星SAMSUNG,處理器類型\n",
    "...\n",
    "```"
   ]
  },
  {
   "cell_type": "code",
   "execution_count": null,
   "metadata": {},
   "outputs": [],
   "source": [
    "source_path = \"./for_loop_test.txt\""
   ]
  }
 ],
 "metadata": {
  "kernelspec": {
   "display_name": "Python 3",
   "language": "python",
   "name": "python3"
  },
  "language_info": {
   "codemirror_mode": {
    "name": "ipython",
    "version": 3
   },
   "file_extension": ".py",
   "mimetype": "text/x-python",
   "name": "python",
   "nbconvert_exporter": "python",
   "pygments_lexer": "ipython3",
   "version": "3.7.3"
  },
  "toc": {
   "base_numbering": 1,
   "nav_menu": {},
   "number_sections": true,
   "sideBar": true,
   "skip_h1_title": false,
   "title_cell": "Table of Contents",
   "title_sidebar": "Contents",
   "toc_cell": false,
   "toc_position": {},
   "toc_section_display": true,
   "toc_window_display": true
  },
  "varInspector": {
   "cols": {
    "lenName": 16,
    "lenType": 16,
    "lenVar": 40
   },
   "kernels_config": {
    "python": {
     "delete_cmd_postfix": "",
     "delete_cmd_prefix": "del ",
     "library": "var_list.py",
     "varRefreshCmd": "print(var_dic_list())"
    },
    "r": {
     "delete_cmd_postfix": ") ",
     "delete_cmd_prefix": "rm(",
     "library": "var_list.r",
     "varRefreshCmd": "cat(var_dic_list()) "
    }
   },
   "types_to_exclude": [
    "module",
    "function",
    "builtin_function_or_method",
    "instance",
    "_Feature"
   ],
   "window_display": false
  }
 },
 "nbformat": 4,
 "nbformat_minor": 2
}
