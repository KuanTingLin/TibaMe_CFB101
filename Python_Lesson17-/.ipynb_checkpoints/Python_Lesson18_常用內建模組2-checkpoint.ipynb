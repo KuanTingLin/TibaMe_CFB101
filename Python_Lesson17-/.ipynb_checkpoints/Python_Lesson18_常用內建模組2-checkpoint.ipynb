{
 "cells": [
  {
   "cell_type": "markdown",
   "metadata": {
    "ExecuteTime": {
     "end_time": "2021-03-27T03:51:33.786419Z",
     "start_time": "2021-03-27T03:51:33.783774Z"
    }
   },
   "source": [
    "# os\n",
    "> ### 基礎的系統操作套件"
   ]
  },
  {
   "cell_type": "code",
   "execution_count": null,
   "metadata": {
    "ExecuteTime": {
     "end_time": "2021-04-03T08:13:45.257807Z",
     "start_time": "2021-04-03T08:13:45.255666Z"
    }
   },
   "outputs": [],
   "source": [
    "import os"
   ]
  },
  {
   "cell_type": "code",
   "execution_count": null,
   "metadata": {},
   "outputs": [],
   "source": [
    "os.getcwd()"
   ]
  },
  {
   "cell_type": "markdown",
   "metadata": {},
   "source": [
    "## 取得路徑"
   ]
  },
  {
   "cell_type": "code",
   "execution_count": null,
   "metadata": {},
   "outputs": [],
   "source": [
    "current_path = os.getcwd() # 取得當前路徑\n",
    "new_path = os.path.abspath(\"./lesson18_test\") # 取得絕對路徑\n",
    "print(os.path.join(\"/aaa\", \"bbb\", \"ccc\")) # 路徑組合 (用 '/' 串接)"
   ]
  },
  {
   "cell_type": "markdown",
   "metadata": {},
   "source": [
    "## 判斷路徑"
   ]
  },
  {
   "cell_type": "code",
   "execution_count": null,
   "metadata": {},
   "outputs": [],
   "source": [
    "print(os.path.isabs(current_path)) # 是否為絕對路徑\n",
    "print(os.path.exists(current_path)) # 路徑是否存在\n",
    "print(os.path.isfile(current_path)) # 是否為檔案\n",
    "print(os.path.isdir(current_path)) # 是否為目錄\n",
    "print(os.path.islink(current_path)) # 是否為連結"
   ]
  },
  {
   "cell_type": "code",
   "execution_count": null,
   "metadata": {},
   "outputs": [],
   "source": [
    "file_count = 0\n",
    "dir_count = 0\n",
    "for name in os.listdir(current_path):\n",
    "    if os.path.isfile(name):\n",
    "        file_count +=1\n",
    "    elif os.path.isdir(name):\n",
    "        dir_count += 1\n",
    "\n",
    "print(\"file_count:\", file_count)\n",
    "print(\"dir_count:\", dir_count)"
   ]
  },
  {
   "cell_type": "markdown",
   "metadata": {},
   "source": [
    "## 列出路徑上層、下層、相關內容"
   ]
  },
  {
   "cell_type": "code",
   "execution_count": null,
   "metadata": {},
   "outputs": [],
   "source": [
    "os.path.dirname(current_path) # 列出上層路徑名稱\n",
    "os.listdir(current_path) # 展示路徑下一層所有內容\n",
    "[x for x in os.walk(current_path)] # 由淺至深一路找出目錄及檔案\n",
    "os.path.splitext(os.path.abspath(\"./temp.txt\")) # 列出副檔名，若為路徑則無"
   ]
  },
  {
   "cell_type": "markdown",
   "metadata": {},
   "source": [
    "## 建立及修改路徑"
   ]
  },
  {
   "cell_type": "code",
   "execution_count": null,
   "metadata": {},
   "outputs": [],
   "source": [
    "target_dir = os.path.join(os.path.dirname(source_dir), \"mkdir_test5\")"
   ]
  },
  {
   "cell_type": "code",
   "execution_count": null,
   "metadata": {},
   "outputs": [],
   "source": [
    "source_dir = os.path.abspath(\"./mkdir_test/mkdir_test2/mkdir_test3/mkdir_test4\")"
   ]
  },
  {
   "cell_type": "code",
   "execution_count": null,
   "metadata": {
    "scrolled": true
   },
   "outputs": [],
   "source": [
    "# os.mkdir(new_path) # 建立單層目錄\n",
    "# os.makedirs(new_path) # 建立多層目錄\n",
    "# target_path = os.path.join(os.path.dirname(new_path), \"lesson18_test2\")\n",
    "# os.rename(new_path, target_path) # 修改單層目錄或檔案名稱\n",
    "# os.renames(new_path, target_path) # 修改多層目錄或檔案名稱\n",
    "# os.remove(target_path) # 刪除檔案\n",
    "# os.rmdir(target_dir) # 刪除路徑"
   ]
  },
  {
   "cell_type": "code",
   "execution_count": null,
   "metadata": {},
   "outputs": [],
   "source": [
    "# 不適用於 jupyter notebook\n",
    "# os.path.dirname(__file__) # 當前檔案路徑"
   ]
  },
  {
   "cell_type": "markdown",
   "metadata": {},
   "source": [
    "# shutil\n",
    "> ### 高階的檔案管理工具\n",
    "> ### 檔案的複製、移動、刪除、壓縮"
   ]
  },
  {
   "cell_type": "markdown",
   "metadata": {},
   "source": [
    "## 複製"
   ]
  },
  {
   "cell_type": "code",
   "execution_count": null,
   "metadata": {},
   "outputs": [],
   "source": [
    "import shutil"
   ]
  },
  {
   "cell_type": "code",
   "execution_count": null,
   "metadata": {},
   "outputs": [],
   "source": [
    "source = os.path.abspath(\"/Users/timothylin/Timothy_note/教材/TibaMe\")\n",
    "destination = \"/Users/timothylin/Timothy_note/教材/TibaMe2\""
   ]
  },
  {
   "cell_type": "code",
   "execution_count": null,
   "metadata": {},
   "outputs": [],
   "source": [
    "# shutil.copyfile(source, destination) # 純粹的複製檔案內容\n",
    "# shutil.copymode(source, destination) # 複製檔案權限\n",
    "# shutil.copy(source_file, destination_path) # 複製檔案\n",
    "# shutil.copystat(source_file, destination_file) # 複製檔案所有資訊\n",
    "# shutil.copy2(source_file, destination_path) # 複製檔案及所有資訊\n",
    "# shutil.copytree(source_path, destination_path) # 完全複製整個資料夾"
   ]
  },
  {
   "cell_type": "markdown",
   "metadata": {},
   "source": [
    "## 移動"
   ]
  },
  {
   "cell_type": "code",
   "execution_count": null,
   "metadata": {},
   "outputs": [],
   "source": [
    "# shutil.move(source, destination) # 移動"
   ]
  },
  {
   "cell_type": "markdown",
   "metadata": {},
   "source": [
    "## 刪除"
   ]
  },
  {
   "cell_type": "code",
   "execution_count": null,
   "metadata": {},
   "outputs": [],
   "source": [
    "# shutil.rmtree(source_path) # 刪除資料夾及其內所有檔案"
   ]
  },
  {
   "cell_type": "markdown",
   "metadata": {},
   "source": [
    "## 壓縮"
   ]
  },
  {
   "cell_type": "code",
   "execution_count": null,
   "metadata": {},
   "outputs": [],
   "source": [
    "# 展示可壓縮類型\n",
    "shutil.get_archive_formats()"
   ]
  },
  {
   "cell_type": "code",
   "execution_count": null,
   "metadata": {},
   "outputs": [],
   "source": [
    "# 建立壓縮檔\n",
    "# archive_file = shutil.make_archive(base_name=\"test\",\n",
    "#                                    format=\"zip\",\n",
    "#                                    root_dir=\"/Users/timothylin/Timothy_note/教材/TibaMe2\",\n",
    "#                                    base_dir=None)\n",
    "# base_name: 壓縮檔名稱\n",
    "# format: 壓縮檔格式\n",
    "# root_dir: 欲壓縮內容路徑，若未指定則為當前目錄\n",
    "# base_dir: 壓縮檔存放位置，若未指定則為當前目錄"
   ]
  },
  {
   "cell_type": "code",
   "execution_count": null,
   "metadata": {},
   "outputs": [],
   "source": [
    "# archive_file"
   ]
  },
  {
   "cell_type": "code",
   "execution_count": null,
   "metadata": {},
   "outputs": [],
   "source": [
    "# 展示可解壓縮類型\n",
    "shutil.get_unpack_formats()"
   ]
  },
  {
   "cell_type": "code",
   "execution_count": null,
   "metadata": {},
   "outputs": [],
   "source": [
    "# 解壓縮\n",
    "# shutil.unpack_archive(filename=archive_file, \n",
    "#                       extract_dir='./test', \n",
    "#                       format='zip')\n",
    "# filename: 壓縮檔名稱\n",
    "# extract_dir: 壓縮後存放的位置\n",
    "# format: 壓縮格式"
   ]
  },
  {
   "cell_type": "markdown",
   "metadata": {},
   "source": [
    "# pathlib\n",
    "> ### 物件導向形式的檔案管理工具"
   ]
  },
  {
   "cell_type": "code",
   "execution_count": null,
   "metadata": {},
   "outputs": [],
   "source": [
    "from pathlib import Path"
   ]
  },
  {
   "cell_type": "markdown",
   "metadata": {},
   "source": [
    "## 取得路徑"
   ]
  },
  {
   "cell_type": "code",
   "execution_count": null,
   "metadata": {},
   "outputs": [],
   "source": [
    "current_path = Path.cwd() # 取得當前路徑\n",
    "new_path = Path(\"./lesson18_test\").resolve() # 取得絕對路徑\n",
    "current_path.joinpath(\"test\", \"lesson18_test\") # 路徑組合 (用 '/' 串接)"
   ]
  },
  {
   "cell_type": "markdown",
   "metadata": {},
   "source": [
    "## 判斷路徑"
   ]
  },
  {
   "cell_type": "code",
   "execution_count": null,
   "metadata": {},
   "outputs": [],
   "source": [
    "print(current_path.is_absolute()) # 是否為絕對路徑\n",
    "print(current_path.exists()) # 路徑是否存在\n",
    "print(current_path.is_file()) # 是否為檔案\n",
    "print(current_path.is_dir()) # 是否為目錄\n",
    "print(current_path.is_symlink()) # 是否為連結"
   ]
  },
  {
   "cell_type": "markdown",
   "metadata": {},
   "source": [
    "## 列出路徑上層、下層、相關內容"
   ]
  },
  {
   "cell_type": "code",
   "execution_count": null,
   "metadata": {},
   "outputs": [],
   "source": [
    "current_path.parent # 取得上層物件\n",
    "list(current_path.parents) # 取得所有上層物件的 iterator\n",
    "new_path.joinpath(\"./temp.txt\").suffix # 列出副檔名\n",
    "new_path.joinpath(\"./temp.txt\").suffixes # 列出副檔名們"
   ]
  },
  {
   "cell_type": "code",
   "execution_count": null,
   "metadata": {},
   "outputs": [],
   "source": []
  },
  {
   "cell_type": "markdown",
   "metadata": {},
   "source": [
    "## 建立及修改路徑"
   ]
  },
  {
   "cell_type": "code",
   "execution_count": null,
   "metadata": {},
   "outputs": [],
   "source": [
    "# new_path.mkdir() # 建立目錄， parents 參數若是 True, 形同 mkdirs\n",
    "# target_path = new_path.parent.joinpath(\"lesson18_test2\")\n",
    "# new_path.rename(target_path) # 修改目錄或檔案名稱\n",
    "# target_path.joinpath(\"test.txt\").touch() # 建立檔案\n",
    "# target_path.joinpath(\"test.txt\").unlink() # 刪除檔案\n",
    "# target_path.rmdir()"
   ]
  },
  {
   "cell_type": "code",
   "execution_count": null,
   "metadata": {},
   "outputs": [],
   "source": [
    "# like with open('new_path')\n",
    "# with new_path.open(mode='r') as f:\n",
    "#     print(f.read())"
   ]
  },
  {
   "cell_type": "markdown",
   "metadata": {},
   "source": [
    "# json"
   ]
  },
  {
   "cell_type": "code",
   "execution_count": null,
   "metadata": {},
   "outputs": [],
   "source": [
    "with open(\"file_path\", 'w') as f:\n",
    "    f.write(json.dumps({\"key\": \"value\"}, ensure_ascii=False))"
   ]
  },
  {
   "cell_type": "code",
   "execution_count": null,
   "metadata": {},
   "outputs": [],
   "source": [
    "# json\n",
    "import json\n",
    "\n",
    "json_string = json.dumps({\"key\": \"value\"}, ensure_ascii=False)  #--> object ->json str\n",
    "\n",
    "\"\"\"\n",
    "tips: ensure_ascii defalut 為True, 如果你的json物件有中文字，記得explicitly make ensure_ascii=False\n",
    "\"\"\""
   ]
  },
  {
   "cell_type": "code",
   "execution_count": null,
   "metadata": {},
   "outputs": [],
   "source": [
    "json.loads(json_string, encoding=\"utf-8\")  #--> json str -> object"
   ]
  },
  {
   "cell_type": "markdown",
   "metadata": {},
   "source": [
    "## 請分別透過 os, pathlib 完成以下練習\n",
    "> ### 請透過 os 完成以下操作\n",
    "```\n",
    "1. 列出當前目錄\n",
    "2. 列出當前目錄下所有內容\n",
    "3. 在當前目錄下建立 'lesson18_temp' 目錄\n",
    "4. 確認 'lesson18_temp' 目錄是否存在\n",
    "5. 確認 'lesson18_temp' 是否為目錄\n",
    "```\n",
    "\n",
    "> ### 請透過 pathlib 及 json 完成以下操作\n",
    "```\n",
    "1. 建立當前目錄的物件\n",
    "2. 透過步驟一建立 lesson18_temp 的物件\n",
    "3. 在 lesson18_temp 下建立 test.json 檔\n",
    "4. 確認 'test.json' 檔案是否存在\n",
    "5. 確認 'test.json' 是否為檔案\n",
    "6. 建立任意物件並轉換成 json 字串\n",
    "7. 寫入 'test.json'\n",
    "8. 讀出 'test.json' 的內容並轉換成 python 物件\n",
    "```\n",
    "\n",
    "> ### 請透過 shutil 完成以下操作\n",
    "```\n",
    "1. 複製 'lesson18_temp' 到 'lesson18_temp_2'\n",
    "2. 刪除 'lesson18_temp'\n",
    "3. 壓縮 'lesson18_temp_2' 成 temp2.zip，壓縮格式用 zip\n",
    "```\n"
   ]
  },
  {
   "cell_type": "code",
   "execution_count": null,
   "metadata": {},
   "outputs": [],
   "source": []
  }
 ],
 "metadata": {
  "kernelspec": {
   "display_name": "Python 3",
   "language": "python",
   "name": "python3"
  },
  "language_info": {
   "codemirror_mode": {
    "name": "ipython",
    "version": 3
   },
   "file_extension": ".py",
   "mimetype": "text/x-python",
   "name": "python",
   "nbconvert_exporter": "python",
   "pygments_lexer": "ipython3",
   "version": "3.7.3"
  },
  "toc": {
   "base_numbering": 1,
   "nav_menu": {},
   "number_sections": true,
   "sideBar": true,
   "skip_h1_title": false,
   "title_cell": "Table of Contents",
   "title_sidebar": "Contents",
   "toc_cell": false,
   "toc_position": {
    "height": "calc(100% - 180px)",
    "left": "10px",
    "top": "150px",
    "width": "288px"
   },
   "toc_section_display": true,
   "toc_window_display": true
  },
  "varInspector": {
   "cols": {
    "lenName": 16,
    "lenType": 16,
    "lenVar": 40
   },
   "kernels_config": {
    "python": {
     "delete_cmd_postfix": "",
     "delete_cmd_prefix": "del ",
     "library": "var_list.py",
     "varRefreshCmd": "print(var_dic_list())"
    },
    "r": {
     "delete_cmd_postfix": ") ",
     "delete_cmd_prefix": "rm(",
     "library": "var_list.r",
     "varRefreshCmd": "cat(var_dic_list()) "
    }
   },
   "types_to_exclude": [
    "module",
    "function",
    "builtin_function_or_method",
    "instance",
    "_Feature"
   ],
   "window_display": false
  }
 },
 "nbformat": 4,
 "nbformat_minor": 2
}
