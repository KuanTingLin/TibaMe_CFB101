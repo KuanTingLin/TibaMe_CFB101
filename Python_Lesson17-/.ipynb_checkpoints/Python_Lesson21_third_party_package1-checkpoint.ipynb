{
 "cells": [
  {
   "cell_type": "code",
   "execution_count": null,
   "metadata": {},
   "outputs": [],
   "source": [
    "!pip freeze"
   ]
  },
  {
   "cell_type": "markdown",
   "metadata": {
    "ExecuteTime": {
     "end_time": "2021-03-27T03:51:33.786419Z",
     "start_time": "2021-03-27T03:51:33.783774Z"
    }
   },
   "source": [
    "# jieba"
   ]
  },
  {
   "cell_type": "code",
   "execution_count": null,
   "metadata": {
    "ExecuteTime": {
     "end_time": "2021-04-23T18:26:16.173408Z",
     "start_time": "2021-04-23T18:26:16.167004Z"
    }
   },
   "outputs": [],
   "source": [
    "import jieba\n",
    "from functools import wraps\n",
    "import time\n",
    "import jieba.analyse\n",
    "\n",
    "\n",
    "def time_count_wrapper(func):\n",
    "    @wraps(func)\n",
    "    def time_count(*args, **kw):\n",
    "        start = time.time()\n",
    "        return_value = func(*args, **kw)\n",
    "        end = time.time()\n",
    "        time_diff = end - start\n",
    "        print(\"time consume: {} sec\".format(time_diff))\n",
    "        return return_value\n",
    "\n",
    "    return time_count\n",
    "\n",
    "# jieba.enable_paddle()\n",
    "\n",
    "# @time_count_wrapper\n",
    "# def paddle_cut(data):\n",
    "#     seg_list = jieba.cut(data, use_paddle=True)\n",
    "#     return list(seg_list)\n",
    "\n",
    "@time_count_wrapper\n",
    "def search_cut(data):\n",
    "    seg_list = jieba.cut_for_search(data)\n",
    "    return list(seg_list)\n",
    "\n",
    "\n",
    "@time_count_wrapper\n",
    "def full_cut(data):\n",
    "    seg_list = jieba.cut(data, cut_all=True)\n",
    "    return list(seg_list)\n",
    "\n",
    "\n",
    "@time_count_wrapper\n",
    "def correct_cut(data):\n",
    "    seg_list = jieba.cut(data, cut_all=False)\n",
    "    return list(seg_list)\n",
    "\n",
    "@time_count_wrapper\n",
    "def tfidf_cut(data):\n",
    "    seg_list = jieba.analyse.extract_tags(data, topK=5, withWeight=True)\n",
    "    return seg_list\n"
   ]
  },
  {
   "cell_type": "code",
   "execution_count": null,
   "metadata": {},
   "outputs": [],
   "source": [
    "jieba.add_word(\"公司貨\", 10, 'n')"
   ]
  },
  {
   "cell_type": "code",
   "execution_count": null,
   "metadata": {},
   "outputs": [],
   "source": [
    "jieba.suggest_freq(\"星空藍\")"
   ]
  },
  {
   "cell_type": "code",
   "execution_count": null,
   "metadata": {
    "ExecuteTime": {
     "end_time": "2021-04-23T18:26:16.501418Z",
     "start_time": "2021-04-23T18:26:16.496504Z"
    }
   },
   "outputs": [],
   "source": [
    "datas=[\"NIKON D780 單機身 公司貨\", \"3M 瞬涼5度抑螨可水洗烘乾涼夏兩用被-星空藍(180x210cm)\"]\n",
    "for data in datas:\n",
    "    print(\"full: \", full_cut(data))\n",
    "    print(\"correct: \", correct_cut(data))\n",
    "    print(\"search: \", search_cut(data))\n",
    "    print(\"paddle: \", paddle_cut(data))\n",
    "    print(\"TFIDF: \", tfidf_cut(data))"
   ]
  },
  {
   "cell_type": "code",
   "execution_count": null,
   "metadata": {},
   "outputs": [],
   "source": [
    "jieba.load_userdict(\"word_dict.txt\")"
   ]
  },
  {
   "cell_type": "markdown",
   "metadata": {},
   "source": [
    "# pillow"
   ]
  },
  {
   "cell_type": "code",
   "execution_count": null,
   "metadata": {},
   "outputs": [],
   "source": [
    "from PIL import Image"
   ]
  },
  {
   "cell_type": "code",
   "execution_count": null,
   "metadata": {},
   "outputs": [],
   "source": [
    "image1 = Image.open(\"../sample.jpg\")"
   ]
  },
  {
   "cell_type": "code",
   "execution_count": null,
   "metadata": {},
   "outputs": [],
   "source": [
    "image1"
   ]
  },
  {
   "cell_type": "code",
   "execution_count": null,
   "metadata": {},
   "outputs": [],
   "source": [
    "print(image1.width)\n",
    "print(image1.height)\n",
    "print(image1.format)\n",
    "print(image1.size)"
   ]
  },
  {
   "cell_type": "markdown",
   "metadata": {},
   "source": [
    "## 轉檔與儲存"
   ]
  },
  {
   "cell_type": "code",
   "execution_count": null,
   "metadata": {},
   "outputs": [],
   "source": [
    "image1.save(\"sample.png\", \"png\")"
   ]
  },
  {
   "cell_type": "markdown",
   "metadata": {},
   "source": [
    "## 修改大小"
   ]
  },
  {
   "cell_type": "code",
   "execution_count": null,
   "metadata": {},
   "outputs": [],
   "source": [
    "image1.resize(tuple(map(lambda x: int(x*0.6), image1.size)))"
   ]
  },
  {
   "cell_type": "markdown",
   "metadata": {},
   "source": [
    "## 濾鏡"
   ]
  },
  {
   "cell_type": "code",
   "execution_count": null,
   "metadata": {},
   "outputs": [],
   "source": [
    "from PIL import ImageFilter\n",
    "image3 = image1.resize(tuple(map(lambda x: int(x*0.6), image1.size)))\n",
    "image3.filter(ImageFilter.SHARPEN)"
   ]
  },
  {
   "cell_type": "code",
   "execution_count": null,
   "metadata": {},
   "outputs": [],
   "source": [
    "image3.filter(ImageFilter.SMOOTH)"
   ]
  },
  {
   "cell_type": "markdown",
   "metadata": {},
   "source": [
    "## 縮圖"
   ]
  },
  {
   "cell_type": "code",
   "execution_count": null,
   "metadata": {},
   "outputs": [],
   "source": [
    "image3.thumbnail((300, 200))\n",
    "image3"
   ]
  }
 ],
 "metadata": {
  "kernelspec": {
   "display_name": "cfb101_lesson1",
   "language": "python",
   "name": "cfb101_lesson1"
  },
  "language_info": {
   "codemirror_mode": {
    "name": "ipython",
    "version": 3
   },
   "file_extension": ".py",
   "mimetype": "text/x-python",
   "name": "python",
   "nbconvert_exporter": "python",
   "pygments_lexer": "ipython3",
   "version": "3.8.8"
  },
  "toc": {
   "base_numbering": 1,
   "nav_menu": {},
   "number_sections": true,
   "sideBar": true,
   "skip_h1_title": false,
   "title_cell": "Table of Contents",
   "title_sidebar": "Contents",
   "toc_cell": false,
   "toc_position": {},
   "toc_section_display": true,
   "toc_window_display": true
  },
  "varInspector": {
   "cols": {
    "lenName": 16,
    "lenType": 16,
    "lenVar": 40
   },
   "kernels_config": {
    "python": {
     "delete_cmd_postfix": "",
     "delete_cmd_prefix": "del ",
     "library": "var_list.py",
     "varRefreshCmd": "print(var_dic_list())"
    },
    "r": {
     "delete_cmd_postfix": ") ",
     "delete_cmd_prefix": "rm(",
     "library": "var_list.r",
     "varRefreshCmd": "cat(var_dic_list()) "
    }
   },
   "types_to_exclude": [
    "module",
    "function",
    "builtin_function_or_method",
    "instance",
    "_Feature"
   ],
   "window_display": false
  }
 },
 "nbformat": 4,
 "nbformat_minor": 2
}
