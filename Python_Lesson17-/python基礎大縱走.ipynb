{
 "cells": [
  {
   "cell_type": "markdown",
   "metadata": {},
   "source": [
    "# number"
   ]
  },
  {
   "cell_type": "markdown",
   "metadata": {},
   "source": [
    "## 1-1"
   ]
  },
  {
   "cell_type": "code",
   "execution_count": 4,
   "metadata": {
    "collapsed": true
   },
   "outputs": [
    {
     "name": "stdout",
     "output_type": "stream",
     "text": [
      "100\n",
      "3\n",
      "6\n",
      "9\n",
      "12\n",
      "15\n",
      "18\n",
      "21\n",
      "24\n",
      "27\n",
      "30\n",
      "33\n",
      "36\n",
      "39\n",
      "42\n",
      "45\n",
      "48\n",
      "51\n",
      "54\n",
      "57\n",
      "60\n",
      "63\n",
      "66\n",
      "69\n",
      "72\n",
      "75\n",
      "78\n",
      "81\n",
      "84\n",
      "87\n",
      "90\n",
      "93\n",
      "96\n",
      "99\n"
     ]
    }
   ],
   "source": [
    "# 三的倍數\n",
    "number = int(input())\n",
    "for i in range(1, number):\n",
    "    if i % 3 == 0:\n",
    "        print(i)"
   ]
  },
  {
   "cell_type": "markdown",
   "metadata": {},
   "source": [
    "## 1-2"
   ]
  },
  {
   "cell_type": "code",
   "execution_count": 5,
   "metadata": {
    "collapsed": true
   },
   "outputs": [
    {
     "name": "stdout",
     "output_type": "stream",
     "text": [
      "5\n",
      "10\n",
      "15\n",
      "20\n",
      "25\n",
      "30\n",
      "35\n",
      "40\n",
      "45\n",
      "50\n",
      "55\n",
      "60\n",
      "65\n",
      "70\n",
      "75\n",
      "80\n",
      "85\n",
      "90\n",
      "95\n"
     ]
    }
   ],
   "source": [
    "# 五的倍數\n",
    "for i in range(1, number):\n",
    "    if i % 5 == 0:\n",
    "        print(i)"
   ]
  },
  {
   "cell_type": "markdown",
   "metadata": {},
   "source": [
    "## 1-3"
   ]
  },
  {
   "cell_type": "code",
   "execution_count": 6,
   "metadata": {},
   "outputs": [
    {
     "name": "stdout",
     "output_type": "stream",
     "text": [
      "15\n",
      "30\n",
      "45\n",
      "60\n",
      "75\n",
      "90\n"
     ]
    }
   ],
   "source": [
    "# 三, 五的公倍數\n",
    "for i in range(1, number):\n",
    "    if (i % 5 == 0) and (i % 3 == 0):\n",
    "        print(i)"
   ]
  },
  {
   "cell_type": "markdown",
   "metadata": {},
   "source": [
    "## 1-4"
   ]
  },
  {
   "cell_type": "code",
   "execution_count": 28,
   "metadata": {},
   "outputs": [
    {
     "name": "stdout",
     "output_type": "stream",
     "text": [
      "1234\n",
      "1234 0 1234 4\n",
      "1234 1 123 3\n",
      "1234 2 12 2\n",
      "1234 3 1 1\n"
     ]
    },
    {
     "data": {
      "text/plain": [
       "10"
      ]
     },
     "execution_count": 28,
     "metadata": {},
     "output_type": "execute_result"
    }
   ],
   "source": [
    "# 加總各個位數的數字 (不做型別轉換)\n",
    "import math\n",
    "number = int(input())\n",
    "def sum_digit_number(number):\n",
    "    digits = int(math.log10(number))\n",
    "    return sum([int(number / 10**digit) % 10 for digit in range(digits + 1)])\n",
    "\n",
    "def sum_digit_number(number):\n",
    "    digits = int(math.log10(number))\n",
    "    answer_list = []\n",
    "    for digit in range(digits + 1):\n",
    "        answer_list.append(int(number / 10**digit) % 10)\n",
    "    return sum(answer_list)\n",
    "sum_digit_number(number)"
   ]
  },
  {
   "cell_type": "code",
   "execution_count": null,
   "metadata": {},
   "outputs": [],
   "source": []
  },
  {
   "cell_type": "markdown",
   "metadata": {},
   "source": [
    "# string"
   ]
  },
  {
   "cell_type": "markdown",
   "metadata": {},
   "source": [
    "## 1-1"
   ]
  },
  {
   "cell_type": "code",
   "execution_count": 31,
   "metadata": {},
   "outputs": [],
   "source": [
    "# 字串處理, 將空白轉換成對應的逗點根句點\n",
    "# 輸出結果：\n",
    "'''\n",
    "昔人已乘黃鶴去，此地空餘黃鶴樓。\n",
    "黃鶴一去不復返，白雲千載空悠悠。\n",
    "晴川歷歷漢陽樹，芳草萋萋鸚鵡洲。\n",
    "日暮鄉關何處是，煙波江上使人愁。\n",
    "'''\n",
    "\n",
    "raw_data = \"昔人已乘黃鶴去  此地空餘黃鶴樓 黃鶴一去不復返   白雲千載空悠悠 晴川歷歷漢陽樹 芳草萋萋鸚鵡洲  日暮鄉關何處是 煙波江上使人愁\" \n",
    "\n",
    "# poem = \n"
   ]
  },
  {
   "cell_type": "code",
   "execution_count": 58,
   "metadata": {},
   "outputs": [
    {
     "name": "stdout",
     "output_type": "stream",
     "text": [
      "昔人已乘黃鶴去，此地空餘黃鶴樓。\n",
      "黃鶴一去不復返，白雲千載空悠悠。\n",
      "晴川歷歷漢陽樹，芳草萋萋鸚鵡洲。\n",
      "日暮鄉關何處是，煙波江上使人愁。\n",
      "昔人已乘黃鶴去，此地空餘黃鶴樓。\n",
      "黃鶴一去不復返，白雲千載空悠悠。\n",
      "晴川歷歷漢陽樹，芳草萋萋鸚鵡洲。\n",
      "日暮鄉關何處是，煙波江上使人愁。\n"
     ]
    }
   ],
   "source": [
    "data = [x for x in raw_data.split(\" \") if x]\n",
    "poem = []\n",
    "for i, x in enumerate(data):\n",
    "    if i % 2:\n",
    "        poem.append(x + \"。\")\n",
    "    else:\n",
    "        poem.append(x + \"，\")\n",
    "print(\"\\n\".join(map(lambda x: \"\".join(x), zip(poem[::2], poem[1::2]))))\n",
    "print(\"\\n\".join([\"\".join(poem[i:i+2]) for i in range(0, len(poem), 2)]))"
   ]
  },
  {
   "cell_type": "code",
   "execution_count": 59,
   "metadata": {},
   "outputs": [
    {
     "data": {
      "text/plain": [
       "['昔人已乘黃鶴去，',\n",
       " '此地空餘黃鶴樓。',\n",
       " '黃鶴一去不復返，',\n",
       " '白雲千載空悠悠。',\n",
       " '晴川歷歷漢陽樹，',\n",
       " '芳草萋萋鸚鵡洲。',\n",
       " '日暮鄉關何處是，',\n",
       " '煙波江上使人愁。']"
      ]
     },
     "execution_count": 59,
     "metadata": {},
     "output_type": "execute_result"
    }
   ],
   "source": [
    "# poem"
   ]
  },
  {
   "cell_type": "markdown",
   "metadata": {},
   "source": [
    "## 1-2"
   ]
  },
  {
   "cell_type": "code",
   "execution_count": 60,
   "metadata": {},
   "outputs": [
    {
     "data": {
      "text/plain": [
       "['樓', '悠', '洲', '愁']"
      ]
     },
     "execution_count": 60,
     "metadata": {},
     "output_type": "execute_result"
    }
   ],
   "source": [
    "# 找出詩詞的押韻字\n",
    "def find_rhyme_words(poem):\n",
    "    return [x[-2] for x in poem[1::2]]\n",
    "find_rhyme_words(poem)"
   ]
  },
  {
   "cell_type": "code",
   "execution_count": 66,
   "metadata": {},
   "outputs": [
    {
     "data": {
      "text/plain": [
       "['樓', '悠', '洲', '愁']"
      ]
     },
     "execution_count": 66,
     "metadata": {},
     "output_type": "execute_result"
    }
   ],
   "source": [
    "import re\n",
    "def find_rhyme_words(poem):\n",
    "    return re.findall(\"(.)。\", \"\".join(poem))\n",
    "find_rhyme_words(poem)"
   ]
  },
  {
   "cell_type": "code",
   "execution_count": 67,
   "metadata": {},
   "outputs": [
    {
     "data": {
      "text/plain": [
       "'昔人已乘黃鶴去，此地空餘黃鶴樓。黃鶴一去不復返，白雲千載空悠悠。晴川歷歷漢陽樹，芳草萋萋鸚鵡洲。日暮鄉關何處是，煙波江上使人愁。'"
      ]
     },
     "execution_count": 67,
     "metadata": {},
     "output_type": "execute_result"
    }
   ],
   "source": [
    "\"\".join(poem)"
   ]
  },
  {
   "cell_type": "markdown",
   "metadata": {},
   "source": [
    "# list"
   ]
  },
  {
   "cell_type": "markdown",
   "metadata": {},
   "source": [
    "## 1-1"
   ]
  },
  {
   "cell_type": "code",
   "execution_count": 73,
   "metadata": {},
   "outputs": [
    {
     "name": "stdout",
     "output_type": "stream",
     "text": [
      "20\n"
     ]
    },
    {
     "data": {
      "text/plain": [
       "[1, 3, 5, 7, 9, 11, 13, 15, 17, 19]"
      ]
     },
     "execution_count": 73,
     "metadata": {},
     "output_type": "execute_result"
    }
   ],
   "source": [
    "# 抓出奇數資料存成列表\n",
    "number = int(input())\n",
    "answer = []\n",
    "for i in range(number):\n",
    "    if i % 2:\n",
    "        answer.append(i)\n",
    "answer\n",
    "\n",
    "## list comprehension\n",
    "[i for i in range(number) if i % 2]"
   ]
  },
  {
   "cell_type": "markdown",
   "metadata": {},
   "source": [
    "## 1-2"
   ]
  },
  {
   "cell_type": "code",
   "execution_count": 74,
   "metadata": {},
   "outputs": [
    {
     "data": {
      "text/plain": [
       "[0, 2, 4, 6, 8, 10, 12, 14, 16, 18]"
      ]
     },
     "execution_count": 74,
     "metadata": {},
     "output_type": "execute_result"
    }
   ],
   "source": [
    "# 抓出偶數資料存成列表\n",
    "answer = []\n",
    "for i in range(number):\n",
    "    if i % 2 == 0:\n",
    "        answer.append(i)\n",
    "answer   \n",
    "\n",
    "## list comprehension\n",
    "[i for i in range(number) if i % 2 == 0]"
   ]
  },
  {
   "cell_type": "markdown",
   "metadata": {},
   "source": [
    "## 1-3"
   ]
  },
  {
   "cell_type": "code",
   "execution_count": 75,
   "metadata": {},
   "outputs": [
    {
     "data": {
      "text/plain": [
       "[[1, 3, 5, 7, 9, 11, 13, 15, 17, 19], [0, 2, 4, 6, 8, 10, 12, 14, 16, 18]]"
      ]
     },
     "execution_count": 75,
     "metadata": {},
     "output_type": "execute_result"
    }
   ],
   "source": [
    "# 奇數偶數分開存成二維資料\n",
    "# [[1, 3, 5, ...],\n",
    "#  [2, 4, 6, ...]]\n",
    "answer = [[], []]\n",
    "for i in range(number):\n",
    "    if i % 2:\n",
    "        answer[0].append(i)\n",
    "    else:\n",
    "        answer[1].append(i)\n",
    "answer"
   ]
  },
  {
   "cell_type": "code",
   "execution_count": null,
   "metadata": {},
   "outputs": [],
   "source": []
  },
  {
   "cell_type": "code",
   "execution_count": null,
   "metadata": {},
   "outputs": [],
   "source": []
  },
  {
   "cell_type": "markdown",
   "metadata": {},
   "source": [
    "# dict"
   ]
  },
  {
   "cell_type": "markdown",
   "metadata": {},
   "source": [
    "## 1-1"
   ]
  },
  {
   "cell_type": "code",
   "execution_count": 78,
   "metadata": {
    "collapsed": true
   },
   "outputs": [
    {
     "data": {
      "text/plain": [
       "{'Python': 55,\n",
       " 'Java': 44,\n",
       " 'Sqoop': 71,\n",
       " 'Hadoop': 97,\n",
       " 'SQL': 93,\n",
       " 'Spark': 93,\n",
       " 'Airflow': 82,\n",
       " 'Flink': 44,\n",
       " 'FastAPI': 86,\n",
       " 'Data Structure': 45}"
      ]
     },
     "execution_count": 78,
     "metadata": {},
     "output_type": "execute_result"
    }
   ],
   "source": [
    "datas = [('Python', 55),\n",
    "         ('Java', 44),\n",
    "         ('Sqoop', 71),\n",
    "         ('Hadoop', 97),\n",
    "         ('SQL', 93),\n",
    "         ('Spark', 93),\n",
    "         ('Airflow', 82),\n",
    "         ('Flink', 44),\n",
    "         ('FastAPI', 86),\n",
    "         ('Data Structure', 45)]\n",
    "# 將科目與成績資料寫進字典裡\n",
    "# eg. {\"Python\": 55}\n",
    "\n",
    "# method 1\n",
    "scores = dict(datas)\n",
    "\n",
    "# method 2\n",
    "scores = {}\n",
    "scores.update(datas)\n",
    "\n",
    "# method 3\n",
    "for data in datas:\n",
    "    scores[data[0]] = data[1]\n",
    "scores"
   ]
  },
  {
   "cell_type": "markdown",
   "metadata": {},
   "source": [
    "## 1-2"
   ]
  },
  {
   "cell_type": "code",
   "execution_count": 83,
   "metadata": {
    "code_folding": []
   },
   "outputs": [
    {
     "name": "stdout",
     "output_type": "stream",
     "text": [
      "Python\n",
      "Java\n",
      "Flink\n",
      "Data Structure\n"
     ]
    }
   ],
   "source": [
    "# 從 1-1 的結果找出不及格的科目\n",
    "for subject, score in scores.items():\n",
    "    if score < 60:\n",
    "        print(subject)"
   ]
  },
  {
   "cell_type": "code",
   "execution_count": 85,
   "metadata": {},
   "outputs": [
    {
     "data": {
      "text/plain": [
       "dict_keys(['Python', 'Java', 'Sqoop', 'Hadoop', 'SQL', 'Spark', 'Airflow', 'Flink', 'FastAPI', 'Data Structure'])"
      ]
     },
     "execution_count": 85,
     "metadata": {},
     "output_type": "execute_result"
    }
   ],
   "source": [
    "scores.keys()"
   ]
  },
  {
   "cell_type": "code",
   "execution_count": null,
   "metadata": {},
   "outputs": [],
   "source": []
  },
  {
   "cell_type": "code",
   "execution_count": null,
   "metadata": {},
   "outputs": [],
   "source": []
  },
  {
   "cell_type": "markdown",
   "metadata": {},
   "source": [
    "## 2-1"
   ]
  },
  {
   "cell_type": "code",
   "execution_count": 136,
   "metadata": {
    "code_folding": []
   },
   "outputs": [],
   "source": [
    "from random import randint\n",
    "import json\n",
    "with open(\"./dict_test2.json\", 'r') as f:\n",
    "    datas = json.loads(f.read())"
   ]
  },
  {
   "cell_type": "code",
   "execution_count": 176,
   "metadata": {
    "scrolled": true
   },
   "outputs": [],
   "source": [
    "students_scores = {}\n",
    "for data in datas:\n",
    "    student = data[0]\n",
    "    subject_scores = dict(data[1])\n",
    "    students_scores[student] = subject_scores\n",
    "# students_scores"
   ]
  },
  {
   "cell_type": "code",
   "execution_count": null,
   "metadata": {},
   "outputs": [],
   "source": [
    "# 將學生、科目、成績寫進字典裡\n",
    "# eg. {'student1': {\"Python\": 45, \"Java\": 82}, 'student2': {\"Python\":60, \"Java\": 99}}"
   ]
  },
  {
   "cell_type": "markdown",
   "metadata": {},
   "source": [
    "## 2-2"
   ]
  },
  {
   "cell_type": "code",
   "execution_count": 119,
   "metadata": {},
   "outputs": [
    {
     "name": "stdout",
     "output_type": "stream",
     "text": [
      "('student2', 720)\n"
     ]
    }
   ],
   "source": [
    "# 從 2-1 的結果找出總分最高的學生\n",
    "sum(students_scores['student1'].values()) # 算總分\n",
    "\n",
    "student_total_score = []\n",
    "for student, subject_scores in students_scores.items():\n",
    "    sum_of_score = sum(subject_scores.values())\n",
    "    student_total_score.append((student, sum_of_score))\n",
    "highest_score = max(student_total_score, key=lambda x: x[1])[1]\n",
    "for x in student_total_score:\n",
    "    if x[1] == highest_score:\n",
    "        print(x)"
   ]
  },
  {
   "cell_type": "markdown",
   "metadata": {},
   "source": [
    "## 2-3"
   ]
  },
  {
   "cell_type": "code",
   "execution_count": 122,
   "metadata": {},
   "outputs": [
    {
     "name": "stdout",
     "output_type": "stream",
     "text": [
      "('student3', 4)\n",
      "('student4', 4)\n"
     ]
    }
   ],
   "source": [
    "# 從 2-1 的結果找出不及格科目最多的學生\n",
    "student_total_failed = []\n",
    "for student, subject_scores in students_scores.items():\n",
    "    total_failed = len([x for x in subject_scores.values() if x < 60])\n",
    "    student_total_failed.append((student, total_failed))\n",
    "    \n",
    "most_failed = max(student_total_failed, key=lambda x: x[1])[1]\n",
    "for x in student_total_failed:\n",
    "    if x[1] == most_failed:\n",
    "        print(x)"
   ]
  },
  {
   "cell_type": "code",
   "execution_count": 123,
   "metadata": {},
   "outputs": [
    {
     "data": {
      "text/plain": [
       "('student3', 4)"
      ]
     },
     "execution_count": 123,
     "metadata": {},
     "output_type": "execute_result"
    }
   ],
   "source": [
    "max(student_total_failed, key=lambda x: x[1])"
   ]
  },
  {
   "cell_type": "markdown",
   "metadata": {},
   "source": [
    "## 2-4"
   ]
  },
  {
   "cell_type": "code",
   "execution_count": 127,
   "metadata": {},
   "outputs": [
    {
     "data": {
      "text/plain": [
       "{'Python': 58.25,\n",
       " 'Java': 81.0,\n",
       " 'Sqoop': 66.0,\n",
       " 'Hadoop': 57.0,\n",
       " 'SQL': 60.5,\n",
       " 'Spark': 74.75,\n",
       " 'Airflow': 79.25,\n",
       " 'Flink': 70.25,\n",
       " 'FastAPI': 63.0,\n",
       " 'Data Structure': 71.25}"
      ]
     },
     "execution_count": 127,
     "metadata": {},
     "output_type": "execute_result"
    }
   ],
   "source": [
    "# 從 2-1 的結果找出班上各科目的平均分數\n",
    "subject_avg_score = {}\n",
    "for subject_scores in students_scores.values():\n",
    "    for subject, score in subject_scores.items():\n",
    "        if subject in subject_avg_score:\n",
    "            subject_avg_score[subject].append(score)\n",
    "        else:\n",
    "            subject_avg_score[subject] = [score]\n",
    "\n",
    "\n",
    "for subject in subject_avg_score:\n",
    "    subject_avg_score[subject] = sum(subject_avg_score[subject]) / len(subject_avg_score[subject])\n",
    "    \n",
    "subject_avg_score"
   ]
  },
  {
   "cell_type": "markdown",
   "metadata": {},
   "source": [
    "## 2-5"
   ]
  },
  {
   "cell_type": "code",
   "execution_count": 177,
   "metadata": {},
   "outputs": [
    {
     "name": "stdout",
     "output_type": "stream",
     "text": [
      "{'Python': 45, 'Java': 82, 'Sqoop': 67, 'Hadoop': 42, 'SQL': 56, 'Spark': 71, 'Airflow': 63, 'Flink': 92, 'FastAPI': 98, 'Data Structure': 69}\n",
      "{'Python': 92, 'Java': 66, 'Sqoop': 73, 'Hadoop': 79, 'SQL': 49, 'Spark': 68, 'Airflow': 73, 'Flink': 76, 'FastAPI': 45, 'Data Structure': 99}\n",
      "{'Python': 55, 'Java': 90, 'Sqoop': 73, 'Hadoop': 44, 'SQL': 48, 'Spark': 73, 'Airflow': 81, 'Flink': 40, 'FastAPI': 60, 'Data Structure': 62}\n",
      "{'Python': 41, 'Java': 86, 'Sqoop': 51, 'Hadoop': 63, 'SQL': 89, 'Spark': 87, 'Airflow': 100, 'Flink': 73, 'FastAPI': 49, 'Data Structure': 55}\n"
     ]
    }
   ],
   "source": [
    "# 為了調整各科分數好看一點，所有平均分數不及格的科目，分數都開根號乘以 10\n",
    "# 並回傳最後的結果\n",
    "for subject_score in students_scores.values():\n",
    "    print(subject_score)\n",
    "    for subject in subject_score:\n",
    "        if subject_avg_score[subject] < 60:\n",
    "            subject_score[subject] = int((subject_score[subject]**(1/2))*10)"
   ]
  },
  {
   "cell_type": "code",
   "execution_count": 178,
   "metadata": {},
   "outputs": [
    {
     "name": "stdout",
     "output_type": "stream",
     "text": [
      "{'Python': 67, 'Java': 82, 'Sqoop': 67, 'Hadoop': 64, 'SQL': 56, 'Spark': 71, 'Airflow': 63, 'Flink': 92, 'FastAPI': 98, 'Data Structure': 69}\n",
      "{'Python': 95, 'Java': 66, 'Sqoop': 73, 'Hadoop': 88, 'SQL': 49, 'Spark': 68, 'Airflow': 73, 'Flink': 76, 'FastAPI': 45, 'Data Structure': 99}\n",
      "{'Python': 74, 'Java': 90, 'Sqoop': 73, 'Hadoop': 66, 'SQL': 48, 'Spark': 73, 'Airflow': 81, 'Flink': 40, 'FastAPI': 60, 'Data Structure': 62}\n",
      "{'Python': 64, 'Java': 86, 'Sqoop': 51, 'Hadoop': 79, 'SQL': 89, 'Spark': 87, 'Airflow': 100, 'Flink': 73, 'FastAPI': 49, 'Data Structure': 55}\n"
     ]
    }
   ],
   "source": [
    "for subject_score in students_scores.values():\n",
    "    print(subject_score)"
   ]
  },
  {
   "cell_type": "code",
   "execution_count": 135,
   "metadata": {},
   "outputs": [
    {
     "data": {
      "text/plain": [
       "8.0"
      ]
     },
     "execution_count": 135,
     "metadata": {},
     "output_type": "execute_result"
    }
   ],
   "source": [
    "64**(1/2)"
   ]
  },
  {
   "cell_type": "code",
   "execution_count": null,
   "metadata": {},
   "outputs": [],
   "source": [
    "student_score (\n",
    "student string \n",
    "subject string\n",
    "score integer\n",
    ")"
   ]
  },
  {
   "cell_type": "code",
   "execution_count": null,
   "metadata": {},
   "outputs": [],
   "source": [
    "\"\"\"INSERT INTO student_score\n",
    "VALUES ('student1', 'Python', 67), (...)...\"\"\""
   ]
  },
  {
   "cell_type": "code",
   "execution_count": 145,
   "metadata": {},
   "outputs": [
    {
     "data": {
      "text/plain": [
       "{'student1': {'Python': 67,\n",
       "  'Java': 82,\n",
       "  'Sqoop': 67,\n",
       "  'Hadoop': 64,\n",
       "  'SQL': 56,\n",
       "  'Spark': 71,\n",
       "  'Airflow': 63,\n",
       "  'Flink': 92,\n",
       "  'FastAPI': 98,\n",
       "  'Data Structure': 69},\n",
       " 'student2': {'Python': 95,\n",
       "  'Java': 66,\n",
       "  'Sqoop': 73,\n",
       "  'Hadoop': 88,\n",
       "  'SQL': 49,\n",
       "  'Spark': 68,\n",
       "  'Airflow': 73,\n",
       "  'Flink': 76,\n",
       "  'FastAPI': 45,\n",
       "  'Data Structure': 99},\n",
       " 'student3': {'Python': 74,\n",
       "  'Java': 90,\n",
       "  'Sqoop': 73,\n",
       "  'Hadoop': 66,\n",
       "  'SQL': 48,\n",
       "  'Spark': 73,\n",
       "  'Airflow': 81,\n",
       "  'Flink': 40,\n",
       "  'FastAPI': 60,\n",
       "  'Data Structure': 62},\n",
       " 'student4': {'Python': 64,\n",
       "  'Java': 86,\n",
       "  'Sqoop': 51,\n",
       "  'Hadoop': 79,\n",
       "  'SQL': 89,\n",
       "  'Spark': 87,\n",
       "  'Airflow': 100,\n",
       "  'Flink': 73,\n",
       "  'FastAPI': 49,\n",
       "  'Data Structure': 55}}"
      ]
     },
     "execution_count": 145,
     "metadata": {},
     "output_type": "execute_result"
    }
   ],
   "source": [
    "students_scores"
   ]
  },
  {
   "cell_type": "code",
   "execution_count": null,
   "metadata": {},
   "outputs": [],
   "source": []
  },
  {
   "cell_type": "code",
   "execution_count": null,
   "metadata": {},
   "outputs": [],
   "source": []
  }
 ],
 "metadata": {
  "kernelspec": {
   "display_name": "Python 3",
   "language": "python",
   "name": "python3"
  },
  "language_info": {
   "codemirror_mode": {
    "name": "ipython",
    "version": 3
   },
   "file_extension": ".py",
   "mimetype": "text/x-python",
   "name": "python",
   "nbconvert_exporter": "python",
   "pygments_lexer": "ipython3",
   "version": "3.7.3"
  },
  "toc": {
   "base_numbering": 1,
   "nav_menu": {},
   "number_sections": true,
   "sideBar": true,
   "skip_h1_title": false,
   "title_cell": "Table of Contents",
   "title_sidebar": "Contents",
   "toc_cell": false,
   "toc_position": {},
   "toc_section_display": true,
   "toc_window_display": false
  },
  "varInspector": {
   "cols": {
    "lenName": 16,
    "lenType": 16,
    "lenVar": 40
   },
   "kernels_config": {
    "python": {
     "delete_cmd_postfix": "",
     "delete_cmd_prefix": "del ",
     "library": "var_list.py",
     "varRefreshCmd": "print(var_dic_list())"
    },
    "r": {
     "delete_cmd_postfix": ") ",
     "delete_cmd_prefix": "rm(",
     "library": "var_list.r",
     "varRefreshCmd": "cat(var_dic_list()) "
    }
   },
   "types_to_exclude": [
    "module",
    "function",
    "builtin_function_or_method",
    "instance",
    "_Feature"
   ],
   "window_display": false
  }
 },
 "nbformat": 4,
 "nbformat_minor": 2
}
