{
 "cells": [
  {
   "cell_type": "markdown",
   "metadata": {},
   "source": [
    "# number"
   ]
  },
  {
   "cell_type": "markdown",
   "metadata": {},
   "source": [
    "## 1-1"
   ]
  },
  {
   "cell_type": "code",
   "execution_count": null,
   "metadata": {},
   "outputs": [],
   "source": [
    "# 三的倍數\n",
    "number = int(input())\n",
    "for i in range(1, number):\n",
    "    if i % 3 == 0:\n",
    "        print(i)"
   ]
  },
  {
   "cell_type": "markdown",
   "metadata": {},
   "source": [
    "## 1-2"
   ]
  },
  {
   "cell_type": "code",
   "execution_count": null,
   "metadata": {},
   "outputs": [],
   "source": [
    "# 五的倍數\n",
    "for i in range(1, number):\n",
    "    if i % 5 == 0:\n",
    "        print(i)"
   ]
  },
  {
   "cell_type": "markdown",
   "metadata": {},
   "source": [
    "## 1-3"
   ]
  },
  {
   "cell_type": "code",
   "execution_count": null,
   "metadata": {},
   "outputs": [],
   "source": [
    "# 三, 五的公倍數\n",
    "for i in range(1, number):\n",
    "    if (i % 5 == 0) and (i % 3 == 0):\n",
    "        print(i)"
   ]
  },
  {
   "cell_type": "markdown",
   "metadata": {},
   "source": [
    "## 1-4"
   ]
  },
  {
   "cell_type": "code",
   "execution_count": null,
   "metadata": {},
   "outputs": [],
   "source": [
    "# 加總各個位數的數字 (不做型別轉換)\n",
    "import math\n",
    "number = int(input())\n",
    "def sum_digit_number(number):\n",
    "    digits = int(math.log10(number))\n",
    "    return sum([int(number / 10**digit) % 10 for digit in range(digits + 1)])\n",
    "\n",
    "def sum_digit_number(number):\n",
    "    digits = int(math.log10(number))\n",
    "    answer_list = []\n",
    "    for digit in range(digits + 1):\n",
    "        answer_list.append(int(number / 10**digit) % 10)\n",
    "    return sum(answer_list)\n",
    "sum_digit_number(number)"
   ]
  },
  {
   "cell_type": "code",
   "execution_count": null,
   "metadata": {},
   "outputs": [],
   "source": []
  },
  {
   "cell_type": "markdown",
   "metadata": {},
   "source": [
    "# string"
   ]
  },
  {
   "cell_type": "markdown",
   "metadata": {},
   "source": [
    "## 1-1"
   ]
  },
  {
   "cell_type": "code",
   "execution_count": null,
   "metadata": {},
   "outputs": [],
   "source": [
    "# 字串處理, 將空白轉換成對應的逗點根句點\n",
    "# 輸出結果：\n",
    "'''\n",
    "昔人已乘黃鶴去，此地空餘黃鶴樓。\n",
    "黃鶴一去不復返，白雲千載空悠悠。\n",
    "晴川歷歷漢陽樹，芳草萋萋鸚鵡洲。\n",
    "日暮鄉關何處是，煙波江上使人愁。\n",
    "'''\n",
    "\n",
    "raw_data = \"昔人已乘黃鶴去  此地空餘黃鶴樓 黃鶴一去不復返   白雲千載空悠悠 晴川歷歷漢陽樹 芳草萋萋鸚鵡洲  日暮鄉關何處是 煙波江上使人愁\" \n",
    "\n",
    "# poem = \n"
   ]
  },
  {
   "cell_type": "code",
   "execution_count": null,
   "metadata": {},
   "outputs": [],
   "source": [
    "data = [x for x in raw_data.split(\" \") if x]\n",
    "poem = []\n",
    "for i, x in enumerate(data):\n",
    "    if i % 2:\n",
    "        poem.append(x + \"。\")\n",
    "    else:\n",
    "        poem.append(x + \"，\")\n",
    "print(\"\\n\".join(map(lambda x: \"\".join(x), zip(poem[::2], poem[1::2]))))\n",
    "print(\"\\n\".join([\"\".join(poem[i:i+2]) for i in range(0, len(poem), 2)]))"
   ]
  },
  {
   "cell_type": "code",
   "execution_count": null,
   "metadata": {},
   "outputs": [],
   "source": [
    "# poem"
   ]
  },
  {
   "cell_type": "markdown",
   "metadata": {},
   "source": [
    "## 1-2"
   ]
  },
  {
   "cell_type": "code",
   "execution_count": null,
   "metadata": {},
   "outputs": [],
   "source": [
    "# 找出詩詞的押韻字\n",
    "def find_rhyme_words(poem):\n",
    "    return [x[-2] for x in poem[1::2]]\n",
    "find_rhyme_words(poem)"
   ]
  },
  {
   "cell_type": "code",
   "execution_count": null,
   "metadata": {},
   "outputs": [],
   "source": [
    "import re\n",
    "def find_rhyme_words(poem):\n",
    "    return re.findall(\"(.)。\", \"\".join(poem))\n",
    "find_rhyme_words(poem)"
   ]
  },
  {
   "cell_type": "code",
   "execution_count": null,
   "metadata": {},
   "outputs": [],
   "source": [
    "\"\".join(poem)"
   ]
  },
  {
   "cell_type": "markdown",
   "metadata": {},
   "source": [
    "# list"
   ]
  },
  {
   "cell_type": "markdown",
   "metadata": {},
   "source": [
    "## 1-1"
   ]
  },
  {
   "cell_type": "code",
   "execution_count": null,
   "metadata": {},
   "outputs": [],
   "source": [
    "# 抓出奇數資料存成列表\n",
    "number = int(input())\n",
    "answer = []\n",
    "for i in range(number):\n",
    "    if i % 2:\n",
    "        answer.append(i)\n",
    "answer\n",
    "\n",
    "## list comprehension\n",
    "[i for i in range(number) if i % 2]"
   ]
  },
  {
   "cell_type": "markdown",
   "metadata": {},
   "source": [
    "## 1-2"
   ]
  },
  {
   "cell_type": "code",
   "execution_count": null,
   "metadata": {},
   "outputs": [],
   "source": [
    "# 抓出偶數資料存成列表\n",
    "answer = []\n",
    "for i in range(number):\n",
    "    if i % 2 == 0:\n",
    "        answer.append(i)\n",
    "answer   \n",
    "\n",
    "## list comprehension\n",
    "[i for i in range(number) if i % 2 == 0]"
   ]
  },
  {
   "cell_type": "markdown",
   "metadata": {},
   "source": [
    "## 1-3"
   ]
  },
  {
   "cell_type": "code",
   "execution_count": null,
   "metadata": {},
   "outputs": [],
   "source": [
    "# 奇數偶數分開存成二維資料\n",
    "# [[1, 3, 5, ...],\n",
    "#  [2, 4, 6, ...]]\n",
    "answer = [[], []]\n",
    "for i in range(number):\n",
    "    if i % 2:\n",
    "        answer[0].append(i)\n",
    "    else:\n",
    "        answer[1].append(i)\n",
    "answer"
   ]
  },
  {
   "cell_type": "code",
   "execution_count": null,
   "metadata": {},
   "outputs": [],
   "source": []
  },
  {
   "cell_type": "code",
   "execution_count": null,
   "metadata": {},
   "outputs": [],
   "source": []
  },
  {
   "cell_type": "markdown",
   "metadata": {},
   "source": [
    "# dict"
   ]
  },
  {
   "cell_type": "markdown",
   "metadata": {},
   "source": [
    "## 1-1"
   ]
  },
  {
   "cell_type": "code",
   "execution_count": null,
   "metadata": {},
   "outputs": [],
   "source": [
    "datas = [('Python', 55),\n",
    "         ('Java', 44),\n",
    "         ('Sqoop', 71),\n",
    "         ('Hadoop', 97),\n",
    "         ('SQL', 93),\n",
    "         ('Spark', 93),\n",
    "         ('Airflow', 82),\n",
    "         ('Flink', 44),\n",
    "         ('FastAPI', 86),\n",
    "         ('Data Structure', 45)]\n",
    "# 將科目與成績資料寫進字典裡\n",
    "# eg. {\"Python\": 55}\n",
    "\n",
    "# method 1\n",
    "scores = dict(datas)\n",
    "\n",
    "# method 2\n",
    "scores = {}\n",
    "scores.update(datas)\n",
    "\n",
    "# method 3\n",
    "for data in datas:\n",
    "    scores[data[0]] = data[1]\n",
    "scores"
   ]
  },
  {
   "cell_type": "markdown",
   "metadata": {},
   "source": [
    "## 1-2"
   ]
  },
  {
   "cell_type": "code",
   "execution_count": null,
   "metadata": {
    "code_folding": []
   },
   "outputs": [],
   "source": [
    "# 從 1-1 的結果找出不及格的科目\n",
    "for subject, score in scores.items():\n",
    "    if score < 60:\n",
    "        print(subject)"
   ]
  },
  {
   "cell_type": "code",
   "execution_count": null,
   "metadata": {},
   "outputs": [],
   "source": [
    "scores.keys()"
   ]
  },
  {
   "cell_type": "code",
   "execution_count": null,
   "metadata": {},
   "outputs": [],
   "source": []
  },
  {
   "cell_type": "code",
   "execution_count": null,
   "metadata": {},
   "outputs": [],
   "source": []
  },
  {
   "cell_type": "markdown",
   "metadata": {},
   "source": [
    "## 2-1"
   ]
  },
  {
   "cell_type": "code",
   "execution_count": null,
   "metadata": {
    "code_folding": []
   },
   "outputs": [],
   "source": [
    "from random import randint\n",
    "import json\n",
    "with open(\"./dict_test2.json\", 'r') as f:\n",
    "    datas = json.loads(f.read())"
   ]
  },
  {
   "cell_type": "code",
   "execution_count": null,
   "metadata": {
    "scrolled": true
   },
   "outputs": [],
   "source": [
    "students_scores = {}\n",
    "for data in datas:\n",
    "    student = data[0]\n",
    "    subject_scores = dict(data[1])\n",
    "    students_scores[student] = subject_scores\n",
    "# students_scores"
   ]
  },
  {
   "cell_type": "code",
   "execution_count": null,
   "metadata": {},
   "outputs": [],
   "source": [
    "# 將學生、科目、成績寫進字典裡\n",
    "# eg. {'student1': {\"Python\": 45, \"Java\": 82}, 'student2': {\"Python\":60, \"Java\": 99}}"
   ]
  },
  {
   "cell_type": "markdown",
   "metadata": {},
   "source": [
    "## 2-2"
   ]
  },
  {
   "cell_type": "code",
   "execution_count": null,
   "metadata": {},
   "outputs": [],
   "source": [
    "# 從 2-1 的結果找出總分最高的學生\n",
    "sum(students_scores['student1'].values()) # 算總分\n",
    "\n",
    "student_total_score = []\n",
    "for student, subject_scores in students_scores.items():\n",
    "    sum_of_score = sum(subject_scores.values())\n",
    "    student_total_score.append((student, sum_of_score))\n",
    "highest_score = max(student_total_score, key=lambda x: x[1])[1]\n",
    "for x in student_total_score:\n",
    "    if x[1] == highest_score:\n",
    "        print(x)"
   ]
  },
  {
   "cell_type": "markdown",
   "metadata": {},
   "source": [
    "## 2-3"
   ]
  },
  {
   "cell_type": "code",
   "execution_count": null,
   "metadata": {},
   "outputs": [],
   "source": [
    "# 從 2-1 的結果找出不及格科目最多的學生\n",
    "student_total_failed = []\n",
    "for student, subject_scores in students_scores.items():\n",
    "    total_failed = len([x for x in subject_scores.values() if x < 60])\n",
    "    student_total_failed.append((student, total_failed))\n",
    "    \n",
    "most_failed = max(student_total_failed, key=lambda x: x[1])[1]\n",
    "for x in student_total_failed:\n",
    "    if x[1] == most_failed:\n",
    "        print(x)"
   ]
  },
  {
   "cell_type": "code",
   "execution_count": null,
   "metadata": {},
   "outputs": [],
   "source": [
    "max(student_total_failed, key=lambda x: x[1])"
   ]
  },
  {
   "cell_type": "markdown",
   "metadata": {},
   "source": [
    "## 2-4"
   ]
  },
  {
   "cell_type": "code",
   "execution_count": null,
   "metadata": {},
   "outputs": [],
   "source": [
    "# 從 2-1 的結果找出班上各科目的平均分數\n",
    "subject_avg_score = {}\n",
    "for subject_scores in students_scores.values():\n",
    "    for subject, score in subject_scores.items():\n",
    "        if subject in subject_avg_score:\n",
    "            subject_avg_score[subject].append(score)\n",
    "        else:\n",
    "            subject_avg_score[subject] = [score]\n",
    "\n",
    "\n",
    "for subject in subject_avg_score:\n",
    "    subject_avg_score[subject] = sum(subject_avg_score[subject]) / len(subject_avg_score[subject])\n",
    "    \n",
    "subject_avg_score"
   ]
  },
  {
   "cell_type": "markdown",
   "metadata": {},
   "source": [
    "## 2-5"
   ]
  },
  {
   "cell_type": "code",
   "execution_count": null,
   "metadata": {},
   "outputs": [],
   "source": [
    "# 為了調整各科分數好看一點，所有平均分數不及格的科目，分數都開根號乘以 10\n",
    "# 並回傳最後的結果\n",
    "for subject_score in students_scores.values():\n",
    "    print(subject_score)\n",
    "    for subject in subject_score:\n",
    "        if subject_avg_score[subject] < 60:\n",
    "            subject_score[subject] = int((subject_score[subject]**(1/2))*10)"
   ]
  },
  {
   "cell_type": "code",
   "execution_count": null,
   "metadata": {},
   "outputs": [],
   "source": [
    "for subject_score in students_scores.values():\n",
    "    print(subject_score)"
   ]
  },
  {
   "cell_type": "code",
   "execution_count": null,
   "metadata": {},
   "outputs": [],
   "source": [
    "64**(1/2)"
   ]
  },
  {
   "cell_type": "code",
   "execution_count": null,
   "metadata": {},
   "outputs": [],
   "source": [
    "student_score (\n",
    "student string \n",
    "subject string\n",
    "score integer\n",
    ")"
   ]
  },
  {
   "cell_type": "code",
   "execution_count": null,
   "metadata": {},
   "outputs": [],
   "source": [
    "\"\"\"INSERT INTO student_score\n",
    "VALUES ('student1', 'Python', 67), (...)...\"\"\""
   ]
  },
  {
   "cell_type": "code",
   "execution_count": null,
   "metadata": {},
   "outputs": [],
   "source": [
    "students_scores"
   ]
  },
  {
   "cell_type": "code",
   "execution_count": null,
   "metadata": {},
   "outputs": [],
   "source": []
  },
  {
   "cell_type": "code",
   "execution_count": null,
   "metadata": {},
   "outputs": [],
   "source": []
  }
 ],
 "metadata": {
  "kernelspec": {
   "display_name": "Python 3",
   "language": "python",
   "name": "python3"
  },
  "language_info": {
   "codemirror_mode": {
    "name": "ipython",
    "version": 3
   },
   "file_extension": ".py",
   "mimetype": "text/x-python",
   "name": "python",
   "nbconvert_exporter": "python",
   "pygments_lexer": "ipython3",
   "version": "3.7.3"
  },
  "toc": {
   "base_numbering": 1,
   "nav_menu": {},
   "number_sections": true,
   "sideBar": true,
   "skip_h1_title": false,
   "title_cell": "Table of Contents",
   "title_sidebar": "Contents",
   "toc_cell": false,
   "toc_position": {},
   "toc_section_display": true,
   "toc_window_display": false
  },
  "varInspector": {
   "cols": {
    "lenName": 16,
    "lenType": 16,
    "lenVar": 40
   },
   "kernels_config": {
    "python": {
     "delete_cmd_postfix": "",
     "delete_cmd_prefix": "del ",
     "library": "var_list.py",
     "varRefreshCmd": "print(var_dic_list())"
    },
    "r": {
     "delete_cmd_postfix": ") ",
     "delete_cmd_prefix": "rm(",
     "library": "var_list.r",
     "varRefreshCmd": "cat(var_dic_list()) "
    }
   },
   "types_to_exclude": [
    "module",
    "function",
    "builtin_function_or_method",
    "instance",
    "_Feature"
   ],
   "window_display": false
  }
 },
 "nbformat": 4,
 "nbformat_minor": 2
}
