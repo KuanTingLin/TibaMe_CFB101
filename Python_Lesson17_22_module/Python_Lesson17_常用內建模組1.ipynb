{
 "cells": [
  {
   "cell_type": "markdown",
   "metadata": {
    "ExecuteTime": {
     "end_time": "2021-03-27T03:51:33.786419Z",
     "start_time": "2021-03-27T03:51:33.783774Z"
    }
   },
   "source": [
    "# datetime"
   ]
  },
  {
   "cell_type": "code",
   "execution_count": null,
   "metadata": {
    "ExecuteTime": {
     "end_time": "2021-04-03T08:13:45.257807Z",
     "start_time": "2021-04-03T08:13:45.255666Z"
    }
   },
   "outputs": [],
   "source": [
    "# datetime\n",
    "from datetime import datetime, timedelta, timezone\n",
    "today = datetime.today() # local time\n",
    "datetime.now(timezone.utc) # can set timezone\n",
    "today.timestamp() # datetime to timestamp\n",
    "datetime.fromtimestamp(today.timestamp())\n",
    "datetime.strptime(\"2019-05-05 10:10:10\", \"%Y-%m-%d %H:%M:%S\") #  str ->datetime obj.\n",
    "today.strftime(\"%Y%m%d %H:%M%S\") # --> datetime obj. -> str\n",
    "today.year  # --> datetime obj. -> int \n",
    "today.month  # --> datetime obj. -> int \n",
    "today.day  # --> datetime obj. -> int \n",
    "today.hour  # --> datetime obj. -> int \n",
    "today.minute  # --> datetime obj. -> int\n",
    "today.second  # --> datetime obj. -> int\n",
    "today.microsecond  # --> datetime obj. -> int\n",
    "today.weekday() # --> Monday == 0 ... Sunday == 6\n",
    "\n",
    "# timedelta\n",
    "timedelta(days=1) # --> timedelta object"
   ]
  },
  {
   "cell_type": "code",
   "execution_count": null,
   "metadata": {},
   "outputs": [],
   "source": []
  },
  {
   "cell_type": "markdown",
   "metadata": {},
   "source": [
    "## 建立 datetime 物件"
   ]
  },
  {
   "cell_type": "code",
   "execution_count": null,
   "metadata": {},
   "outputs": [],
   "source": [
    "today = datetime.today() # local time\n",
    "utc_today = datetime.now(timezone.utc) # can set timezone\n",
    "datetime_from_timestamp = datetime.fromtimestamp(today.timestamp())\n",
    "print(today)\n",
    "print(utc_today)\n",
    "print(datetime_from_timestamp)"
   ]
  },
  {
   "cell_type": "code",
   "execution_count": null,
   "metadata": {},
   "outputs": [],
   "source": [
    "today.timestamp()"
   ]
  },
  {
   "cell_type": "markdown",
   "metadata": {},
   "source": [
    "## [時間格式表示法](https://docs.python.org/3/library/datetime.html)"
   ]
  },
  {
   "cell_type": "markdown",
   "metadata": {},
   "source": [
    "## 字串轉換 datetime 物件"
   ]
  },
  {
   "cell_type": "code",
   "execution_count": null,
   "metadata": {},
   "outputs": [],
   "source": [
    "datetime_string = \"2019-05-05 10:10:10\"\n",
    "datetime_obj = datetime.strptime(datetime_string, \"%Y-%m-%d %H:%M:%S\")\n",
    "datetime_obj"
   ]
  },
  {
   "cell_type": "markdown",
   "metadata": {},
   "source": [
    "## datetime 物件轉換成字串"
   ]
  },
  {
   "cell_type": "code",
   "execution_count": null,
   "metadata": {},
   "outputs": [],
   "source": [
    "datetime_obj.strftime(\"%Y-%m-%d %H:%M%S\")"
   ]
  },
  {
   "cell_type": "markdown",
   "metadata": {},
   "source": [
    "## 時間物件各時間單位輸出"
   ]
  },
  {
   "cell_type": "code",
   "execution_count": null,
   "metadata": {},
   "outputs": [],
   "source": [
    "print(\"year= \", datetime_obj.year)  # --> datetime obj. -> int \n",
    "print(\"month= \", datetime_obj.month)  # --> datetime obj. -> int \n",
    "print(\"day= \", datetime_obj.day)  # --> datetime obj. -> int \n",
    "print(\"hour= \", datetime_obj.hour)  # --> datetime obj. -> int \n",
    "print(\"minute= \", datetime_obj.minute)  # --> datetime obj. -> int\n",
    "print(\"second= \", datetime_obj.second)  # --> datetime obj. -> int\n",
    "print(\"microsecond= \", datetime_obj.microsecond)  # --> datetime obj. -> int\n",
    "print(\"weekday= \", datetime_obj.weekday()) # --> Monday == 0 ... Sunday == 6"
   ]
  },
  {
   "cell_type": "code",
   "execution_count": null,
   "metadata": {},
   "outputs": [],
   "source": [
    "datetime_obj - timedelta(days=1)"
   ]
  },
  {
   "cell_type": "markdown",
   "metadata": {},
   "source": [
    "# math"
   ]
  },
  {
   "cell_type": "code",
   "execution_count": null,
   "metadata": {},
   "outputs": [],
   "source": [
    "import math\n",
    "print(\"math.ceil(1.2) =\", math.ceil(1.2))\n",
    "print(\"math.floor(1.6) =\", math.floor(1.6))"
   ]
  },
  {
   "cell_type": "code",
   "execution_count": null,
   "metadata": {},
   "outputs": [],
   "source": [
    "print(\"math.exp(0) =\", math.exp(0))\n",
    "print(\"math.log(4, 2) =\", math.log(4, 2)) # default base is e"
   ]
  },
  {
   "cell_type": "code",
   "execution_count": null,
   "metadata": {},
   "outputs": [],
   "source": [
    "radians = math.radians(90)\n",
    "print(\"math.pi =\", math.pi)\n",
    "print(\"math.radians(90) =\", radians)\n",
    "print(\"math.sin(radians) =\", math.sin(radians))\n",
    "print(\"math.cos(radians) =\", math.cos(radians))\n",
    "print(\"math.tan(radians) =\", math.tan(radians))"
   ]
  },
  {
   "cell_type": "markdown",
   "metadata": {},
   "source": [
    "# random"
   ]
  },
  {
   "cell_type": "code",
   "execution_count": null,
   "metadata": {},
   "outputs": [],
   "source": [
    "from random import random, randint, choice, shuffle"
   ]
  },
  {
   "cell_type": "code",
   "execution_count": null,
   "metadata": {},
   "outputs": [],
   "source": [
    "random() # 0-1 之間取亂數"
   ]
  },
  {
   "cell_type": "code",
   "execution_count": null,
   "metadata": {},
   "outputs": [],
   "source": [
    "randint(a=0, b=10) # a, b 之間取整數"
   ]
  },
  {
   "cell_type": "code",
   "execution_count": null,
   "metadata": {},
   "outputs": [],
   "source": [
    "data = [1, 2, 3, 4, 5]\n",
    "choice(data) # 序列化物件中，亂數抽取一個"
   ]
  },
  {
   "cell_type": "code",
   "execution_count": null,
   "metadata": {},
   "outputs": [],
   "source": [
    "shuffle(x=data) # 對物件重新排序\n",
    "data"
   ]
  },
  {
   "cell_type": "markdown",
   "metadata": {},
   "source": [
    "# statistics"
   ]
  },
  {
   "cell_type": "code",
   "execution_count": null,
   "metadata": {},
   "outputs": [],
   "source": [
    "import statistics"
   ]
  },
  {
   "cell_type": "code",
   "execution_count": null,
   "metadata": {},
   "outputs": [],
   "source": [
    "data = [randint(a=0, b=20) for _ in range(50)]\n",
    "\n",
    "statistics.mean(data) # 平均值\n",
    "statistics.median(data) # 中位數\n",
    "statistics.pstdev(data) # 母體標準差\n",
    "statistics.stdev(data) # 樣本標準差\n",
    "statistics.pvariance(data) # 母體變異數\n",
    "statistics.variance(data) # 樣本變異數"
   ]
  },
  {
   "cell_type": "code",
   "execution_count": null,
   "metadata": {},
   "outputs": [],
   "source": []
  }
 ],
 "metadata": {
  "kernelspec": {
   "display_name": "Python 3",
   "language": "python",
   "name": "python3"
  },
  "language_info": {
   "codemirror_mode": {
    "name": "ipython",
    "version": 3
   },
   "file_extension": ".py",
   "mimetype": "text/x-python",
   "name": "python",
   "nbconvert_exporter": "python",
   "pygments_lexer": "ipython3",
   "version": "3.7.3"
  },
  "toc": {
   "base_numbering": 1,
   "nav_menu": {},
   "number_sections": true,
   "sideBar": true,
   "skip_h1_title": false,
   "title_cell": "Table of Contents",
   "title_sidebar": "Contents",
   "toc_cell": false,
   "toc_position": {},
   "toc_section_display": true,
   "toc_window_display": true
  },
  "varInspector": {
   "cols": {
    "lenName": 16,
    "lenType": 16,
    "lenVar": 40
   },
   "kernels_config": {
    "python": {
     "delete_cmd_postfix": "",
     "delete_cmd_prefix": "del ",
     "library": "var_list.py",
     "varRefreshCmd": "print(var_dic_list())"
    },
    "r": {
     "delete_cmd_postfix": ") ",
     "delete_cmd_prefix": "rm(",
     "library": "var_list.r",
     "varRefreshCmd": "cat(var_dic_list()) "
    }
   },
   "types_to_exclude": [
    "module",
    "function",
    "builtin_function_or_method",
    "instance",
    "_Feature"
   ],
   "window_display": false
  }
 },
 "nbformat": 4,
 "nbformat_minor": 2
}
