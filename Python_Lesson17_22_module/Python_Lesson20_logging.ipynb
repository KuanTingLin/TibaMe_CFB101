{
 "cells": [
  {
   "cell_type": "markdown",
   "metadata": {},
   "source": [
    "# logging 的設定不適合在 jupyter 上操作，可以到 pycharm 練習"
   ]
  },
  {
   "cell_type": "markdown",
   "metadata": {
    "ExecuteTime": {
     "end_time": "2021-03-27T03:51:33.786419Z",
     "start_time": "2021-03-27T03:51:33.783774Z"
    }
   },
   "source": [
    "# logging"
   ]
  },
  {
   "cell_type": "code",
   "execution_count": null,
   "metadata": {},
   "outputs": [],
   "source": [
    "import logging\n",
    "logging.basicConfig(level=logging.INFO)"
   ]
  },
  {
   "cell_type": "code",
   "execution_count": null,
   "metadata": {},
   "outputs": [],
   "source": [
    "logging.info(\"test_log\")\n",
    "logging.info(\"test_log2\")"
   ]
  },
  {
   "cell_type": "markdown",
   "metadata": {},
   "source": [
    "```\n",
    "DEBUG: 細節訊息，診斷問題時使用\n",
    "INFO: 描述訊息，確認程序流程\n",
    "WARNING: 有問題或例外發生，但程式仍如常運行\n",
    "ERROR: 有嚴重問題發生，部分功能無法正常運作\n",
    "CRITICAL: 極度嚴重的問題，程式停止運作\n",
    "```"
   ]
  },
  {
   "cell_type": "code",
   "execution_count": null,
   "metadata": {},
   "outputs": [],
   "source": [
    "import logging\n",
    "logging.basicConfig(level=logging.INFO,\n",
    "                    format='%(asctime)s [%(levelname)s] line %(lineno)d %(message)s')"
   ]
  },
  {
   "cell_type": "code",
   "execution_count": null,
   "metadata": {},
   "outputs": [],
   "source": [
    "logging.info(\"test_log\")\n",
    "logging.info(\"test_log2\")"
   ]
  },
  {
   "cell_type": "code",
   "execution_count": null,
   "metadata": {},
   "outputs": [],
   "source": []
  },
  {
   "cell_type": "code",
   "execution_count": null,
   "metadata": {},
   "outputs": [],
   "source": [
    "import logging\n",
    "logger = logging.getLogger('test_logger')\n",
    "logger.setLevel(logging.INFO)\n",
    "\n",
    "handler = logging.StreamHandler()\n",
    "handler.setLevel(logging.INFO)\n",
    "\n",
    "formatter = logging.Formatter('%(asctime)s [%(levelname)s] line %(lineno)d %(message)s')\n",
    "handler.setFormatter(formatter)\n",
    "\n",
    "logger.addHandler(handler)\n",
    "\n",
    "logger.info(\"test_log\")\n",
    "logger.info(\"test_log2\")"
   ]
  },
  {
   "cell_type": "code",
   "execution_count": null,
   "metadata": {},
   "outputs": [],
   "source": []
  },
  {
   "cell_type": "code",
   "execution_count": null,
   "metadata": {},
   "outputs": [],
   "source": [
    "[loggers]\n",
    "keys=root,timeRotateLogger,countRotateLogger,simpleLogger,fileLogger\n",
    "\n",
    "[handlers]\n",
    "keys=oneMinuteHandler,tenCountsHandler,consoleHandler,simpleFileHandler\n",
    "\n",
    "[formatters]\n",
    "keys=simpleFormatter\n",
    "\n",
    "[logger_root]\n",
    "level=DEBUG\n",
    "handlers=consoleHandler\n",
    "\n",
    "[logger_simpleLogger]\n",
    "qualname=simpleLogger\n",
    "level=INFO\n",
    "handlers=simpleFileHandler\n",
    "\n",
    "[logger_timeRotateLogger]\n",
    "qualname=timeRotateLogger\n",
    "level=INFO\n",
    "handlers=oneMinuteHandler\n",
    "\n",
    "[logger_countRotateLogger]\n",
    "qualname=countRotateLogger\n",
    "level=DEBUG\n",
    "handlers=tenCountsHandler\n",
    "\n",
    "[logger_fileLogger]\n",
    "qualname=fileLogger\n",
    "level=DEBUG\n",
    "handlers=simpleFileHandler\n",
    "\n",
    "[handler_consoleHandler]\n",
    "class=StreamHandler\n",
    "args=(sys.stdout,)\n",
    "level=INFO\n",
    "formatter=simpleFormatter\n",
    "\n",
    "[handler_oneMinuteHandler]\n",
    "class=logging.handlers.TimedRotatingFileHandler\n",
    "args=('oneMinuteHandler.log', 'M', 1)\n",
    "level=INFO\n",
    "formatter=simpleFormatter\n",
    "\n",
    "[handler_tenCountsHandler]\n",
    "class=logging.handlers.RotatingFileHandler\n",
    "args=('tenCountsHandler.log', 'a', 1)\n",
    "level=INFO\n",
    "formatter=simpleFormatter\n",
    "\n",
    "[handler_simpleFileHandler]\n",
    "class=FileHandler\n",
    "args=('FileHandler.log',)\n",
    "level=ERROR\n",
    "formatter=simpleFormatter\n",
    "\n",
    "[formatter_simpleFormatter]\n",
    "format=%(asctime)s [%(levelname)s] line %(lineno)d %(message)s"
   ]
  }
 ],
 "metadata": {
  "kernelspec": {
   "display_name": "Python 3",
   "language": "python",
   "name": "python3"
  },
  "language_info": {
   "codemirror_mode": {
    "name": "ipython",
    "version": 3
   },
   "file_extension": ".py",
   "mimetype": "text/x-python",
   "name": "python",
   "nbconvert_exporter": "python",
   "pygments_lexer": "ipython3",
   "version": "3.7.3"
  },
  "toc": {
   "base_numbering": 1,
   "nav_menu": {},
   "number_sections": true,
   "sideBar": true,
   "skip_h1_title": false,
   "title_cell": "Table of Contents",
   "title_sidebar": "Contents",
   "toc_cell": false,
   "toc_position": {},
   "toc_section_display": true,
   "toc_window_display": true
  },
  "varInspector": {
   "cols": {
    "lenName": 16,
    "lenType": 16,
    "lenVar": 40
   },
   "kernels_config": {
    "python": {
     "delete_cmd_postfix": "",
     "delete_cmd_prefix": "del ",
     "library": "var_list.py",
     "varRefreshCmd": "print(var_dic_list())"
    },
    "r": {
     "delete_cmd_postfix": ") ",
     "delete_cmd_prefix": "rm(",
     "library": "var_list.r",
     "varRefreshCmd": "cat(var_dic_list()) "
    }
   },
   "types_to_exclude": [
    "module",
    "function",
    "builtin_function_or_method",
    "instance",
    "_Feature"
   ],
   "window_display": false
  }
 },
 "nbformat": 4,
 "nbformat_minor": 2
}
