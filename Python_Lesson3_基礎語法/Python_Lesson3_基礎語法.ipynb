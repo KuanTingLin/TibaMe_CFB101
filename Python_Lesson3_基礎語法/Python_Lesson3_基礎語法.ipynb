{
 "cells": [
  {
   "cell_type": "code",
   "execution_count": null,
   "metadata": {},
   "outputs": [],
   "source": []
  },
  {
   "cell_type": "code",
   "execution_count": null,
   "metadata": {},
   "outputs": [],
   "source": []
  },
  {
   "cell_type": "code",
   "execution_count": null,
   "metadata": {},
   "outputs": [],
   "source": []
  },
  {
   "cell_type": "code",
   "execution_count": null,
   "metadata": {},
   "outputs": [],
   "source": []
  },
  {
   "cell_type": "code",
   "execution_count": null,
   "metadata": {
    "ExecuteTime": {
     "end_time": "2021-01-16T09:03:40.210261Z",
     "start_time": "2021-01-16T09:03:40.206469Z"
    }
   },
   "outputs": [],
   "source": [
    "import this"
   ]
  },
  {
   "cell_type": "code",
   "execution_count": null,
   "metadata": {
    "ExecuteTime": {
     "end_time": "2021-01-09T14:25:54.991207Z",
     "start_time": "2021-01-09T14:25:54.988693Z"
    },
    "code_folding": [
     0
    ]
   },
   "outputs": [],
   "source": [
    "#中文翻譯\n",
    "\"\"\"\n",
    "優美優於醜陋，\n",
    "明瞭優於隱晦；\n",
    "簡單優於複雜，\n",
    "複雜優於凌亂，\n",
    "扁平優於嵌套，\n",
    "稀疏優於稠密，\n",
    "可讀性很重要！\n",
    "即使實用比純粹更優，\n",
    "特例亦不可違背原則。\n",
    "錯誤絕不能悄悄忽略，\n",
    "除非它明確需要如此。\n",
    "面對不確定性，\n",
    "拒絕妄加猜測。\n",
    "任何問題應有一種，\n",
    "且最好只有一種，\n",
    "顯而易見的解決方法。\n",
    "儘管這方法一開始並非如此直觀，\n",
    "除非你是荷蘭人。\n",
    "做優於不做，\n",
    "然而不假思索還不如不做。\n",
    "很難解釋的，必然是壞方法。\n",
    "很好解釋的，可能是好方法。\n",
    "命名空間是個絕妙的主意，\n",
    "我們應好好利用它。\n",
    "\"\"\""
   ]
  },
  {
   "cell_type": "markdown",
   "metadata": {},
   "source": [
    "# keyword\n",
    "### 程式語言通常會有一些預設關鍵字，具備特定功能跟意義，不能作為任何命名用途"
   ]
  },
  {
   "cell_type": "code",
   "execution_count": null,
   "metadata": {
    "ExecuteTime": {
     "end_time": "2021-01-16T08:40:26.090396Z",
     "start_time": "2021-01-16T08:40:26.082642Z"
    },
    "code_folding": []
   },
   "outputs": [],
   "source": [
    "# show 出所有的 keyword\n",
    "import keyword\n",
    "keyword.kwlist"
   ]
  },
  {
   "cell_type": "markdown",
   "metadata": {
    "ExecuteTime": {
     "end_time": "2021-01-07T05:02:01.988821Z",
     "start_time": "2021-01-07T05:02:01.980686Z"
    }
   },
   "source": [
    "# identifir\n",
    "## 識別字，也就是命名\n",
    "### 命名原則\n",
    "> * 只能透過英文大小寫(A-Z, a-z )、數字(0-9)、底線(_)\n",
    "> * 不能用數字作為開頭\n",
    "> * 底線( _ )開頭的命名具備特殊意義\n",
    "> * 區分大小寫\n",
    "\n",
    "### 命名格式\n",
    "> * lowerCamelCase\n",
    "> * UpperCamelCase\n",
    "> * snake_case\n",
    "> * CAPITALIZE"
   ]
  },
  {
   "cell_type": "code",
   "execution_count": null,
   "metadata": {
    "ExecuteTime": {
     "end_time": "2021-01-09T05:20:40.529940Z",
     "start_time": "2021-01-09T05:20:40.515041Z"
    },
    "code_folding": []
   },
   "outputs": [],
   "source": [
    "# 宣告變數\n",
    "cat_name = \"Happy\"\n",
    "cat_age = 10"
   ]
  },
  {
   "cell_type": "markdown",
   "metadata": {},
   "source": [
    "# Literal\n",
    "### 在程式語言中，呈現資料型態的表示方式\n",
    "### 這邊透過 type function 來檢視型態"
   ]
  },
  {
   "cell_type": "code",
   "execution_count": null,
   "metadata": {
    "ExecuteTime": {
     "end_time": "2021-01-16T03:35:11.443023Z",
     "start_time": "2021-01-16T03:35:11.433703Z"
    }
   },
   "outputs": [],
   "source": [
    "# type\n",
    "# string literals\n",
    "print(\"string literals\".center(40, \"-\"))\n",
    "print(\"cat\", type(\"cat\"))\n",
    "print('cat', type('cat'), end=\"\\n\\n\")\n",
    "\n",
    "# number literals\n",
    "print(\"number literals\".center(40, \"-\"))\n",
    "print(123, type(123))\n",
    "print(1.23, type(1.23))\n",
    "print(1.23e-2, type(1.23e-2))\n",
    "print(1+5j, type(1+5j), end=\"\\n\\n\")\n",
    "\n",
    "# boolean literals\n",
    "print(\"boolean literals\".center(40, \"-\"))\n",
    "print(True, type(True))\n",
    "print(False, type(False), end=\"\\n\\n\")\n",
    "\n",
    "# literals collection\n",
    "print(\"literals collection\".center(40, \"-\"))\n",
    "print([1, 2, 3], type([1,2,3]))\n",
    "print((1, 2, 3), type((1,2,3)))\n",
    "print({\"key\": \"value\"}, type({\"key\": \"value\"}))\n",
    "print({1, 2, 3}, type({1, 2, 3}), end=\"\\n\\n\")\n",
    "\n",
    "# special literals\n",
    "print(\"special literals\".center(40, \"-\"))\n",
    "print(None, type(None), end=\"\\n\\n\")"
   ]
  },
  {
   "cell_type": "markdown",
   "metadata": {},
   "source": [
    "# Operators"
   ]
  },
  {
   "cell_type": "code",
   "execution_count": null,
   "metadata": {
    "ExecuteTime": {
     "end_time": "2021-01-09T14:43:07.434745Z",
     "start_time": "2021-01-09T14:43:07.427241Z"
    }
   },
   "outputs": [],
   "source": [
    "# Addition\n",
    "print(\"Addition\".center(20, \"=\"))\n",
    "print(\"5 + 2 = \", 5 + 2, end=\"\\n\\n\")\n",
    "\n",
    "# Subtraction\n",
    "print(\"Subtraction\".center(20, \"=\"))\n",
    "print(\"5 - 2 = \", 5 - 2, end=\"\\n\\n\")\n",
    "\n",
    "# Multiplication\n",
    "print(\"Multiplication\".center(20, \"=\"))\n",
    "print(\"5 * 2 = \", 5 * 2, end=\"\\n\\n\")\n",
    "\n",
    "# Division\n",
    "print(\"Division\".center(20, \"=\"))\n",
    "print(\"5 / 2 = \", 5 / 2, end=\"\\n\\n\")\n",
    "\n",
    "# Floor division\n",
    "print(\"Floor division\".center(20, \"=\"))\n",
    "print(\"5 // 2 = \", 5 // 2, end=\"\\n\\n\")\n",
    "\n",
    "# Modulus\n",
    "print(\"Modulus\".center(20, \"=\"))\n",
    "print(\"5 % 2 = \", 5 % 2, end=\"\\n\\n\")\n",
    "\n",
    "# Exponentiation\n",
    "print(\"Exponentiation\".center(20, \"=\"))\n",
    "print(\"5 ** 2 = \", 5 ** 2, end=\"\\n\\n\")"
   ]
  },
  {
   "cell_type": "code",
   "execution_count": null,
   "metadata": {
    "ExecuteTime": {
     "end_time": "2021-01-09T14:24:26.736588Z",
     "start_time": "2021-01-09T14:24:26.734151Z"
    }
   },
   "outputs": [],
   "source": [
    "print(\"Hello World!\")"
   ]
  },
  {
   "cell_type": "code",
   "execution_count": null,
   "metadata": {
    "ExecuteTime": {
     "end_time": "2021-01-09T14:24:41.798635Z",
     "start_time": "2021-01-09T14:24:28.082999Z"
    }
   },
   "outputs": [],
   "source": [
    "input(\"What did you say? \")"
   ]
  },
  {
   "cell_type": "markdown",
   "metadata": {},
   "source": [
    "# 科普\n",
    "## import 與 built_in_function\n",
    "```\n",
    "所謂的 built_in_function 就是內建函式，你不需要載入到程式裡面，就可以直接呼叫\n",
    "例如 print, input, type 就是 built_in_function\n",
    "\n",
    "如果不是 built_in_function, 要使用之前需要先透過\n",
    "import 將其載入到程式內，才可呼叫\n",
    "例如 import keyword\n",
    "```\n",
    "\n",
    "## jupyter notebook 小訣竅\n",
    "> shift + tab + tab 可以看到文件說明"
   ]
  },
  {
   "cell_type": "code",
   "execution_count": null,
   "metadata": {},
   "outputs": [],
   "source": []
  }
 ],
 "metadata": {
  "kernelspec": {
   "display_name": "Python 3",
   "language": "python",
   "name": "python3"
  },
  "language_info": {
   "codemirror_mode": {
    "name": "ipython",
    "version": 3
   },
   "file_extension": ".py",
   "mimetype": "text/x-python",
   "name": "python",
   "nbconvert_exporter": "python",
   "pygments_lexer": "ipython3",
   "version": "3.7.3"
  },
  "toc": {
   "base_numbering": 1,
   "nav_menu": {},
   "number_sections": true,
   "sideBar": true,
   "skip_h1_title": false,
   "title_cell": "Table of Contents",
   "title_sidebar": "Contents",
   "toc_cell": false,
   "toc_position": {
    "height": "634px",
    "left": "26px",
    "top": "110px",
    "width": "165px"
   },
   "toc_section_display": true,
   "toc_window_display": true
  },
  "varInspector": {
   "cols": {
    "lenName": 16,
    "lenType": 16,
    "lenVar": 40
   },
   "kernels_config": {
    "python": {
     "delete_cmd_postfix": "",
     "delete_cmd_prefix": "del ",
     "library": "var_list.py",
     "varRefreshCmd": "print(var_dic_list())"
    },
    "r": {
     "delete_cmd_postfix": ") ",
     "delete_cmd_prefix": "rm(",
     "library": "var_list.r",
     "varRefreshCmd": "cat(var_dic_list()) "
    }
   },
   "position": {
    "height": "287px",
    "left": "1067.046875px",
    "right": "20px",
    "top": "166px",
    "width": "300px"
   },
   "types_to_exclude": [
    "module",
    "function",
    "builtin_function_or_method",
    "instance",
    "_Feature"
   ],
   "window_display": false
  }
 },
 "nbformat": 4,
 "nbformat_minor": 2
}
