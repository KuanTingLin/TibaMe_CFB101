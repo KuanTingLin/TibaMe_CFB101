{
 "cells": [
  {
   "cell_type": "markdown",
   "metadata": {},
   "source": [
    "# Everything is an object.\n",
    "# Every object has a type.\n",
    "# Type and class are synonymous.\n"
   ]
  },
  {
   "cell_type": "markdown",
   "metadata": {},
   "source": [
    "## 重點函數\n",
    "```\n",
    "type: 判別變數型別\n",
    "dir: 檢驗物件的所有屬性跟方法\n",
    "```"
   ]
  },
  {
   "cell_type": "markdown",
   "metadata": {},
   "source": [
    "## 物件可以有自己的屬性跟方法"
   ]
  },
  {
   "cell_type": "code",
   "execution_count": null,
   "metadata": {
    "ExecuteTime": {
     "end_time": "2021-03-31T15:16:53.059246Z",
     "start_time": "2021-03-31T15:16:53.055818Z"
    }
   },
   "outputs": [],
   "source": [
    "name = \"cat\"\n",
    "name.upper()"
   ]
  },
  {
   "cell_type": "code",
   "execution_count": null,
   "metadata": {
    "ExecuteTime": {
     "end_time": "2021-03-31T15:16:57.788672Z",
     "start_time": "2021-03-31T15:16:57.784653Z"
    }
   },
   "outputs": [],
   "source": [
    "# 檢驗物件的所有屬性跟方法：\n",
    "dir(name)"
   ]
  },
  {
   "cell_type": "markdown",
   "metadata": {},
   "source": [
    "## 資料存在記憶體"
   ]
  },
  {
   "cell_type": "code",
   "execution_count": null,
   "metadata": {
    "ExecuteTime": {
     "end_time": "2021-03-31T14:31:52.975148Z",
     "start_time": "2021-03-31T14:31:52.971882Z"
    }
   },
   "outputs": [],
   "source": [
    "# 檢驗記憶體位置的函式：\n",
    "id # Return the identity of an object.\n",
    "hex # Return the hexadecimal representation of an integer."
   ]
  },
  {
   "cell_type": "code",
   "execution_count": null,
   "metadata": {
    "ExecuteTime": {
     "end_time": "2021-03-31T14:43:04.982717Z",
     "start_time": "2021-03-31T14:43:04.980453Z"
    }
   },
   "outputs": [],
   "source": [
    "x = 12345\n",
    "y = 12345"
   ]
  },
  {
   "cell_type": "code",
   "execution_count": null,
   "metadata": {
    "ExecuteTime": {
     "end_time": "2021-03-31T14:43:05.366552Z",
     "start_time": "2021-03-31T14:43:05.363434Z"
    }
   },
   "outputs": [],
   "source": [
    "print(\"id(x): \", id(x))\n",
    "print(\"id(y): \", id(y))"
   ]
  },
  {
   "cell_type": "code",
   "execution_count": null,
   "metadata": {
    "ExecuteTime": {
     "end_time": "2021-03-31T14:56:33.747139Z",
     "start_time": "2021-03-31T14:56:33.738940Z"
    }
   },
   "outputs": [],
   "source": [
    "# 轉成 16進位\n",
    "hex(id(x))"
   ]
  },
  {
   "cell_type": "markdown",
   "metadata": {},
   "source": [
    "## 特殊的賦值方式"
   ]
  },
  {
   "cell_type": "code",
   "execution_count": null,
   "metadata": {
    "ExecuteTime": {
     "end_time": "2021-03-31T15:09:12.962407Z",
     "start_time": "2021-03-31T15:09:12.959713Z"
    }
   },
   "outputs": [],
   "source": [
    "a, b = 2, 3\n",
    "print(a, b)"
   ]
  },
  {
   "cell_type": "code",
   "execution_count": null,
   "metadata": {
    "ExecuteTime": {
     "end_time": "2021-03-31T15:09:13.254871Z",
     "start_time": "2021-03-31T15:09:13.251873Z"
    }
   },
   "outputs": [],
   "source": [
    "a, b = b, a\n",
    "print(a, b)"
   ]
  },
  {
   "cell_type": "code",
   "execution_count": null,
   "metadata": {
    "ExecuteTime": {
     "end_time": "2021-03-31T15:09:13.599851Z",
     "start_time": "2021-03-31T15:09:13.596889Z"
    }
   },
   "outputs": [],
   "source": [
    "a, b = (2, 3)\n",
    "print(a, b)"
   ]
  },
  {
   "cell_type": "code",
   "execution_count": null,
   "metadata": {
    "ExecuteTime": {
     "end_time": "2021-03-31T15:09:13.967957Z",
     "start_time": "2021-03-31T15:09:13.964604Z"
    }
   },
   "outputs": [],
   "source": [
    "a, b = (2, 3)\n",
    "print(a, b)"
   ]
  },
  {
   "cell_type": "markdown",
   "metadata": {},
   "source": [
    "## 運算子的運作"
   ]
  },
  {
   "cell_type": "markdown",
   "metadata": {
    "ExecuteTime": {
     "end_time": "2021-03-31T15:15:33.414899Z",
     "start_time": "2021-03-31T15:15:33.407789Z"
    }
   },
   "source": [
    "### 運算子的內建方法：\n",
    "```\n",
    "__add__ : 加法\n",
    "__sub__ : 減法\n",
    "__mul__ : 乘法\n",
    "__mod__ : 除法\n",
    "```"
   ]
  },
  {
   "cell_type": "markdown",
   "metadata": {},
   "source": [
    "### 字串的四則運算"
   ]
  },
  {
   "cell_type": "code",
   "execution_count": null,
   "metadata": {
    "ExecuteTime": {
     "end_time": "2021-03-31T15:20:35.377678Z",
     "start_time": "2021-03-31T15:20:35.374731Z"
    }
   },
   "outputs": [],
   "source": [
    "\"cute \" + \"cat\""
   ]
  },
  {
   "cell_type": "code",
   "execution_count": null,
   "metadata": {
    "ExecuteTime": {
     "end_time": "2021-03-31T15:20:45.625733Z",
     "start_time": "2021-03-31T15:20:45.622411Z"
    }
   },
   "outputs": [],
   "source": [
    "\"cute \"*3"
   ]
  },
  {
   "cell_type": "markdown",
   "metadata": {},
   "source": [
    "### 串列的四則運算"
   ]
  },
  {
   "cell_type": "code",
   "execution_count": null,
   "metadata": {
    "ExecuteTime": {
     "end_time": "2021-03-31T15:21:54.034371Z",
     "start_time": "2021-03-31T15:21:54.030328Z"
    }
   },
   "outputs": [],
   "source": [
    "[1, 2, 3] + [4, 5, 6]"
   ]
  },
  {
   "cell_type": "code",
   "execution_count": null,
   "metadata": {
    "ExecuteTime": {
     "end_time": "2021-03-31T15:22:00.395381Z",
     "start_time": "2021-03-31T15:22:00.391872Z"
    }
   },
   "outputs": [],
   "source": [
    "[1, 2, 3]*3"
   ]
  },
  {
   "cell_type": "markdown",
   "metadata": {},
   "source": [
    "### 字串、串列的比較運算子是逐一比對"
   ]
  },
  {
   "cell_type": "code",
   "execution_count": null,
   "metadata": {
    "ExecuteTime": {
     "end_time": "2021-03-31T15:23:18.729738Z",
     "start_time": "2021-03-31T15:23:18.724928Z"
    }
   },
   "outputs": [],
   "source": [
    "\"123\" > \"23\""
   ]
  },
  {
   "cell_type": "code",
   "execution_count": null,
   "metadata": {
    "ExecuteTime": {
     "end_time": "2021-03-31T15:23:18.987470Z",
     "start_time": "2021-03-31T15:23:18.983986Z"
    }
   },
   "outputs": [],
   "source": [
    "[1,2,3] > [2,3]"
   ]
  },
  {
   "cell_type": "markdown",
   "metadata": {},
   "source": [
    "### 小括號的用途"
   ]
  },
  {
   "cell_type": "code",
   "execution_count": null,
   "metadata": {
    "ExecuteTime": {
     "end_time": "2021-03-31T15:23:36.843148Z",
     "start_time": "2021-03-31T15:23:36.839195Z"
    }
   },
   "outputs": [],
   "source": [
    "((2 + 5)*9 + 7) / 10"
   ]
  },
  {
   "cell_type": "markdown",
   "metadata": {},
   "source": [
    "## 邏輯運算符"
   ]
  },
  {
   "cell_type": "markdown",
   "metadata": {},
   "source": [
    "### 且 and"
   ]
  },
  {
   "cell_type": "code",
   "execution_count": null,
   "metadata": {
    "ExecuteTime": {
     "end_time": "2021-03-31T15:26:00.725967Z",
     "start_time": "2021-03-31T15:26:00.721530Z"
    }
   },
   "outputs": [],
   "source": [
    "a = 2\n",
    "b = 3\n",
    "\n",
    "print(\"(a==2) and (b==3) = \", (a==2) and (b==3))\n",
    "print(\"(a==2) and (b==2) = \", (a==2) and (b==2))\n",
    "print(\"(a==2) & (b==3) = \", (a==2) & (b==3))\n",
    "print(\"(a==2) & (b==2) = \", (a==2) & (b==2))"
   ]
  },
  {
   "cell_type": "markdown",
   "metadata": {},
   "source": [
    "### 或 or"
   ]
  },
  {
   "cell_type": "code",
   "execution_count": null,
   "metadata": {
    "ExecuteTime": {
     "end_time": "2021-03-31T15:26:44.217183Z",
     "start_time": "2021-03-31T15:26:44.213136Z"
    }
   },
   "outputs": [],
   "source": [
    "print(\"(a==2) or (b==3) = \", (a==1) or (b==3))\n",
    "print(\"(a==2) or (b==2) = \", (a==1) or (b==2))\n",
    "print(\"(a==2) | (b==3) = \", (a==1) | (b==3))\n",
    "print(\"(a==2) | (b==2) = \", (a==1) | (b==2))"
   ]
  },
  {
   "cell_type": "markdown",
   "metadata": {
    "ExecuteTime": {
     "end_time": "2021-03-31T15:28:00.574017Z",
     "start_time": "2021-03-31T15:28:00.572355Z"
    }
   },
   "source": [
    "### 非 not"
   ]
  },
  {
   "cell_type": "code",
   "execution_count": null,
   "metadata": {
    "ExecuteTime": {
     "end_time": "2021-03-31T15:27:20.994280Z",
     "start_time": "2021-03-31T15:27:20.991359Z"
    }
   },
   "outputs": [],
   "source": [
    "print(\"(a==2) or (not b==3) = \", (a==1) or (not b==3))"
   ]
  },
  {
   "cell_type": "markdown",
   "metadata": {},
   "source": [
    "## 成員運算符"
   ]
  },
  {
   "cell_type": "code",
   "execution_count": null,
   "metadata": {
    "ExecuteTime": {
     "end_time": "2021-03-31T15:28:52.099857Z",
     "start_time": "2021-03-31T15:28:52.096160Z"
    }
   },
   "outputs": [],
   "source": [
    "1 in [1, 2, 3]"
   ]
  },
  {
   "cell_type": "code",
   "execution_count": null,
   "metadata": {
    "ExecuteTime": {
     "end_time": "2021-03-31T15:28:52.451754Z",
     "start_time": "2021-03-31T15:28:52.448231Z"
    }
   },
   "outputs": [],
   "source": [
    "5 not in [1, 2, 3]"
   ]
  },
  {
   "cell_type": "markdown",
   "metadata": {},
   "source": [
    "## 身份運算符\n",
    "### 比較得是記憶體位置"
   ]
  },
  {
   "cell_type": "code",
   "execution_count": null,
   "metadata": {
    "ExecuteTime": {
     "end_time": "2021-03-31T15:31:19.068257Z",
     "start_time": "2021-03-31T15:31:19.065781Z"
    }
   },
   "outputs": [],
   "source": [
    "x = 12345\n",
    "y = 12345"
   ]
  },
  {
   "cell_type": "code",
   "execution_count": null,
   "metadata": {
    "ExecuteTime": {
     "end_time": "2021-03-31T15:31:19.325076Z",
     "start_time": "2021-03-31T15:31:19.322104Z"
    }
   },
   "outputs": [],
   "source": [
    "x is y"
   ]
  },
  {
   "cell_type": "code",
   "execution_count": null,
   "metadata": {
    "ExecuteTime": {
     "end_time": "2021-03-31T15:31:19.693374Z",
     "start_time": "2021-03-31T15:31:19.690088Z"
    }
   },
   "outputs": [],
   "source": [
    "x is not y"
   ]
  },
  {
   "cell_type": "markdown",
   "metadata": {
    "ExecuteTime": {
     "end_time": "2021-03-31T15:31:59.185472Z",
     "start_time": "2021-03-31T15:31:59.176789Z"
    }
   },
   "source": [
    "## 按位運算符"
   ]
  },
  {
   "cell_type": "code",
   "execution_count": null,
   "metadata": {
    "ExecuteTime": {
     "end_time": "2021-03-31T15:32:38.202907Z",
     "start_time": "2021-03-31T15:32:38.199853Z"
    }
   },
   "outputs": [],
   "source": [
    "3 & 5\n",
    "# 3: 011\n",
    "# 5: 101\n",
    "# = 001"
   ]
  },
  {
   "cell_type": "code",
   "execution_count": null,
   "metadata": {
    "ExecuteTime": {
     "end_time": "2021-03-31T15:33:16.647520Z",
     "start_time": "2021-03-31T15:33:16.644460Z"
    }
   },
   "outputs": [],
   "source": [
    "3 | 5\n",
    "# 3: 011\n",
    "# 5: 101\n",
    "# = 111"
   ]
  },
  {
   "cell_type": "code",
   "execution_count": null,
   "metadata": {
    "ExecuteTime": {
     "end_time": "2021-03-31T15:33:58.534616Z",
     "start_time": "2021-03-31T15:33:58.531583Z"
    }
   },
   "outputs": [],
   "source": [
    "3 ^ 5\n",
    "# 3: 011\n",
    "# 5: 101\n",
    "# = 110"
   ]
  },
  {
   "cell_type": "code",
   "execution_count": null,
   "metadata": {
    "ExecuteTime": {
     "end_time": "2021-03-31T15:57:00.191490Z",
     "start_time": "2021-03-31T15:57:00.188153Z"
    }
   },
   "outputs": [],
   "source": [
    "~5\n",
    "# -(x+1)"
   ]
  },
  {
   "cell_type": "code",
   "execution_count": null,
   "metadata": {
    "ExecuteTime": {
     "end_time": "2021-04-01T01:36:16.580878Z",
     "start_time": "2021-04-01T01:36:16.549083Z"
    }
   },
   "outputs": [],
   "source": [
    "~(-5)"
   ]
  },
  {
   "cell_type": "code",
   "execution_count": null,
   "metadata": {
    "ExecuteTime": {
     "end_time": "2021-04-01T01:44:39.512947Z",
     "start_time": "2021-04-01T01:44:39.508410Z"
    }
   },
   "outputs": [],
   "source": [
    "5<<2\n",
    "# 5: 101\n",
    "# = 10100"
   ]
  },
  {
   "cell_type": "code",
   "execution_count": null,
   "metadata": {
    "ExecuteTime": {
     "end_time": "2021-04-01T01:44:39.681549Z",
     "start_time": "2021-04-01T01:44:39.677479Z"
    }
   },
   "outputs": [],
   "source": [
    "5>>2\n",
    "# 5: 101\n",
    "# = 001"
   ]
  },
  {
   "cell_type": "markdown",
   "metadata": {},
   "source": [
    "# 特殊的 jupyter 套件：\n",
    "## [jupyter_contrib_nbextensions](https://jupyter-contrib-nbextensions.readthedocs.io/en/latest/install.html)\n",
    "\n",
    "```\n",
    "conda install -c conda-forge jupyter_contrib_nbextensions\n",
    "jupyter contrib nbextension install --user\n",
    "jupyter nbextension enable codefolding/main\n",
    "```"
   ]
  },
  {
   "cell_type": "code",
   "execution_count": null,
   "metadata": {},
   "outputs": [],
   "source": []
  }
 ],
 "metadata": {
  "kernelspec": {
   "display_name": "Python 3",
   "language": "python",
   "name": "python3"
  },
  "language_info": {
   "codemirror_mode": {
    "name": "ipython",
    "version": 3
   },
   "file_extension": ".py",
   "mimetype": "text/x-python",
   "name": "python",
   "nbconvert_exporter": "python",
   "pygments_lexer": "ipython3",
   "version": "3.7.3"
  },
  "toc": {
   "base_numbering": 1,
   "nav_menu": {},
   "number_sections": true,
   "sideBar": true,
   "skip_h1_title": false,
   "title_cell": "Table of Contents",
   "title_sidebar": "Contents",
   "toc_cell": false,
   "toc_position": {
    "height": "634px",
    "left": "26px",
    "top": "110px",
    "width": "349px"
   },
   "toc_section_display": true,
   "toc_window_display": true
  },
  "varInspector": {
   "cols": {
    "lenName": 16,
    "lenType": 16,
    "lenVar": 40
   },
   "kernels_config": {
    "python": {
     "delete_cmd_postfix": "",
     "delete_cmd_prefix": "del ",
     "library": "var_list.py",
     "varRefreshCmd": "print(var_dic_list())"
    },
    "r": {
     "delete_cmd_postfix": ") ",
     "delete_cmd_prefix": "rm(",
     "library": "var_list.r",
     "varRefreshCmd": "cat(var_dic_list()) "
    }
   },
   "position": {
    "height": "287px",
    "left": "1067.046875px",
    "right": "20px",
    "top": "166px",
    "width": "300px"
   },
   "types_to_exclude": [
    "module",
    "function",
    "builtin_function_or_method",
    "instance",
    "_Feature"
   ],
   "window_display": false
  }
 },
 "nbformat": 4,
 "nbformat_minor": 2
}
