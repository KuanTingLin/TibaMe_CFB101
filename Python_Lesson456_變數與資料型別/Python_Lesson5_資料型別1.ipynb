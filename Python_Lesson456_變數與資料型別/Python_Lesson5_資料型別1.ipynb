{
 "cells": [
  {
   "cell_type": "markdown",
   "metadata": {},
   "source": [
    "# Everything is an object.\n",
    "# Every object has a type.\n",
    "# Type and class are synonymous.\n",
    "\n"
   ]
  },
  {
   "cell_type": "markdown",
   "metadata": {},
   "source": [
    "## 重點函數\n",
    "```\n",
    "type: 判別變數型別\n",
    "```"
   ]
  },
  {
   "cell_type": "code",
   "execution_count": null,
   "metadata": {
    "ExecuteTime": {
     "end_time": "2021-03-31T16:51:23.504725Z",
     "start_time": "2021-03-31T16:51:23.501367Z"
    }
   },
   "outputs": [],
   "source": [
    "# 整數型別\n",
    "int"
   ]
  },
  {
   "cell_type": "code",
   "execution_count": null,
   "metadata": {
    "ExecuteTime": {
     "end_time": "2021-03-31T16:51:27.709522Z",
     "start_time": "2021-03-31T16:51:27.706189Z"
    }
   },
   "outputs": [],
   "source": [
    "# 浮點數型別\n",
    "float"
   ]
  },
  {
   "cell_type": "code",
   "execution_count": null,
   "metadata": {
    "ExecuteTime": {
     "end_time": "2021-03-31T16:51:32.873853Z",
     "start_time": "2021-03-31T16:51:32.870429Z"
    }
   },
   "outputs": [],
   "source": [
    "# 複數型別\n",
    "complex"
   ]
  },
  {
   "cell_type": "code",
   "execution_count": null,
   "metadata": {
    "ExecuteTime": {
     "end_time": "2021-03-31T16:51:36.579958Z",
     "start_time": "2021-03-31T16:51:36.576468Z"
    }
   },
   "outputs": [],
   "source": [
    "# 布林型別\n",
    "bool"
   ]
  },
  {
   "cell_type": "markdown",
   "metadata": {},
   "source": [
    "## 常用函數"
   ]
  },
  {
   "cell_type": "code",
   "execution_count": null,
   "metadata": {
    "ExecuteTime": {
     "end_time": "2021-03-21T16:48:46.085711Z",
     "start_time": "2021-03-21T16:48:46.081959Z"
    }
   },
   "outputs": [],
   "source": [
    "print(\"abs(-1) =\", abs(-2))\n",
    "print(\"pow(10, 2) =\", pow(10, 2))\n",
    "print(\"round(2.5) =\", round(2.5))"
   ]
  },
  {
   "cell_type": "code",
   "execution_count": null,
   "metadata": {
    "ExecuteTime": {
     "end_time": "2021-03-21T16:50:51.977667Z",
     "start_time": "2021-03-21T16:50:51.974693Z"
    }
   },
   "outputs": [],
   "source": [
    "import math\n",
    "print(\"math.ceil(1.2) =\", math.ceil(1.2))\n",
    "print(\"math.floor(1.6) =\", math.floor(1.6))"
   ]
  },
  {
   "cell_type": "code",
   "execution_count": null,
   "metadata": {
    "ExecuteTime": {
     "end_time": "2021-03-21T16:50:54.893014Z",
     "start_time": "2021-03-21T16:50:54.889263Z"
    }
   },
   "outputs": [],
   "source": [
    "print(\"math.exp(0) =\", math.exp(0))\n",
    "print(\"math.log(4, 2) =\", math.log(4, 2)) # default base is e\n",
    "print(\"math.pi =\", math.pi)"
   ]
  },
  {
   "cell_type": "code",
   "execution_count": null,
   "metadata": {
    "ExecuteTime": {
     "end_time": "2021-03-21T16:50:32.638883Z",
     "start_time": "2021-03-21T16:50:32.635025Z"
    }
   },
   "outputs": [],
   "source": [
    "radians = math.radians(90)\n",
    "print(\"math.radians(90) =\", radians)\n",
    "print(\"math.sin(radians) =\", math.sin(radians))\n",
    "print(\"math.cos(radians) =\", math.cos(radians))\n",
    "print(\"math.tan(radians) =\", math.tan(radians))"
   ]
  },
  {
   "cell_type": "markdown",
   "metadata": {},
   "source": [
    "# 型別轉換"
   ]
  },
  {
   "cell_type": "markdown",
   "metadata": {},
   "source": [
    "## 請練習各個數值型別的轉換，並理解其中差異\n"
   ]
  },
  {
   "cell_type": "code",
   "execution_count": null,
   "metadata": {
    "ExecuteTime": {
     "end_time": "2021-03-31T16:57:02.549568Z",
     "start_time": "2021-03-31T16:57:02.546308Z"
    }
   },
   "outputs": [],
   "source": [
    "# int to ......\n",
    "number1 = 123"
   ]
  },
  {
   "cell_type": "code",
   "execution_count": null,
   "metadata": {
    "ExecuteTime": {
     "end_time": "2021-03-31T16:59:36.648325Z",
     "start_time": "2021-03-31T16:59:36.644855Z"
    }
   },
   "outputs": [],
   "source": [
    "# bool to ......\n",
    "number2 = True"
   ]
  },
  {
   "cell_type": "code",
   "execution_count": null,
   "metadata": {},
   "outputs": [],
   "source": [
    "# float to ......\n",
    "number3 = 1.23"
   ]
  },
  {
   "cell_type": "code",
   "execution_count": null,
   "metadata": {},
   "outputs": [],
   "source": [
    "# complex to ......\n",
    "number4 = 1 + 1j"
   ]
  },
  {
   "cell_type": "code",
   "execution_count": null,
   "metadata": {},
   "outputs": [],
   "source": []
  },
  {
   "cell_type": "code",
   "execution_count": null,
   "metadata": {},
   "outputs": [],
   "source": []
  },
  {
   "cell_type": "code",
   "execution_count": null,
   "metadata": {},
   "outputs": [],
   "source": []
  }
 ],
 "metadata": {
  "kernelspec": {
   "display_name": "Python 3",
   "language": "python",
   "name": "python3"
  },
  "language_info": {
   "codemirror_mode": {
    "name": "ipython",
    "version": 3
   },
   "file_extension": ".py",
   "mimetype": "text/x-python",
   "name": "python",
   "nbconvert_exporter": "python",
   "pygments_lexer": "ipython3",
   "version": "3.7.3"
  },
  "toc": {
   "base_numbering": 1,
   "nav_menu": {},
   "number_sections": true,
   "sideBar": true,
   "skip_h1_title": false,
   "title_cell": "Table of Contents",
   "title_sidebar": "Contents",
   "toc_cell": false,
   "toc_position": {},
   "toc_section_display": true,
   "toc_window_display": false
  },
  "varInspector": {
   "cols": {
    "lenName": 16,
    "lenType": 16,
    "lenVar": 40
   },
   "kernels_config": {
    "python": {
     "delete_cmd_postfix": "",
     "delete_cmd_prefix": "del ",
     "library": "var_list.py",
     "varRefreshCmd": "print(var_dic_list())"
    },
    "r": {
     "delete_cmd_postfix": ") ",
     "delete_cmd_prefix": "rm(",
     "library": "var_list.r",
     "varRefreshCmd": "cat(var_dic_list()) "
    }
   },
   "types_to_exclude": [
    "module",
    "function",
    "builtin_function_or_method",
    "instance",
    "_Feature"
   ],
   "window_display": false
  }
 },
 "nbformat": 4,
 "nbformat_minor": 2
}
