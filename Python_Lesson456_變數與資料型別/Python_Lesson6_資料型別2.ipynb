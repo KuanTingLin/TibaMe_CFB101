{
 "cells": [
  {
   "cell_type": "markdown",
   "metadata": {},
   "source": [
    "# Everything is an object.\n",
    "# Every object has a type.\n",
    "# Type and class are synonymous.\n",
    "\n",
    "\n"
   ]
  },
  {
   "cell_type": "markdown",
   "metadata": {},
   "source": [
    "## 重點函數\n",
    "```\n",
    "type: 判別變數型別\n",
    "len: 判別序列變數長度\n",
    "ord: 判別字元的數字表示\n",
    "```"
   ]
  },
  {
   "cell_type": "markdown",
   "metadata": {
    "ExecuteTime": {
     "end_time": "2021-03-21T17:22:27.991496Z",
     "start_time": "2021-03-21T17:22:27.989584Z"
    }
   },
   "source": [
    "## index 的概念"
   ]
  },
  {
   "cell_type": "markdown",
   "metadata": {},
   "source": [
    "### 指定取值"
   ]
  },
  {
   "cell_type": "code",
   "execution_count": null,
   "metadata": {
    "ExecuteTime": {
     "end_time": "2021-03-21T17:22:47.883064Z",
     "start_time": "2021-03-21T17:22:47.879656Z"
    }
   },
   "outputs": [],
   "source": [
    "[1, 2, 3, 4, 5][0]"
   ]
  },
  {
   "cell_type": "code",
   "execution_count": null,
   "metadata": {
    "ExecuteTime": {
     "end_time": "2021-03-21T17:23:08.729511Z",
     "start_time": "2021-03-21T17:23:08.725913Z"
    }
   },
   "outputs": [],
   "source": [
    "[1, 2, 3, 4, 5][3]"
   ]
  },
  {
   "cell_type": "markdown",
   "metadata": {},
   "source": [
    "### 範圍取值"
   ]
  },
  {
   "cell_type": "code",
   "execution_count": null,
   "metadata": {
    "ExecuteTime": {
     "end_time": "2021-03-21T17:27:15.035412Z",
     "start_time": "2021-03-21T17:27:15.031542Z"
    }
   },
   "outputs": [],
   "source": [
    "[1, 2, 3, 4, 5][1:4]"
   ]
  },
  {
   "cell_type": "code",
   "execution_count": null,
   "metadata": {
    "ExecuteTime": {
     "end_time": "2021-03-21T17:27:15.207519Z",
     "start_time": "2021-03-21T17:27:15.203851Z"
    }
   },
   "outputs": [],
   "source": [
    "[1, 2, 3, 4, 5][:3]"
   ]
  },
  {
   "cell_type": "code",
   "execution_count": null,
   "metadata": {
    "ExecuteTime": {
     "end_time": "2021-03-21T17:27:15.342401Z",
     "start_time": "2021-03-21T17:27:15.338255Z"
    }
   },
   "outputs": [],
   "source": [
    "[1, 2, 3, 4, 5][2:]"
   ]
  },
  {
   "cell_type": "markdown",
   "metadata": {},
   "source": [
    "### 間隔取值"
   ]
  },
  {
   "cell_type": "code",
   "execution_count": null,
   "metadata": {
    "ExecuteTime": {
     "end_time": "2021-03-21T17:31:41.961996Z",
     "start_time": "2021-03-21T17:31:41.958072Z"
    }
   },
   "outputs": [],
   "source": [
    "[1, 2, 3, 4, 5][0:5:2]"
   ]
  },
  {
   "cell_type": "code",
   "execution_count": null,
   "metadata": {},
   "outputs": [],
   "source": []
  },
  {
   "cell_type": "markdown",
   "metadata": {},
   "source": [
    "# String\n",
    "### 可以是字母、數字、符號、各國文字"
   ]
  },
  {
   "cell_type": "code",
   "execution_count": null,
   "metadata": {
    "ExecuteTime": {
     "end_time": "2021-03-22T00:52:55.516254Z",
     "start_time": "2021-03-22T00:52:55.512855Z"
    }
   },
   "outputs": [],
   "source": [
    "str(123)"
   ]
  },
  {
   "cell_type": "code",
   "execution_count": null,
   "metadata": {
    "ExecuteTime": {
     "end_time": "2021-03-21T14:27:21.371434Z",
     "start_time": "2021-03-21T14:27:21.367554Z"
    }
   },
   "outputs": [],
   "source": [
    "print('aaa')\n",
    "type('aaa')"
   ]
  },
  {
   "cell_type": "code",
   "execution_count": null,
   "metadata": {
    "ExecuteTime": {
     "end_time": "2021-03-21T14:27:21.566796Z",
     "start_time": "2021-03-21T14:27:21.563147Z"
    }
   },
   "outputs": [],
   "source": [
    "print('123')\n",
    "type('123')"
   ]
  },
  {
   "cell_type": "code",
   "execution_count": null,
   "metadata": {
    "ExecuteTime": {
     "end_time": "2021-03-21T14:27:21.735212Z",
     "start_time": "2021-03-21T14:27:21.731016Z"
    }
   },
   "outputs": [],
   "source": [
    "print(\"@#@!$\")\n",
    "type(\"@#@!$\")"
   ]
  },
  {
   "cell_type": "markdown",
   "metadata": {},
   "source": [
    "### 編碼\n",
    "```\n",
    "ord 函式可以將字元轉換成對應的數字\n",
    "```"
   ]
  },
  {
   "cell_type": "code",
   "execution_count": null,
   "metadata": {
    "ExecuteTime": {
     "end_time": "2021-03-21T14:28:07.573411Z",
     "start_time": "2021-03-21T14:28:07.568758Z"
    }
   },
   "outputs": [],
   "source": [
    "print('1 =', ord('1'))\n",
    "print('9 =', ord('9'))\n",
    "print('a =', ord('a'))\n",
    "print('z =', ord('z'))\n",
    "print('中 =', ord('中'))\n",
    "print('文 =', ord('文'))"
   ]
  },
  {
   "cell_type": "markdown",
   "metadata": {},
   "source": [
    "### 字串與變數的結合"
   ]
  },
  {
   "cell_type": "code",
   "execution_count": null,
   "metadata": {
    "ExecuteTime": {
     "end_time": "2021-03-21T15:04:07.160113Z",
     "start_time": "2021-03-21T15:04:07.156264Z"
    }
   },
   "outputs": [],
   "source": [
    "name = \"cat\"\n",
    "description = \"cute\"\n",
    "\n",
    "# format string\n",
    "print(\"my {} is very {}.\".format(name, description))\n",
    "\n",
    "print(\"my {a} is very {b}.\".format(a=name, b=description))\n",
    "\n",
    "# fstring\n",
    "print(f\"my {name} is very {description}.\")"
   ]
  },
  {
   "cell_type": "markdown",
   "metadata": {},
   "source": [
    "### 常用方法"
   ]
  },
  {
   "cell_type": "code",
   "execution_count": null,
   "metadata": {
    "ExecuteTime": {
     "end_time": "2021-03-21T15:12:35.838512Z",
     "start_time": "2021-03-21T15:12:35.835764Z"
    }
   },
   "outputs": [],
   "source": [
    "print(\"開頭大寫：\", \"abc def\".capitalize())\n",
    "print(\"標頭格式：\", \"abc def\".title())"
   ]
  },
  {
   "cell_type": "code",
   "execution_count": null,
   "metadata": {
    "ExecuteTime": {
     "end_time": "2021-03-21T15:12:36.050117Z",
     "start_time": "2021-03-21T15:12:36.046937Z"
    }
   },
   "outputs": [],
   "source": [
    "print(\"全部轉大寫：\", \"abc def\".upper())\n",
    "print(\"全部轉小寫：\", \"ABC DEF\".lower())"
   ]
  },
  {
   "cell_type": "code",
   "execution_count": null,
   "metadata": {
    "ExecuteTime": {
     "end_time": "2021-03-21T15:12:36.255331Z",
     "start_time": "2021-03-21T15:12:36.251587Z"
    }
   },
   "outputs": [],
   "source": [
    "print(\"針對不要的去頭去尾：\", \"-ABC DEF-\".strip(\"-\"))\n",
    "print(\"置中並以對應符號填滿長度：\", \"abc\".center(10, \"-\")) #寫log時好用"
   ]
  },
  {
   "cell_type": "code",
   "execution_count": null,
   "metadata": {
    "ExecuteTime": {
     "end_time": "2021-03-21T15:12:36.446970Z",
     "start_time": "2021-03-21T15:12:36.444051Z"
    }
   },
   "outputs": [],
   "source": [
    "print(\"判斷結尾：\", \"abc\".endswith(\"c\")) #判斷prefix用\n",
    "print(\"判斷開頭：\", \"abc\".startswith(\"a\"))"
   ]
  },
  {
   "cell_type": "code",
   "execution_count": null,
   "metadata": {
    "ExecuteTime": {
     "end_time": "2021-03-21T15:12:36.646943Z",
     "start_time": "2021-03-21T15:12:36.644004Z"
    }
   },
   "outputs": [],
   "source": [
    "print(\"尋找位置：\", \"abc\".find(\"b\")) #.find(world) > 0 可以找中間的字\n",
    "print(\"從最後面往前尋找位置：\", \"abc\".rfind(\"b\"))"
   ]
  },
  {
   "cell_type": "code",
   "execution_count": null,
   "metadata": {
    "ExecuteTime": {
     "end_time": "2021-03-21T15:12:36.857883Z",
     "start_time": "2021-03-21T15:12:36.854786Z"
    }
   },
   "outputs": [],
   "source": [
    "print(\"將變數帶入字串：\", \"a{}c\".format(\"b\"))\n",
    "print(\"文字替換：\", \"abc\".replace(\"b\", \"1\"))"
   ]
  },
  {
   "cell_type": "code",
   "execution_count": null,
   "metadata": {
    "ExecuteTime": {
     "end_time": "2021-03-21T15:12:37.087723Z",
     "start_time": "2021-03-21T15:12:37.084471Z"
    }
   },
   "outputs": [],
   "source": [
    "print(\"字串串接：\", \"__\".join([\"a\", \"b\", \"c\"]))\n",
    "print(\"字串分割：\", \"abcba\".split(\"b\"))"
   ]
  },
  {
   "cell_type": "code",
   "execution_count": null,
   "metadata": {
    "ExecuteTime": {
     "end_time": "2021-03-21T15:12:38.585551Z",
     "start_time": "2021-03-21T15:12:38.582847Z"
    }
   },
   "outputs": [],
   "source": [
    "# 建立對照表及字串對照處理\n",
    "trans_table = str.maketrans(\"b\", \"z\")\n",
    "print(\"abc\".translate(trans_table))"
   ]
  },
  {
   "cell_type": "markdown",
   "metadata": {},
   "source": [
    "# List"
   ]
  },
  {
   "cell_type": "code",
   "execution_count": null,
   "metadata": {
    "ExecuteTime": {
     "end_time": "2021-03-22T05:53:13.885986Z",
     "start_time": "2021-03-22T05:53:13.882419Z"
    }
   },
   "outputs": [],
   "source": [
    "list(\"12345\")"
   ]
  },
  {
   "cell_type": "code",
   "execution_count": null,
   "metadata": {
    "ExecuteTime": {
     "end_time": "2021-03-22T05:52:50.584669Z",
     "start_time": "2021-03-22T05:52:50.580229Z"
    }
   },
   "outputs": [],
   "source": [
    "data = [1, 2, 3, 4, 5]\n",
    "print(data)\n",
    "type(data)"
   ]
  },
  {
   "cell_type": "code",
   "execution_count": null,
   "metadata": {
    "ExecuteTime": {
     "end_time": "2021-03-22T05:52:54.261639Z",
     "start_time": "2021-03-22T05:52:54.257751Z"
    }
   },
   "outputs": [],
   "source": [
    "[i*i for i in data]"
   ]
  },
  {
   "cell_type": "markdown",
   "metadata": {},
   "source": [
    "### 常用方法"
   ]
  },
  {
   "cell_type": "markdown",
   "metadata": {},
   "source": [
    "```\n",
    "## list method\n",
    "list.append # 添加元素\n",
    "list.pop() # default pop the last object, \n",
    "list.extend # 合併兩個list\n",
    "list.insert() # Insert object before index.\n",
    "```"
   ]
  },
  {
   "cell_type": "code",
   "execution_count": null,
   "metadata": {
    "ExecuteTime": {
     "end_time": "2021-03-21T17:10:10.188659Z",
     "start_time": "2021-03-21T17:10:10.184241Z"
    }
   },
   "outputs": [],
   "source": [
    "data = [1,2,3,4,5,6,7,8,9,10]\n",
    "data.append(8)\n",
    "print(\"append(8): \", data)\n",
    "data.pop()\n",
    "print(\"pop(): \", data)"
   ]
  },
  {
   "cell_type": "code",
   "execution_count": null,
   "metadata": {
    "ExecuteTime": {
     "end_time": "2021-03-21T17:10:12.731135Z",
     "start_time": "2021-03-21T17:10:12.727564Z"
    }
   },
   "outputs": [],
   "source": [
    "data.insert(5, 20)\n",
    "print(\"insert(5, 20): \", data)\n",
    "data.extend([15, 16, 17])\n",
    "print(\"extend([7, 3, 2]): \", data)"
   ]
  },
  {
   "cell_type": "code",
   "execution_count": null,
   "metadata": {
    "ExecuteTime": {
     "end_time": "2021-03-21T17:14:58.720705Z",
     "start_time": "2021-03-21T17:14:58.717299Z"
    }
   },
   "outputs": [],
   "source": [
    "list.sort # 排序，key: 排序依據，reverse: 是否顛倒排序\n",
    "data.sort()\n",
    "print(\"data.sort():\", data)\n",
    "\n",
    "sorted # create new list，排序，key: 排序依據，reverse: 是否顛倒排序\n",
    "print(\"sorted(data):\", sorted(data))"
   ]
  },
  {
   "cell_type": "code",
   "execution_count": null,
   "metadata": {
    "ExecuteTime": {
     "end_time": "2021-03-21T17:14:59.403578Z",
     "start_time": "2021-03-21T17:14:59.400174Z"
    }
   },
   "outputs": [],
   "source": [
    "list.reverse # 反轉\n",
    "data.reverse()\n",
    "print(\"data.reverse():\", data)\n",
    "\n",
    "reversed # create new iterator，反轉\n",
    "print(\"reversed(data):\", reversed(data))"
   ]
  },
  {
   "cell_type": "code",
   "execution_count": null,
   "metadata": {
    "ExecuteTime": {
     "end_time": "2021-03-21T17:12:56.077934Z",
     "start_time": "2021-03-21T17:12:56.074317Z"
    }
   },
   "outputs": [],
   "source": [
    "print(\"sum(data):\", sum(data))\n",
    "print(\"min(data):\", min(data))\n",
    "print(\"max(data):\", max(data))"
   ]
  },
  {
   "cell_type": "code",
   "execution_count": null,
   "metadata": {
    "ExecuteTime": {
     "end_time": "2021-03-22T00:52:01.230324Z",
     "start_time": "2021-03-22T00:52:01.227043Z"
    }
   },
   "outputs": [],
   "source": []
  },
  {
   "cell_type": "markdown",
   "metadata": {},
   "source": [
    "# Tuple"
   ]
  },
  {
   "cell_type": "code",
   "execution_count": null,
   "metadata": {
    "ExecuteTime": {
     "end_time": "2021-03-22T05:55:15.735829Z",
     "start_time": "2021-03-22T05:55:15.732783Z"
    }
   },
   "outputs": [],
   "source": [
    "tuple(\"12345\")"
   ]
  },
  {
   "cell_type": "code",
   "execution_count": null,
   "metadata": {
    "ExecuteTime": {
     "end_time": "2021-03-22T05:55:16.344013Z",
     "start_time": "2021-03-22T05:55:16.339452Z"
    }
   },
   "outputs": [],
   "source": [
    "a = (1, 2, 3)\n",
    "print(a)\n",
    "type(a)"
   ]
  },
  {
   "cell_type": "code",
   "execution_count": null,
   "metadata": {
    "ExecuteTime": {
     "end_time": "2021-03-22T05:55:28.355540Z",
     "start_time": "2021-03-22T05:55:28.352226Z"
    }
   },
   "outputs": [],
   "source": [
    "(1, )"
   ]
  },
  {
   "cell_type": "markdown",
   "metadata": {},
   "source": [
    "### 常用方法"
   ]
  },
  {
   "cell_type": "code",
   "execution_count": null,
   "metadata": {
    "ExecuteTime": {
     "end_time": "2021-03-22T05:59:01.346638Z",
     "start_time": "2021-03-22T05:59:01.343100Z"
    }
   },
   "outputs": [],
   "source": [
    "data = (1, 3, 2)\n",
    "print(\"sum(data):\", sum(data))\n",
    "print(\"min(data):\", min(data))\n",
    "print(\"max(data):\", max(data))"
   ]
  },
  {
   "cell_type": "markdown",
   "metadata": {},
   "source": [
    "# 可變動與不可變動\n",
    "## mutable vs immutable"
   ]
  },
  {
   "cell_type": "code",
   "execution_count": null,
   "metadata": {
    "ExecuteTime": {
     "end_time": "2021-03-22T08:21:50.865520Z",
     "start_time": "2021-03-22T08:21:50.861749Z"
    }
   },
   "outputs": [],
   "source": [
    "# mutable\n",
    "mutable_array = [1, 2, 3, 4, 5]\n",
    "mutable_array[2] += 3\n",
    "mutable_array"
   ]
  },
  {
   "cell_type": "code",
   "execution_count": null,
   "metadata": {
    "ExecuteTime": {
     "end_time": "2021-03-22T08:22:52.986847Z",
     "start_time": "2021-03-22T08:22:52.979708Z"
    }
   },
   "outputs": [],
   "source": [
    "# immutable\n",
    "immutable_array = (1, 2, 3, 4, 5)\n",
    "immutable_array[2] += 3\n",
    "immutable_array"
   ]
  },
  {
   "cell_type": "code",
   "execution_count": null,
   "metadata": {
    "ExecuteTime": {
     "end_time": "2021-03-22T08:23:57.463977Z",
     "start_time": "2021-03-22T08:23:57.459937Z"
    }
   },
   "outputs": [],
   "source": [
    "# immutable\n",
    "immutable_array = ([1, 2], [3, 4])\n",
    "immutable_array[1][0] += 3\n",
    "immutable_array"
   ]
  },
  {
   "cell_type": "code",
   "execution_count": null,
   "metadata": {},
   "outputs": [],
   "source": []
  },
  {
   "cell_type": "markdown",
   "metadata": {},
   "source": [
    "# 練習"
   ]
  },
  {
   "cell_type": "code",
   "execution_count": null,
   "metadata": {},
   "outputs": [],
   "source": [
    "# 取值練習\n",
    "test_list = [\n",
    "    [\"Timothy\", \"Human\", \"handsome\"],\n",
    "    [\"Model3\", \"Car\", \"electric\"],\n",
    "    [\"Taipei\", \"City\", \"Rainy\"]\n",
    "]\n",
    "\n",
    "# print Timothy\n",
    "\n",
    "# print Car\n",
    "\n",
    "# print Rainy"
   ]
  },
  {
   "cell_type": "code",
   "execution_count": null,
   "metadata": {},
   "outputs": [],
   "source": [
    "# 字串處理練習\n",
    "mails = [\"abcn@yahoo.com.tw\", \"wooddn@hotmail.com\", \"kkzaa@gmail.com\"]\n",
    "\n",
    "# 透過字串處理及取值方法，print yahoo, hotmail, gmail"
   ]
  },
  {
   "cell_type": "code",
   "execution_count": null,
   "metadata": {},
   "outputs": [],
   "source": []
  }
 ],
 "metadata": {
  "kernelspec": {
   "display_name": "Python 3",
   "language": "python",
   "name": "python3"
  },
  "language_info": {
   "codemirror_mode": {
    "name": "ipython",
    "version": 3
   },
   "file_extension": ".py",
   "mimetype": "text/x-python",
   "name": "python",
   "nbconvert_exporter": "python",
   "pygments_lexer": "ipython3",
   "version": "3.7.3"
  },
  "toc": {
   "base_numbering": 1,
   "nav_menu": {},
   "number_sections": true,
   "sideBar": true,
   "skip_h1_title": false,
   "title_cell": "Table of Contents",
   "title_sidebar": "Contents",
   "toc_cell": false,
   "toc_position": {},
   "toc_section_display": true,
   "toc_window_display": false
  },
  "varInspector": {
   "cols": {
    "lenName": 16,
    "lenType": 16,
    "lenVar": 40
   },
   "kernels_config": {
    "python": {
     "delete_cmd_postfix": "",
     "delete_cmd_prefix": "del ",
     "library": "var_list.py",
     "varRefreshCmd": "print(var_dic_list())"
    },
    "r": {
     "delete_cmd_postfix": ") ",
     "delete_cmd_prefix": "rm(",
     "library": "var_list.r",
     "varRefreshCmd": "cat(var_dic_list()) "
    }
   },
   "types_to_exclude": [
    "module",
    "function",
    "builtin_function_or_method",
    "instance",
    "_Feature"
   ],
   "window_display": false
  }
 },
 "nbformat": 4,
 "nbformat_minor": 2
}
