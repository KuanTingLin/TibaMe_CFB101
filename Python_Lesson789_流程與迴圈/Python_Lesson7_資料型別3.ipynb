{
 "cells": [
  {
   "cell_type": "code",
   "execution_count": null,
   "metadata": {},
   "outputs": [],
   "source": []
  },
  {
   "cell_type": "code",
   "execution_count": null,
   "metadata": {},
   "outputs": [],
   "source": []
  },
  {
   "cell_type": "markdown",
   "metadata": {},
   "source": [
    "## 重點函數\n",
    "```\n",
    "type: 判別變數型別\n",
    "len: 判別序列變數長度\n",
    "```"
   ]
  },
  {
   "cell_type": "code",
   "execution_count": null,
   "metadata": {},
   "outputs": [],
   "source": []
  },
  {
   "cell_type": "markdown",
   "metadata": {},
   "source": [
    "# set"
   ]
  },
  {
   "cell_type": "code",
   "execution_count": null,
   "metadata": {
    "ExecuteTime": {
     "end_time": "2021-03-23T04:27:34.759554Z",
     "start_time": "2021-03-23T04:27:34.755824Z"
    }
   },
   "outputs": [],
   "source": [
    "a = {1, 2, 3, 4}\n",
    "type(a)"
   ]
  },
  {
   "cell_type": "code",
   "execution_count": null,
   "metadata": {
    "ExecuteTime": {
     "end_time": "2021-03-23T04:27:35.125582Z",
     "start_time": "2021-03-23T04:27:35.121780Z"
    }
   },
   "outputs": [],
   "source": [
    "type(set([1, 2, 3, 4]))"
   ]
  },
  {
   "cell_type": "markdown",
   "metadata": {},
   "source": [
    "## 常用方法"
   ]
  },
  {
   "cell_type": "markdown",
   "metadata": {},
   "source": [
    "### 聯集"
   ]
  },
  {
   "cell_type": "code",
   "execution_count": null,
   "metadata": {
    "ExecuteTime": {
     "end_time": "2021-03-23T06:22:31.530831Z",
     "start_time": "2021-03-23T06:22:31.526459Z"
    }
   },
   "outputs": [],
   "source": [
    "set_a = {1, 2, 3}\n",
    "set_b = {2, 3, 4}\n",
    "print(\"set_a.union(set_b) =\", set_a.union(set_b))\n",
    "print(\"set_a | set_b =\", set_a | set_b)"
   ]
  },
  {
   "cell_type": "markdown",
   "metadata": {},
   "source": [
    "### 交集"
   ]
  },
  {
   "cell_type": "code",
   "execution_count": null,
   "metadata": {
    "ExecuteTime": {
     "end_time": "2021-03-23T06:22:32.434565Z",
     "start_time": "2021-03-23T06:22:32.430659Z"
    }
   },
   "outputs": [],
   "source": [
    "set_a = {1, 2, 3}\n",
    "set_b = {2, 3, 4}\n",
    "print(\"set_a.intersection(set_b) =\", set_a.intersection(set_b))\n",
    "print(\"set_a & set_b =\", set_a & set_b)"
   ]
  },
  {
   "cell_type": "markdown",
   "metadata": {},
   "source": [
    "### 差集"
   ]
  },
  {
   "cell_type": "code",
   "execution_count": null,
   "metadata": {
    "ExecuteTime": {
     "end_time": "2021-03-23T06:22:57.217039Z",
     "start_time": "2021-03-23T06:22:57.213507Z"
    }
   },
   "outputs": [],
   "source": [
    "set_a = {1, 2, 3}\n",
    "set_b = {2, 3, 4}\n",
    "print(\"set_a.difference(set_b) =\", set_a.difference(set_b))\n",
    "print(\"set_a - set_b =\", set_a - set_b)"
   ]
  },
  {
   "cell_type": "markdown",
   "metadata": {},
   "source": [
    "### 對稱差集"
   ]
  },
  {
   "cell_type": "code",
   "execution_count": null,
   "metadata": {
    "ExecuteTime": {
     "end_time": "2021-03-23T06:27:07.618907Z",
     "start_time": "2021-03-23T06:27:07.615499Z"
    }
   },
   "outputs": [],
   "source": [
    "set_a = {1, 2, 3}\n",
    "set_b = {2, 3, 4}\n",
    "print(\"set_a.symmetric_difference(set_b) =\", set_a.symmetric_difference(set_b))"
   ]
  },
  {
   "cell_type": "markdown",
   "metadata": {},
   "source": [
    "### 添加與刪除"
   ]
  },
  {
   "cell_type": "code",
   "execution_count": null,
   "metadata": {
    "ExecuteTime": {
     "end_time": "2021-03-23T08:15:31.622370Z",
     "start_time": "2021-03-23T08:15:31.619153Z"
    }
   },
   "outputs": [],
   "source": [
    "set_a = {1, 2, 3, 4}\n",
    "set_a.add(5)\n",
    "print(\"set_a.add(5)\", set_a)\n",
    "\n",
    "set_a.remove(4)\n",
    "print(\"set_a.remove(4)\", set_a)"
   ]
  },
  {
   "cell_type": "code",
   "execution_count": null,
   "metadata": {
    "ExecuteTime": {
     "end_time": "2021-03-23T08:16:55.557523Z",
     "start_time": "2021-03-23T08:16:55.553540Z"
    }
   },
   "outputs": [],
   "source": [
    "set_a = {1, 2, 3, 4}\n",
    "set_a.pop() # 回傳被移除掉的元素\n",
    "print(\"set_a.pop()\", set_a)\n",
    "\n",
    "set_a.update({5, 6, 7})\n",
    "print(\".update({5, 6, 7}) =>\", set_a)"
   ]
  },
  {
   "cell_type": "markdown",
   "metadata": {},
   "source": [
    "# Dictionary"
   ]
  },
  {
   "cell_type": "code",
   "execution_count": null,
   "metadata": {
    "ExecuteTime": {
     "end_time": "2021-03-23T04:30:50.087498Z",
     "start_time": "2021-03-23T04:30:50.084105Z"
    }
   },
   "outputs": [],
   "source": [
    "a = {\"Timothy\": \"handsome\"}\n",
    "type(a)"
   ]
  },
  {
   "cell_type": "code",
   "execution_count": null,
   "metadata": {
    "ExecuteTime": {
     "end_time": "2021-03-23T04:30:50.420393Z",
     "start_time": "2021-03-23T04:30:50.416834Z"
    }
   },
   "outputs": [],
   "source": [
    "a = dict([(\"Timothy\", \"handsome\")])\n",
    "type(a)"
   ]
  },
  {
   "cell_type": "markdown",
   "metadata": {},
   "source": [
    "### 取值"
   ]
  },
  {
   "cell_type": "code",
   "execution_count": null,
   "metadata": {
    "ExecuteTime": {
     "end_time": "2021-03-23T08:35:25.682465Z",
     "start_time": "2021-03-23T08:35:25.678918Z"
    }
   },
   "outputs": [],
   "source": [
    "dict_sample = {\"Timothy\": 12, \"Ellna\": 10, \"Tom\": 15, \"Jerry\": 30}\n",
    "print(dict_sample[\"Timothy\"])\n",
    "\n",
    "print(dict_sample.get(\"Timothy\")) # default 回傳 None，可應對 key 不在字典內的情境 "
   ]
  },
  {
   "cell_type": "code",
   "execution_count": null,
   "metadata": {},
   "outputs": [],
   "source": [
    "print(dict_sample.get(\"Wendy\"))"
   ]
  },
  {
   "cell_type": "code",
   "execution_count": null,
   "metadata": {},
   "outputs": [],
   "source": [
    "print(dict_sample[\"Wendy\"])"
   ]
  },
  {
   "cell_type": "markdown",
   "metadata": {},
   "source": [
    "## 常用方法"
   ]
  },
  {
   "cell_type": "code",
   "execution_count": null,
   "metadata": {
    "ExecuteTime": {
     "end_time": "2021-03-23T08:35:46.609205Z",
     "start_time": "2021-03-23T08:35:46.605254Z"
    }
   },
   "outputs": [],
   "source": [
    "dict_sample = {\"Timothy\": 12, \"Ellna\": 10, \"Tom\": 15, \"Jerry\": 30}\n",
    "# 取得 key\n",
    "dict_sample.keys()"
   ]
  },
  {
   "cell_type": "code",
   "execution_count": null,
   "metadata": {
    "ExecuteTime": {
     "end_time": "2021-03-23T08:36:21.962512Z",
     "start_time": "2021-03-23T08:36:21.959791Z"
    }
   },
   "outputs": [],
   "source": [
    "# 取得 value\n",
    "dict_sample.values()"
   ]
  },
  {
   "cell_type": "code",
   "execution_count": null,
   "metadata": {
    "ExecuteTime": {
     "end_time": "2021-03-23T08:37:08.985013Z",
     "start_time": "2021-03-23T08:37:08.981938Z"
    }
   },
   "outputs": [],
   "source": [
    "# 取得 (key, value) pair\n",
    "dict_sample.items()"
   ]
  },
  {
   "cell_type": "markdown",
   "metadata": {},
   "source": [
    "### 刪除與更新"
   ]
  },
  {
   "cell_type": "code",
   "execution_count": null,
   "metadata": {
    "ExecuteTime": {
     "end_time": "2021-03-23T08:40:15.224003Z",
     "start_time": "2021-03-23T08:40:15.219944Z"
    }
   },
   "outputs": [],
   "source": [
    "dict_sample = {\"Timothy\": 12, \"Ellna\": 10, \"Tom\": 15, \"Jerry\": 30}\n",
    "dict_sample.update({\"Wendy\": 40})\n",
    "print(dict_sample)\n",
    "\n",
    "dict_sample.pop(\"Timothy\")\n",
    "print(dict_sample)\n",
    "\n",
    "dict_sample.popitem()\n",
    "print(dict_sample)"
   ]
  },
  {
   "cell_type": "markdown",
   "metadata": {
    "ExecuteTime": {
     "end_time": "2021-03-23T14:16:33.922612Z",
     "start_time": "2021-03-23T14:16:33.919782Z"
    }
   },
   "source": [
    "# 型別轉換"
   ]
  },
  {
   "cell_type": "markdown",
   "metadata": {
    "ExecuteTime": {
     "end_time": "2021-03-23T14:18:28.991641Z",
     "start_time": "2021-03-23T14:18:28.988366Z"
    }
   },
   "source": [
    "## 請練習各個數值型別的轉換，並理解其中差異"
   ]
  },
  {
   "cell_type": "code",
   "execution_count": null,
   "metadata": {},
   "outputs": [],
   "source": []
  },
  {
   "cell_type": "markdown",
   "metadata": {},
   "source": [
    "# 練習"
   ]
  },
  {
   "cell_type": "markdown",
   "metadata": {},
   "source": [
    "## 練習一"
   ]
  },
  {
   "cell_type": "code",
   "execution_count": null,
   "metadata": {},
   "outputs": [],
   "source": [
    "keys_set = {\"a\", \"b\", \"c\", \"d\", \"e\"}\n",
    "datas = {\"a\": [1, 2, 3, 4],\n",
    "         \"b\": [6, 7, 8, 9],\n",
    "         \"c\": [11, 12, 13, 14],\n",
    "         \"x\": [36],\n",
    "         \"y\": [22, 33, 49, 83]}"
   ]
  },
  {
   "cell_type": "code",
   "execution_count": null,
   "metadata": {},
   "outputs": [],
   "source": [
    "# 1.1 請輸出 datas 的 keys 跟 keys_set 的對稱差集"
   ]
  },
  {
   "cell_type": "code",
   "execution_count": null,
   "metadata": {},
   "outputs": [],
   "source": [
    "# 1.2 將 datas 中 key == \"b\" 的資料與 key == \"y\" 的資料合併儲存在新的 key == \"z\""
   ]
  },
  {
   "cell_type": "code",
   "execution_count": null,
   "metadata": {},
   "outputs": [],
   "source": [
    "# 1.3 計算 datas 中 key == \"z\" 的資料的總和"
   ]
  }
 ],
 "metadata": {
  "kernelspec": {
   "display_name": "Python 3",
   "language": "python",
   "name": "python3"
  },
  "language_info": {
   "codemirror_mode": {
    "name": "ipython",
    "version": 3
   },
   "file_extension": ".py",
   "mimetype": "text/x-python",
   "name": "python",
   "nbconvert_exporter": "python",
   "pygments_lexer": "ipython3",
   "version": "3.7.3"
  },
  "toc": {
   "base_numbering": 1,
   "nav_menu": {},
   "number_sections": true,
   "sideBar": true,
   "skip_h1_title": false,
   "title_cell": "Table of Contents",
   "title_sidebar": "Contents",
   "toc_cell": false,
   "toc_position": {},
   "toc_section_display": true,
   "toc_window_display": false
  },
  "varInspector": {
   "cols": {
    "lenName": 16,
    "lenType": 16,
    "lenVar": 40
   },
   "kernels_config": {
    "python": {
     "delete_cmd_postfix": "",
     "delete_cmd_prefix": "del ",
     "library": "var_list.py",
     "varRefreshCmd": "print(var_dic_list())"
    },
    "r": {
     "delete_cmd_postfix": ") ",
     "delete_cmd_prefix": "rm(",
     "library": "var_list.r",
     "varRefreshCmd": "cat(var_dic_list()) "
    }
   },
   "types_to_exclude": [
    "module",
    "function",
    "builtin_function_or_method",
    "instance",
    "_Feature"
   ],
   "window_display": false
  }
 },
 "nbformat": 4,
 "nbformat_minor": 2
}
