{
 "cells": [
  {
   "cell_type": "code",
   "execution_count": null,
   "metadata": {},
   "outputs": [],
   "source": []
  },
  {
   "cell_type": "markdown",
   "metadata": {},
   "source": [
    "# While loop"
   ]
  },
  {
   "cell_type": "code",
   "execution_count": null,
   "metadata": {},
   "outputs": [],
   "source": [
    "while 判斷句:\n",
    "    陳述句"
   ]
  },
  {
   "cell_type": "code",
   "execution_count": null,
   "metadata": {
    "ExecuteTime": {
     "end_time": "2021-03-23T16:46:22.276451Z",
     "start_time": "2021-03-23T16:46:22.273048Z"
    }
   },
   "outputs": [],
   "source": [
    "data = 0\n",
    "while data < 5:\n",
    "    data += 1\n",
    "    print(data)"
   ]
  },
  {
   "cell_type": "markdown",
   "metadata": {},
   "source": [
    "# for loop"
   ]
  },
  {
   "cell_type": "code",
   "execution_count": null,
   "metadata": {
    "ExecuteTime": {
     "end_time": "2021-03-23T16:59:27.189266Z",
     "start_time": "2021-03-23T16:59:27.185716Z"
    }
   },
   "outputs": [],
   "source": [
    "data = [1, 2, 3, 4, 5, 6]\n",
    "for element in data:\n",
    "    if (element % 2) == 0:\n",
    "        print(element)"
   ]
  },
  {
   "cell_type": "code",
   "execution_count": null,
   "metadata": {
    "ExecuteTime": {
     "end_time": "2021-03-23T17:12:41.292768Z",
     "start_time": "2021-03-23T17:12:41.289532Z"
    }
   },
   "outputs": [],
   "source": [
    "data = \"abcde\"\n",
    "for char in data:\n",
    "    print(char)"
   ]
  },
  {
   "cell_type": "code",
   "execution_count": null,
   "metadata": {
    "ExecuteTime": {
     "end_time": "2021-03-23T17:14:07.620509Z",
     "start_time": "2021-03-23T17:14:07.617157Z"
    }
   },
   "outputs": [],
   "source": [
    "data = {\"a\": \"A\",\n",
    "        \"b\": \"B\",\n",
    "        \"c\": \"C\"}\n",
    "for key in data:\n",
    "    print(key)"
   ]
  },
  {
   "cell_type": "code",
   "execution_count": null,
   "metadata": {
    "ExecuteTime": {
     "end_time": "2021-03-23T17:29:33.096947Z",
     "start_time": "2021-03-23T17:29:33.093080Z"
    }
   },
   "outputs": [],
   "source": [
    "data = {\"a\": \"A\",\n",
    "        \"b\": \"B\",\n",
    "        \"c\": \"C\"}\n",
    "print(data.items())\n",
    "for key, value in data.items():\n",
    "    print(key, value)"
   ]
  },
  {
   "cell_type": "markdown",
   "metadata": {},
   "source": [
    "### break"
   ]
  },
  {
   "cell_type": "code",
   "execution_count": null,
   "metadata": {
    "ExecuteTime": {
     "end_time": "2021-03-23T17:35:54.840068Z",
     "start_time": "2021-03-23T17:35:54.836734Z"
    }
   },
   "outputs": [],
   "source": [
    "data = [1, 9, -2, 3, 6]\n",
    "for element in data:\n",
    "    if element < 0:\n",
    "        print(element)\n",
    "        break"
   ]
  },
  {
   "cell_type": "markdown",
   "metadata": {},
   "source": [
    "### continue"
   ]
  },
  {
   "cell_type": "code",
   "execution_count": null,
   "metadata": {
    "ExecuteTime": {
     "end_time": "2021-03-23T17:38:29.701785Z",
     "start_time": "2021-03-23T17:38:29.698975Z"
    }
   },
   "outputs": [],
   "source": [
    "data = [1, 9, -2, 3, 6]\n",
    "for element in data:\n",
    "    if element < 0:\n",
    "        continue\n",
    "    print(element)"
   ]
  },
  {
   "cell_type": "markdown",
   "metadata": {},
   "source": [
    "### pass"
   ]
  },
  {
   "cell_type": "code",
   "execution_count": null,
   "metadata": {
    "ExecuteTime": {
     "end_time": "2021-03-23T17:39:31.840987Z",
     "start_time": "2021-03-23T17:39:31.837074Z"
    }
   },
   "outputs": [],
   "source": [
    "data = [1, 9, -2, 3, 6]\n",
    "for element in data:\n",
    "    if element < 0:\n",
    "        pass\n",
    "    print(element)"
   ]
  },
  {
   "cell_type": "markdown",
   "metadata": {},
   "source": [
    "## range"
   ]
  },
  {
   "cell_type": "code",
   "execution_count": null,
   "metadata": {
    "ExecuteTime": {
     "end_time": "2021-03-23T17:45:38.199194Z",
     "start_time": "2021-03-23T17:45:38.196331Z"
    }
   },
   "outputs": [],
   "source": [
    "for i in range(5):\n",
    "    print(i)"
   ]
  },
  {
   "cell_type": "code",
   "execution_count": null,
   "metadata": {
    "ExecuteTime": {
     "end_time": "2021-03-23T17:48:06.599009Z",
     "start_time": "2021-03-23T17:48:06.596520Z"
    }
   },
   "outputs": [],
   "source": [
    "for _ in range(5):\n",
    "    print(\"yell\")"
   ]
  },
  {
   "cell_type": "markdown",
   "metadata": {},
   "source": [
    "## List Comprehension"
   ]
  },
  {
   "cell_type": "code",
   "execution_count": null,
   "metadata": {
    "ExecuteTime": {
     "end_time": "2021-03-23T17:51:07.934364Z",
     "start_time": "2021-03-23T17:51:07.930838Z"
    }
   },
   "outputs": [],
   "source": [
    "[i for i in range(5)]"
   ]
  },
  {
   "cell_type": "code",
   "execution_count": null,
   "metadata": {
    "ExecuteTime": {
     "end_time": "2021-03-23T17:51:20.241573Z",
     "start_time": "2021-03-23T17:51:20.237722Z"
    }
   },
   "outputs": [],
   "source": [
    "[i for i in range(5) if i > 2]"
   ]
  },
  {
   "cell_type": "code",
   "execution_count": null,
   "metadata": {
    "ExecuteTime": {
     "end_time": "2021-03-23T17:51:36.492609Z",
     "start_time": "2021-03-23T17:51:36.488104Z"
    }
   },
   "outputs": [],
   "source": [
    "[i  if i > 2 else 0 for i in range(5)]"
   ]
  },
  {
   "cell_type": "markdown",
   "metadata": {},
   "source": [
    "# Nested Loop"
   ]
  },
  {
   "cell_type": "code",
   "execution_count": null,
   "metadata": {
    "ExecuteTime": {
     "end_time": "2021-03-23T17:57:21.974809Z",
     "start_time": "2021-03-23T17:57:21.969007Z"
    }
   },
   "outputs": [],
   "source": [
    "for i in range(1, 5):\n",
    "    for j in range(1, 5):\n",
    "        print(i, \"*\", j, \"=\", i * j)"
   ]
  },
  {
   "cell_type": "code",
   "execution_count": null,
   "metadata": {
    "ExecuteTime": {
     "end_time": "2021-03-24T06:20:56.106774Z",
     "start_time": "2021-03-24T06:20:56.103716Z"
    }
   },
   "outputs": [],
   "source": [
    "ord(\"\\r\")"
   ]
  },
  {
   "cell_type": "markdown",
   "metadata": {},
   "source": [
    "# 進階補充"
   ]
  },
  {
   "cell_type": "markdown",
   "metadata": {},
   "source": [
    "> ### iteration = 迭代的動作\n",
    "> ### iterable = 可以被 forloop 拜訪的對象：eg. list, string, dict, iterator\n",
    "> ### iterator = 可以使用 next 訪問下一個元素的\n",
    "> ### generator = 在呼叫 next 才計算的 iterator，會暫停及保留涵式狀態，是特別的 iterator"
   ]
  },
  {
   "cell_type": "markdown",
   "metadata": {},
   "source": [
    "## iterable\n",
    "```\n",
    "定義了 __iter__ 即為 iterable\n",
    "__iter__ 會回傳 iterator 物件\n",
    "```"
   ]
  },
  {
   "cell_type": "code",
   "execution_count": null,
   "metadata": {},
   "outputs": [],
   "source": [
    "# iterable\n",
    "class MyIterable:\n",
    "    def __init__(self, a):\n",
    "        self.a = a\n",
    "        \n",
    "    def __iter__(self):\n",
    "        for el in self.a:\n",
    "            yield el"
   ]
  },
  {
   "cell_type": "markdown",
   "metadata": {},
   "source": [
    "## iterator\n",
    "```\n",
    "定義了 __next__ 即為 iterator\n",
    "也可透過 iter() 做轉換\n",
    "```"
   ]
  },
  {
   "cell_type": "code",
   "execution_count": null,
   "metadata": {},
   "outputs": [],
   "source": [
    "# Iterator\n",
    "iter([1,2,3,4])\n",
    "next\n",
    "\n",
    "class Counter:\n",
    "    def __init__(self):\n",
    "        self.i = 0\n",
    "        \n",
    "    def __next__(self):\n",
    "        self.i += 1\n",
    "        return self.i\n",
    "    \n",
    "    def __iter__(self):\n",
    "        return self"
   ]
  },
  {
   "cell_type": "markdown",
   "metadata": {},
   "source": [
    "## Generator\n",
    "```\n",
    "\n",
    "使用 yield 不須定義 __next__\n",
    "list comperhension 用小括號的話 出來的是generator\n",
    "```"
   ]
  },
  {
   "cell_type": "code",
   "execution_count": null,
   "metadata": {},
   "outputs": [],
   "source": [
    "# Generator\n",
    "# 使用 yield 不須定義 __next__\n",
    "# list comperhension 用小括號的話 出來的是generator\n",
    "(x for x in range(10))\n",
    "\n",
    "def count(start, step):\n",
    "    while True:\n",
    "        yield start\n",
    "        start += step"
   ]
  },
  {
   "cell_type": "markdown",
   "metadata": {},
   "source": [
    "## enumerate"
   ]
  },
  {
   "cell_type": "code",
   "execution_count": null,
   "metadata": {},
   "outputs": [],
   "source": [
    "# Enumerate: 放一個iterable物件在enumerate中\n",
    "# use case:遍歷一個List有時既要索引又要元素時， 我們可以這樣寫\n",
    "type(enumerate([1,2,3,4]))\n",
    "for i, v in enumerate([1,2,3,4,5]):\n",
    "    print(i, v)"
   ]
  },
  {
   "cell_type": "code",
   "execution_count": null,
   "metadata": {},
   "outputs": [],
   "source": []
  },
  {
   "cell_type": "code",
   "execution_count": null,
   "metadata": {},
   "outputs": [],
   "source": []
  },
  {
   "cell_type": "code",
   "execution_count": null,
   "metadata": {},
   "outputs": [],
   "source": []
  },
  {
   "cell_type": "code",
   "execution_count": null,
   "metadata": {},
   "outputs": [],
   "source": []
  },
  {
   "cell_type": "markdown",
   "metadata": {},
   "source": [
    "# 練習"
   ]
  },
  {
   "cell_type": "markdown",
   "metadata": {},
   "source": [
    "## FizzBuzz"
   ]
  },
  {
   "cell_type": "code",
   "execution_count": null,
   "metadata": {},
   "outputs": [],
   "source": [
    "```\n",
    "輸入任意一串英文句子\n",
    "把單字換成對應的位置 1, 2, 3...\n",
    "把第三的倍數的位置單字換成 'Fizz'\n",
    "把第五的倍數的位置單字換成 'Buzz'\n",
    "把三跟五的公倍數位置單字換成 'FizzBuzz'\n",
    "```"
   ]
  },
  {
   "cell_type": "code",
   "execution_count": null,
   "metadata": {},
   "outputs": [],
   "source": [
    "input_string = \"Python can be easy to pick up whether you're a first time programmer or you're experienced with other languages. The following pages are a useful first step to get on your way writing programs with Python!\""
   ]
  },
  {
   "cell_type": "markdown",
   "metadata": {},
   "source": [
    "## 九九乘法表"
   ]
  },
  {
   "cell_type": "markdown",
   "metadata": {},
   "source": [
    "```\n",
    "輸出結果為\n",
    "1 x 1 = 1  2 x 1 = 2\n",
    "1 x 2 = 2  2 x 2 = 4\n",
    ".          .\n",
    ".          .\n",
    ".          .\n",
    "```"
   ]
  },
  {
   "cell_type": "code",
   "execution_count": null,
   "metadata": {},
   "outputs": [],
   "source": []
  },
  {
   "cell_type": "markdown",
   "metadata": {},
   "source": [
    "## 接下來的資料為多層的架構，請將該資料轉換成如下架構\n",
    "```\n",
    "['第一層', '第二層', '第三層', '第四層'],...\n",
    "]\n",
    "```\n",
    "### 每一層底下都有複數層，每個第一層下都有多個第二層，每個第二層下都有多個第三層，依此類推\n",
    "\n",
    "### 輸出結果：\n",
    "```\n",
    "[['手機/相機/耳機/穿戴', '手機', 'Apple', '品牌'],\n",
    " ['手機/相機/耳機/穿戴', '手機', 'Apple', '顏色'],\n",
    " ['手機/相機/耳機/穿戴', '手機', 'Apple', '手機類型'],\n",
    " ['手機/相機/耳機/穿戴', '手機', 'Apple', '螢幕尺寸'],\n",
    " ['手機/相機/耳機/穿戴', '手機', 'Apple', 'ROM/內建儲存空間'],\n",
    " ['手機/相機/耳機/穿戴', '手機', 'Apple', '處理器類型'],\n",
    " ['手機/相機/耳機/穿戴', '手機', 'Apple', '主相機畫素'],\n",
    " ['手機/相機/耳機/穿戴', '手機', '三星SAMSUNG', '品牌'],\n",
    " ['手機/相機/耳機/穿戴', '手機', '三星SAMSUNG', '顏色'],\n",
    " ['手機/相機/耳機/穿戴', '手機', '三星SAMSUNG', '主相機畫素'],\n",
    " ['手機/相機/耳機/穿戴', '手機', '三星SAMSUNG', '手機類型'],\n",
    " ['手機/相機/耳機/穿戴', '手機', '三星SAMSUNG', '螢幕尺寸'],\n",
    " ['手機/相機/耳機/穿戴', '手機', '三星SAMSUNG', 'ROM/內建儲存空間'],\n",
    " ['手機/相機/耳機/穿戴', '手機', '三星SAMSUNG', '處理器類型'],...\n",
    "```"
   ]
  },
  {
   "cell_type": "code",
   "execution_count": null,
   "metadata": {},
   "outputs": [],
   "source": [
    "import json\n",
    "with open(\"./for_loop_test.txt\", 'r', encoding=\"utf-8\") as f:\n",
    "    data = f.read()\n",
    "datas = json.loads(data)"
   ]
  },
  {
   "cell_type": "code",
   "execution_count": null,
   "metadata": {},
   "outputs": [],
   "source": [
    "# 第一層：dict\n",
    "datas[\"手機/相機/耳機/穿戴\"]"
   ]
  },
  {
   "cell_type": "code",
   "execution_count": null,
   "metadata": {},
   "outputs": [],
   "source": [
    "# 第二層：dict\n",
    "datas[\"手機/相機/耳機/穿戴\"][\"手機\"]"
   ]
  },
  {
   "cell_type": "code",
   "execution_count": null,
   "metadata": {
    "scrolled": true
   },
   "outputs": [],
   "source": [
    "# 第三層：list\n",
    "datas[\"手機/相機/耳機/穿戴\"][\"手機\"][1]"
   ]
  },
  {
   "cell_type": "code",
   "execution_count": null,
   "metadata": {},
   "outputs": [],
   "source": [
    "# 第四層：dict\n",
    "datas[\"手機/相機/耳機/穿戴\"][\"手機\"][1][\"Apple\"]"
   ]
  },
  {
   "cell_type": "code",
   "execution_count": null,
   "metadata": {},
   "outputs": [],
   "source": [
    "# 第五層：list\n",
    "datas[\"手機/相機/耳機/穿戴\"][\"手機\"][1][\"Apple\"][1]"
   ]
  },
  {
   "cell_type": "code",
   "execution_count": null,
   "metadata": {},
   "outputs": [],
   "source": [
    "# 第六層：dict\n",
    "datas[\"手機/相機/耳機/穿戴\"][\"手機\"][1][\"Apple\"][1].keys()"
   ]
  },
  {
   "cell_type": "code",
   "execution_count": null,
   "metadata": {},
   "outputs": [],
   "source": []
  }
 ],
 "metadata": {
  "kernelspec": {
   "display_name": "Python 3",
   "language": "python",
   "name": "python3"
  },
  "language_info": {
   "codemirror_mode": {
    "name": "ipython",
    "version": 3
   },
   "file_extension": ".py",
   "mimetype": "text/x-python",
   "name": "python",
   "nbconvert_exporter": "python",
   "pygments_lexer": "ipython3",
   "version": "3.7.3"
  },
  "toc": {
   "base_numbering": 1,
   "nav_menu": {},
   "number_sections": true,
   "sideBar": true,
   "skip_h1_title": false,
   "title_cell": "Table of Contents",
   "title_sidebar": "Contents",
   "toc_cell": false,
   "toc_position": {},
   "toc_section_display": true,
   "toc_window_display": false
  },
  "varInspector": {
   "cols": {
    "lenName": 16,
    "lenType": 16,
    "lenVar": 40
   },
   "kernels_config": {
    "python": {
     "delete_cmd_postfix": "",
     "delete_cmd_prefix": "del ",
     "library": "var_list.py",
     "varRefreshCmd": "print(var_dic_list())"
    },
    "r": {
     "delete_cmd_postfix": ") ",
     "delete_cmd_prefix": "rm(",
     "library": "var_list.r",
     "varRefreshCmd": "cat(var_dic_list()) "
    }
   },
   "types_to_exclude": [
    "module",
    "function",
    "builtin_function_or_method",
    "instance",
    "_Feature"
   ],
   "window_display": false
  }
 },
 "nbformat": 4,
 "nbformat_minor": 2
}
