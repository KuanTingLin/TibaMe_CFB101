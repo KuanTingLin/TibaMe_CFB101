{
 "cells": [
  {
   "cell_type": "code",
   "execution_count": null,
   "metadata": {},
   "outputs": [],
   "source": []
  },
  {
   "cell_type": "code",
   "execution_count": null,
   "metadata": {},
   "outputs": [],
   "source": [
    "if (判斷式):\n",
    "    if (判斷式1):\n",
    "        陳述句1\n",
    "    else:\n",
    "        陳述句2\n",
    "else:\n",
    "    if (判斷式3):\n",
    "        陳述句3\n",
    "    else:\n",
    "        陳述句4"
   ]
  },
  {
   "cell_type": "code",
   "execution_count": 26,
   "metadata": {},
   "outputs": [
    {
     "name": "stdout",
     "output_type": "stream",
     "text": [
      "59\n",
      "加油好嗎\n"
     ]
    }
   ],
   "source": [
    "score = int(input())\n",
    "if score >= 60:\n",
    "    print(\"及格了\")\n",
    "    if score > 90:\n",
    "        print(\"太棒了！\")\n",
    "    else:\n",
    "        pass\n",
    "else:\n",
    "    print(\"加油好嗎\")"
   ]
  },
  {
   "cell_type": "markdown",
   "metadata": {},
   "source": [
    "# if statement"
   ]
  },
  {
   "cell_type": "code",
   "execution_count": 23,
   "metadata": {
    "ExecuteTime": {
     "end_time": "2021-03-23T15:40:31.083518Z",
     "start_time": "2021-03-23T15:40:31.081028Z"
    }
   },
   "outputs": [
    {
     "data": {
      "text/plain": [
       "25"
      ]
     },
     "execution_count": 23,
     "metadata": {},
     "output_type": "execute_result"
    }
   ],
   "source": [
    "from random import randint\n",
    "bomb_number = randint(0, 100)\n",
    "bomb_number"
   ]
  },
  {
   "cell_type": "code",
   "execution_count": 10,
   "metadata": {
    "ExecuteTime": {
     "end_time": "2021-03-23T15:40:33.392093Z",
     "start_time": "2021-03-23T15:40:31.511975Z"
    }
   },
   "outputs": [
    {
     "name": "stdout",
     "output_type": "stream",
     "text": [
      "give me a number between 0 to 100: 61\n",
      "******Bomb!!!*******\n"
     ]
    }
   ],
   "source": [
    "data = int(input(\"give me a number between 0 to 100: \"))\n",
    "if bomb_number == data:\n",
    "    print(\"Bomb!!!\".center(20, \"*\"))\n",
    "elif bomb_number > data: \n",
    "    print(\"bigger than {}\".format(data))\n",
    "else: \n",
    "    print(\"smaller than {}\".format(data))"
   ]
  },
  {
   "cell_type": "code",
   "execution_count": 7,
   "metadata": {},
   "outputs": [
    {
     "data": {
      "text/plain": [
       "61"
      ]
     },
     "execution_count": 7,
     "metadata": {},
     "output_type": "execute_result"
    }
   ],
   "source": [
    "str.center()"
   ]
  },
  {
   "cell_type": "markdown",
   "metadata": {
    "ExecuteTime": {
     "end_time": "2021-03-23T04:27:35.125582Z",
     "start_time": "2021-03-23T04:27:35.121780Z"
    }
   },
   "source": [
    "# Nested if statement"
   ]
  },
  {
   "cell_type": "code",
   "execution_count": 27,
   "metadata": {},
   "outputs": [],
   "source": [
    "from random import randint\n",
    "bomb_number = randint(0, 100)"
   ]
  },
  {
   "cell_type": "code",
   "execution_count": 33,
   "metadata": {},
   "outputs": [],
   "source": [
    "a = \"123\""
   ]
  },
  {
   "cell_type": "code",
   "execution_count": 34,
   "metadata": {},
   "outputs": [
    {
     "data": {
      "text/plain": [
       "True"
      ]
     },
     "execution_count": 34,
     "metadata": {},
     "output_type": "execute_result"
    }
   ],
   "source": [
    "a.isnumeric()"
   ]
  },
  {
   "cell_type": "code",
   "execution_count": null,
   "metadata": {},
   "outputs": [],
   "source": []
  },
  {
   "cell_type": "code",
   "execution_count": null,
   "metadata": {},
   "outputs": [],
   "source": []
  },
  {
   "cell_type": "code",
   "execution_count": null,
   "metadata": {},
   "outputs": [],
   "source": []
  },
  {
   "cell_type": "code",
   "execution_count": 36,
   "metadata": {
    "ExecuteTime": {
     "end_time": "2021-03-23T15:54:42.216148Z",
     "start_time": "2021-03-23T15:54:39.776100Z"
    }
   },
   "outputs": [
    {
     "name": "stdout",
     "output_type": "stream",
     "text": [
      "give me a number between 0 to 100: 101\n",
      "the number 101 is not in range!\n"
     ]
    }
   ],
   "source": [
    "input_data = input(\"give me a number between 0 to 100: \")\n",
    "if input_data.isnumeric():\n",
    "    data = int(input_data)\n",
    "    if (data > 100) or (data < 0):\n",
    "        print(\"the number {} is not in range!\".format(data))\n",
    "    else:\n",
    "        if bomb_number == data:\n",
    "            print(\"Bomb!!!\".center(\"*\", 20))\n",
    "        elif bomb_number > data: \n",
    "            print(\"bigger than {}\".format(data))\n",
    "        else: \n",
    "            print(\"smaller than {}\".format(data))\n",
    "else:\n",
    "    print(\"Hey! n-u-m-b-e-r, number please!\")"
   ]
  },
  {
   "cell_type": "markdown",
   "metadata": {
    "ExecuteTime": {
     "end_time": "2021-03-23T16:27:05.131227Z",
     "start_time": "2021-03-23T16:27:05.129129Z"
    }
   },
   "source": [
    "# 複雜判斷式 括號的應用"
   ]
  },
  {
   "cell_type": "code",
   "execution_count": 37,
   "metadata": {
    "ExecuteTime": {
     "end_time": "2021-03-23T16:13:35.897696Z",
     "start_time": "2021-03-23T16:13:35.893945Z"
    }
   },
   "outputs": [
    {
     "name": "stdout",
     "output_type": "stream",
     "text": [
      "Congratulations\n"
     ]
    }
   ],
   "source": [
    "score = {\"python\": 80, \n",
    "         \"windows\": 90, \n",
    "         \"linux\": 50}\n",
    "if ((score[\"linux\"] > 60) or (score[\"windows\"] > 60)) and (score[\"python\"] > 60):\n",
    "    print(\"Congratulations\")"
   ]
  },
  {
   "cell_type": "markdown",
   "metadata": {
    "ExecuteTime": {
     "end_time": "2021-03-23T14:18:28.991641Z",
     "start_time": "2021-03-23T14:18:28.988366Z"
    }
   },
   "source": [
    "# 練習"
   ]
  },
  {
   "cell_type": "markdown",
   "metadata": {},
   "source": [
    "## BMI 計算機"
   ]
  },
  {
   "cell_type": "markdown",
   "metadata": {},
   "source": [
    "* 過輕: BMI < 18.5\n",
    "* 正常: 18.5~24\n",
    "* 過重: 24 <= BMI < 27\n",
    "* 輕度肥胖：27~30\n",
    "* 中度肥胖：30~35\n",
    "* 重度肥胖：35~"
   ]
  },
  {
   "cell_type": "markdown",
   "metadata": {},
   "source": [
    "### 寫法一"
   ]
  },
  {
   "cell_type": "code",
   "execution_count": null,
   "metadata": {},
   "outputs": [],
   "source": [
    "height = float(input(\"enter your height in m: \"))\n",
    "weight = float(input(\"enter your height in kg: \"))\n",
    "# 計算 BMI, 並輸出: 你的 BMI 為...，你屬於...\n",
    "BMI = weight / (height**2)\n",
    "if BMI < 18.5:\n",
    "    print(\"你的 BMI 為{}，你屬於過輕\".format(BMI))\n",
    "elif (BMI >= 18.5) & (BMI < 24):\n",
    "    print(\"你的 BMI 為{}，你屬於正常\".format(BMI))\n",
    "elif (BMI >= 24) & (BMI < 27):\n",
    "    print(\"你的 BMI 為{}，你屬於過重\".format(BMI))\n",
    "elif (BMI >= 27) & (BMI < 30):\n",
    "    print(\"你的 BMI 為{}，你屬於輕度肥胖\".format(BMI))\n",
    "elif (BMI >= 30) & (BMI < 35):\n",
    "    print(\"你的 BMI 為{}，你屬於中度肥胖\".format(BMI))\n",
    "else:\n",
    "    print(\"你的 BMI 為{}，你屬於重度肥胖\".format(BMI))"
   ]
  },
  {
   "cell_type": "markdown",
   "metadata": {},
   "source": [
    "### 寫法二"
   ]
  },
  {
   "cell_type": "code",
   "execution_count": 43,
   "metadata": {},
   "outputs": [
    {
     "name": "stdout",
     "output_type": "stream",
     "text": [
      "enter your height in m: 1.8\n",
      "enter your height in kg: 70\n",
      "你的 BMI 為21.604938271604937，你屬於正常\n"
     ]
    }
   ],
   "source": [
    "height = float(input(\"enter your height in m: \"))\n",
    "weight = float(input(\"enter your height in kg: \"))\n",
    "# 計算 BMI, 並輸出: 你的 BMI 為...，你屬於...\n",
    "BMI = weight / (height**2)\n",
    "if BMI < 18.5:\n",
    "    print(\"你的 BMI 為{}，你屬於過輕\".format(BMI))\n",
    "elif 18.5 <= BMI < 24:\n",
    "    print(\"你的 BMI 為{}，你屬於正常\".format(BMI))\n",
    "elif 24 <= BMI < 27:\n",
    "    print(\"你的 BMI 為{}，你屬於過重\".format(BMI))\n",
    "elif 27 <= BMI < 30:\n",
    "    print(\"你的 BMI 為{}，你屬於輕度肥胖\".format(BMI))\n",
    "elif 30 <= BMI < 35:\n",
    "    print(\"你的 BMI 為{}，你屬於中度肥胖\".format(BMI))\n",
    "else:\n",
    "    print(\"你的 BMI 為{}，你屬於重度肥胖\".format(BMI))"
   ]
  },
  {
   "cell_type": "code",
   "execution_count": null,
   "metadata": {},
   "outputs": [],
   "source": []
  },
  {
   "cell_type": "code",
   "execution_count": null,
   "metadata": {},
   "outputs": [],
   "source": []
  },
  {
   "cell_type": "markdown",
   "metadata": {},
   "source": [
    "## 剪刀 石頭 布\n",
    "> 使用者出拳，電腦隨機出拳，比較輸贏並輸出結果\n"
   ]
  },
  {
   "cell_type": "code",
   "execution_count": 49,
   "metadata": {},
   "outputs": [
    {
     "data": {
      "text/plain": [
       "'剪刀'"
      ]
     },
     "execution_count": 49,
     "metadata": {},
     "output_type": "execute_result"
    }
   ],
   "source": [
    "# 可能會用到的\n",
    "from random import randint, choice\n",
    "randint(a=1, b=4) # 亂數輸出 a~b 之間的整數\n",
    "choice([\"剪刀\", \"石頭\", \"布\"]) # 亂數輸出其中一個元素"
   ]
  },
  {
   "cell_type": "code",
   "execution_count": null,
   "metadata": {},
   "outputs": [],
   "source": []
  },
  {
   "cell_type": "code",
   "execution_count": null,
   "metadata": {},
   "outputs": [],
   "source": [
    "user_1 = input()\n",
    "user_2 = # 電腦出拳\n",
    "\n",
    "# 輸出 user_1 出..., user_2 出..., ... 勝利！"
   ]
  }
 ],
 "metadata": {
  "kernelspec": {
   "display_name": "Python 3",
   "language": "python",
   "name": "python3"
  },
  "language_info": {
   "codemirror_mode": {
    "name": "ipython",
    "version": 3
   },
   "file_extension": ".py",
   "mimetype": "text/x-python",
   "name": "python",
   "nbconvert_exporter": "python",
   "pygments_lexer": "ipython3",
   "version": "3.7.3"
  },
  "toc": {
   "base_numbering": 1,
   "nav_menu": {},
   "number_sections": true,
   "sideBar": true,
   "skip_h1_title": false,
   "title_cell": "Table of Contents",
   "title_sidebar": "Contents",
   "toc_cell": false,
   "toc_position": {},
   "toc_section_display": true,
   "toc_window_display": false
  },
  "varInspector": {
   "cols": {
    "lenName": 16,
    "lenType": 16,
    "lenVar": 40
   },
   "kernels_config": {
    "python": {
     "delete_cmd_postfix": "",
     "delete_cmd_prefix": "del ",
     "library": "var_list.py",
     "varRefreshCmd": "print(var_dic_list())"
    },
    "r": {
     "delete_cmd_postfix": ") ",
     "delete_cmd_prefix": "rm(",
     "library": "var_list.r",
     "varRefreshCmd": "cat(var_dic_list()) "
    }
   },
   "types_to_exclude": [
    "module",
    "function",
    "builtin_function_or_method",
    "instance",
    "_Feature"
   ],
   "window_display": false
  }
 },
 "nbformat": 4,
 "nbformat_minor": 2
}
