{
 "cells": [
  {
   "cell_type": "markdown",
   "metadata": {
    "ExecuteTime": {
     "end_time": "2021-03-27T03:51:33.786419Z",
     "start_time": "2021-03-27T03:51:33.783774Z"
    }
   },
   "source": [
    "# Exception"
   ]
  },
  {
   "cell_type": "code",
   "execution_count": null,
   "metadata": {
    "ExecuteTime": {
     "end_time": "2021-04-03T08:13:45.257807Z",
     "start_time": "2021-04-03T08:13:45.255666Z"
    }
   },
   "outputs": [],
   "source": [
    "a = [1, 2, 3, 4]"
   ]
  },
  {
   "cell_type": "code",
   "execution_count": null,
   "metadata": {
    "ExecuteTime": {
     "end_time": "2021-04-03T08:13:52.895823Z",
     "start_time": "2021-04-03T08:13:52.812988Z"
    }
   },
   "outputs": [],
   "source": [
    "a[5]"
   ]
  },
  {
   "cell_type": "code",
   "execution_count": null,
   "metadata": {
    "ExecuteTime": {
     "end_time": "2021-04-22T11:17:20.137577Z",
     "start_time": "2021-04-22T11:17:20.131309Z"
    }
   },
   "outputs": [],
   "source": [
    "a = [1, 2, 3, 4]\n",
    "a[5]"
   ]
  },
  {
   "cell_type": "markdown",
   "metadata": {},
   "source": [
    "## try, except, finally"
   ]
  },
  {
   "cell_type": "code",
   "execution_count": null,
   "metadata": {},
   "outputs": [],
   "source": [
    "try:\n",
    "    [1, 2, 3, 4][5]\n",
    "except:\n",
    "    print(\"Some exception happened...\")\n",
    "finally:\n",
    "    print(\"Even so, life must go on\")"
   ]
  },
  {
   "cell_type": "markdown",
   "metadata": {},
   "source": [
    "## 抓取特定例外"
   ]
  },
  {
   "cell_type": "code",
   "execution_count": null,
   "metadata": {
    "ExecuteTime": {
     "end_time": "2021-04-22T11:18:23.138088Z",
     "start_time": "2021-04-22T11:18:23.134931Z"
    }
   },
   "outputs": [],
   "source": [
    "try:\n",
    "    a = [1, 2, 3, 4]\n",
    "    a[5] \n",
    "except ValueError:\n",
    "    print(\"value error is happening\")\n",
    "except IndexError:\n",
    "    print(\"index error is happening\")"
   ]
  },
  {
   "cell_type": "markdown",
   "metadata": {},
   "source": [
    "### 抓取多個特定例外"
   ]
  },
  {
   "cell_type": "code",
   "execution_count": null,
   "metadata": {
    "ExecuteTime": {
     "end_time": "2021-04-22T11:19:54.882533Z",
     "start_time": "2021-04-22T11:19:54.878751Z"
    }
   },
   "outputs": [],
   "source": [
    "try:\n",
    "    a = [1, 2, 3, 4]\n",
    "    a[5] \n",
    "except (ValueError, IndexError):\n",
    "    print(\"value or index error is happening\")"
   ]
  },
  {
   "cell_type": "markdown",
   "metadata": {},
   "source": [
    "## 例外訊息"
   ]
  },
  {
   "cell_type": "code",
   "execution_count": null,
   "metadata": {
    "ExecuteTime": {
     "end_time": "2021-04-22T11:25:34.744419Z",
     "start_time": "2021-04-22T11:25:34.740097Z"
    }
   },
   "outputs": [],
   "source": [
    "try:\n",
    "    a = [1, 2, 3, 4]\n",
    "    a[5] \n",
    "except Exception as e:\n",
    "    print(e.args)\n",
    "#     e.with_traceback() #回傳錯誤及詳細內容"
   ]
  },
  {
   "cell_type": "code",
   "execution_count": null,
   "metadata": {
    "ExecuteTime": {
     "end_time": "2021-04-22T11:26:26.638140Z",
     "start_time": "2021-04-22T11:26:26.634415Z"
    }
   },
   "outputs": [],
   "source": [
    "import sys\n",
    "try:\n",
    "    a = [1, 2, 3, 4]\n",
    "    a[5] \n",
    "except:\n",
    "    exception_type, exception, exc_tb = sys.exc_info()\n",
    "    print(exception_type)\n",
    "    print(exception)\n",
    "    print(\"line {} exception: {}\".format(exc_tb.tb_lineno, exception))"
   ]
  },
  {
   "cell_type": "markdown",
   "metadata": {},
   "source": [
    "## 發起錯誤"
   ]
  },
  {
   "cell_type": "code",
   "execution_count": null,
   "metadata": {
    "ExecuteTime": {
     "end_time": "2021-04-22T11:35:20.476057Z",
     "start_time": "2021-04-22T11:35:18.284261Z"
    }
   },
   "outputs": [],
   "source": [
    "index = int(input())\n",
    "a = [1, 2, 3, 4]\n",
    "if index >= len(a):\n",
    "    raise IndexError(\"Index {} out of range, max length is {}\".format(index, len(a)))\n",
    "else:\n",
    "    print(a[index])\n",
    "# except IndexError as e:\n",
    "#     exception_type, exception, exc_tb = sys.exc_info()\n",
    "#     print(\"line {} exception: {}\".format(exc_tb.tb_lineno, e.args[0]))"
   ]
  },
  {
   "cell_type": "markdown",
   "metadata": {},
   "source": [
    "## 自訂錯誤"
   ]
  },
  {
   "cell_type": "code",
   "execution_count": null,
   "metadata": {
    "ExecuteTime": {
     "end_time": "2021-04-22T11:36:38.358575Z",
     "start_time": "2021-04-22T11:36:38.355733Z"
    }
   },
   "outputs": [],
   "source": [
    "class NotMyCatError(BaseException):\n",
    "    ..."
   ]
  },
  {
   "cell_type": "code",
   "execution_count": null,
   "metadata": {
    "ExecuteTime": {
     "end_time": "2021-04-22T11:36:51.711000Z",
     "start_time": "2021-04-22T11:36:51.704916Z"
    }
   },
   "outputs": [],
   "source": [
    "raise NotMyCatError(\"not my cat!\")"
   ]
  },
  {
   "cell_type": "code",
   "execution_count": null,
   "metadata": {
    "ExecuteTime": {
     "end_time": "2021-04-22T11:37:38.544945Z",
     "start_time": "2021-04-22T11:37:26.178378Z"
    }
   },
   "outputs": [],
   "source": [
    "try:\n",
    "    name = input()\n",
    "    if name != \"Natasha\":\n",
    "        raise NotMyCatError(name, \"is not my cat!\")\n",
    "except NotMyCatError as e:\n",
    "    print(\"line {} exception: {}\".format(exc_tb.tb_lineno, e.args))"
   ]
  },
  {
   "cell_type": "markdown",
   "metadata": {},
   "source": [
    "# file format"
   ]
  },
  {
   "cell_type": "code",
   "execution_count": null,
   "metadata": {
    "ExecuteTime": {
     "end_time": "2021-04-22T11:42:21.299594Z",
     "start_time": "2021-04-22T11:42:21.296660Z"
    }
   },
   "outputs": [],
   "source": [
    "print(\"name\\tage\\tgender\\nTim\\t30\\tM\")"
   ]
  },
  {
   "cell_type": "code",
   "execution_count": null,
   "metadata": {
    "ExecuteTime": {
     "end_time": "2021-04-22T11:41:58.940632Z",
     "start_time": "2021-04-22T11:41:58.936933Z"
    }
   },
   "outputs": [],
   "source": []
  },
  {
   "cell_type": "code",
   "execution_count": null,
   "metadata": {},
   "outputs": [],
   "source": []
  },
  {
   "cell_type": "code",
   "execution_count": null,
   "metadata": {},
   "outputs": [],
   "source": []
  },
  {
   "cell_type": "markdown",
   "metadata": {},
   "source": [
    "# read write"
   ]
  },
  {
   "cell_type": "code",
   "execution_count": null,
   "metadata": {
    "ExecuteTime": {
     "end_time": "2021-04-22T11:51:12.458753Z",
     "start_time": "2021-04-22T11:51:12.452367Z"
    }
   },
   "outputs": [],
   "source": [
    "file_path = \"./readwrite.txt\"\n",
    "\n",
    "with open(file_path, mode='w') as f:  #-->write\n",
    "    f.write(\"line 1\\n\")"
   ]
  },
  {
   "cell_type": "code",
   "execution_count": null,
   "metadata": {
    "ExecuteTime": {
     "end_time": "2021-04-22T11:54:31.086954Z",
     "start_time": "2021-04-22T11:54:31.084100Z"
    }
   },
   "outputs": [],
   "source": [
    "with open(file_path, mode='a') as f:  #-->append\n",
    "    f.write(\"\\nline 5\")"
   ]
  },
  {
   "cell_type": "code",
   "execution_count": null,
   "metadata": {
    "ExecuteTime": {
     "end_time": "2021-04-22T11:53:08.210629Z",
     "start_time": "2021-04-22T11:53:08.207404Z"
    }
   },
   "outputs": [],
   "source": [
    "with open(file_path, mode='r') as f:  #-->read\n",
    "    print(f.read())  #--> If n is negative or omitted, read until EOF."
   ]
  },
  {
   "cell_type": "code",
   "execution_count": null,
   "metadata": {
    "ExecuteTime": {
     "end_time": "2021-04-22T11:53:23.625576Z",
     "start_time": "2021-04-22T11:53:23.622193Z"
    }
   },
   "outputs": [],
   "source": [
    "with open(file_path, mode='r') as f:  #-->read\n",
    "    print(f.readline()) #--> return once a line as a string object \n",
    "    print(f.readline())"
   ]
  },
  {
   "cell_type": "code",
   "execution_count": null,
   "metadata": {
    "ExecuteTime": {
     "end_time": "2021-04-22T11:54:48.548041Z",
     "start_time": "2021-04-22T11:54:48.544510Z"
    }
   },
   "outputs": [],
   "source": [
    "with open(file_path, mode='r') as f:  #-->read\n",
    "    print(f.readlines()) #--> Return a list of lines from the stream."
   ]
  },
  {
   "cell_type": "markdown",
   "metadata": {},
   "source": [
    "### csv"
   ]
  },
  {
   "cell_type": "markdown",
   "metadata": {},
   "source": [
    "#### csv 寫檔"
   ]
  },
  {
   "cell_type": "code",
   "execution_count": null,
   "metadata": {},
   "outputs": [],
   "source": []
  },
  {
   "cell_type": "code",
   "execution_count": null,
   "metadata": {},
   "outputs": [],
   "source": []
  },
  {
   "cell_type": "code",
   "execution_count": null,
   "metadata": {
    "ExecuteTime": {
     "end_time": "2021-04-22T11:58:32.415577Z",
     "start_time": "2021-04-22T11:58:32.412235Z"
    }
   },
   "outputs": [],
   "source": [
    "with open(csv_file_path, mode='r') as f:\n",
    "    print(f.readlines())"
   ]
  },
  {
   "cell_type": "code",
   "execution_count": null,
   "metadata": {
    "ExecuteTime": {
     "end_time": "2021-04-22T11:55:46.574280Z",
     "start_time": "2021-04-22T11:55:46.569685Z"
    }
   },
   "outputs": [],
   "source": [
    "import csv"
   ]
  },
  {
   "cell_type": "code",
   "execution_count": null,
   "metadata": {
    "ExecuteTime": {
     "end_time": "2021-04-22T11:57:09.173789Z",
     "start_time": "2021-04-22T11:57:09.170398Z"
    }
   },
   "outputs": [],
   "source": [
    "csv_file_path = \"./csv_file.csv\"\n",
    "with open(csv_file_path, mode='w') as f:  #-->write\n",
    "    writer = csv.writer(f, delimiter=',')\n",
    "    writer.writerow([\"id\", \"name\", \"price\"])\n",
    "    writer.writerow([\"0001\", \"麥片\", \"200\"])"
   ]
  },
  {
   "cell_type": "code",
   "execution_count": null,
   "metadata": {
    "ExecuteTime": {
     "end_time": "2021-04-22T11:59:24.862394Z",
     "start_time": "2021-04-22T11:59:24.858723Z"
    }
   },
   "outputs": [],
   "source": [
    "# 寫入多行\n",
    "with open(csv_file_path, mode='a') as f:  #-->write\n",
    "    writer = csv.writer(f)\n",
    "    writer.writerows([[\"0002\", \"乖乖\", \"30\"],\n",
    "                      [\"0003\", \"品客\", \"25\"]])"
   ]
  },
  {
   "cell_type": "code",
   "execution_count": null,
   "metadata": {
    "ExecuteTime": {
     "end_time": "2021-04-22T12:09:49.408550Z",
     "start_time": "2021-04-22T12:09:49.403884Z"
    }
   },
   "outputs": [],
   "source": [
    "with open(csv_file_path, mode='a') as f:  #-->write\n",
    "    writer = csv.DictWriter(f, fieldnames=[\"id\", \"name\", \"price\"], delimiter=',')\n",
    "#     writer.writeheader()\n",
    "    writer.writerow({\"id\": \"0004\", \"name\": \"馬克杯\", \"price\": \"150\"})\n",
    "    writer.writerows([{\"id\": \"0005\", \"name\": \"小夜燈\", \"price\": \"500\"},\n",
    "                      {\"id\": \"0006\", \"name\": \"手綁帶\", \"price\": \"327\"}])"
   ]
  },
  {
   "cell_type": "code",
   "execution_count": null,
   "metadata": {
    "ExecuteTime": {
     "end_time": "2021-04-22T12:27:00.569426Z",
     "start_time": "2021-04-22T12:27:00.565793Z"
    }
   },
   "outputs": [],
   "source": [
    "with open(csv_file_path, mode='r') as f:  #-->read\n",
    "    rows = csv.reader(f)\n",
    "    data = [row for row in rows]"
   ]
  },
  {
   "cell_type": "code",
   "execution_count": null,
   "metadata": {
    "ExecuteTime": {
     "end_time": "2021-04-22T12:32:35.833320Z",
     "start_time": "2021-04-22T12:32:35.829797Z"
    }
   },
   "outputs": [],
   "source": [
    "output_data"
   ]
  },
  {
   "cell_type": "code",
   "execution_count": null,
   "metadata": {
    "ExecuteTime": {
     "end_time": "2021-04-22T12:31:11.029893Z",
     "start_time": "2021-04-22T12:31:11.025279Z"
    }
   },
   "outputs": [],
   "source": [
    "with open(\"./tsv_file.tsv\", \"w\") as f:\n",
    "    writer = csv.DictWriter(f, fieldnames=data[0], delimiter='\\t')\n",
    "    writer.writeheader()\n",
    "    output_data = [{data[0][0]: x[0], data[0][1]: x[1], data[0][2]: x[2]} for x in data[1:]]\n",
    "#     print(output_data)\n",
    "    writer.writerows(output_data)"
   ]
  },
  {
   "cell_type": "code",
   "execution_count": null,
   "metadata": {
    "ExecuteTime": {
     "end_time": "2021-04-22T12:35:14.467144Z",
     "start_time": "2021-04-22T12:35:14.464369Z"
    }
   },
   "outputs": [],
   "source": [
    "print(json.dumps(output_data, ensure_ascii=False, indent=4))"
   ]
  },
  {
   "cell_type": "code",
   "execution_count": null,
   "metadata": {
    "ExecuteTime": {
     "end_time": "2021-04-22T12:34:14.497285Z",
     "start_time": "2021-04-22T12:34:14.492972Z"
    }
   },
   "outputs": [],
   "source": [
    "json_string = json.dumps(output_data, ensure_ascii=False)\n",
    "json.loads(json_string, encoding=\"utf-8\")"
   ]
  },
  {
   "cell_type": "code",
   "execution_count": null,
   "metadata": {
    "ExecuteTime": {
     "end_time": "2021-04-22T12:12:20.964940Z",
     "start_time": "2021-04-22T12:12:20.960884Z"
    }
   },
   "outputs": [],
   "source": [
    "with open(csv_file_path, mode='r') as f:  #-->read\n",
    "    rows = csv.DictReader(f)\n",
    "#     print(isinstance(rows, Iterator))\n",
    "    [print(row) for row in rows]"
   ]
  },
  {
   "cell_type": "markdown",
   "metadata": {},
   "source": [
    "# context manager"
   ]
  },
  {
   "cell_type": "code",
   "execution_count": null,
   "metadata": {},
   "outputs": [],
   "source": [
    "f = open(csv_file_path)\n",
    "f.close()"
   ]
  },
  {
   "cell_type": "code",
   "execution_count": null,
   "metadata": {},
   "outputs": [],
   "source": [
    "class MyOpen():\n",
    "    def __init__(self, filename):\n",
    "        self.filename = filename\n",
    "    def __enter__(self):\n",
    "        self.file = open(self.filename)\n",
    "        return self.file\n",
    "    def __exit__(self, exc_type, exc_value, traceback):\n",
    "        self.file.close()\n"
   ]
  },
  {
   "cell_type": "code",
   "execution_count": null,
   "metadata": {},
   "outputs": [],
   "source": [
    "from contextlib import contextmanager\n",
    "@contextmanager"
   ]
  },
  {
   "cell_type": "markdown",
   "metadata": {},
   "source": [
    "# 練習"
   ]
  },
  {
   "cell_type": "markdown",
   "metadata": {},
   "source": [
    "## 練習一\n",
    "```\n",
    "透過 csv 模組，\n",
    "將前面的 csv 資料讀進來\n",
    "再寫出 tsv 檔案(tsv_file.tsv)，\n",
    "Hint: 分隔符號： \\t\n",
    "```"
   ]
  },
  {
   "cell_type": "markdown",
   "metadata": {
    "ExecuteTime": {
     "end_time": "2021-04-21T17:26:23.281471Z",
     "start_time": "2021-04-21T17:26:23.278054Z"
    }
   },
   "source": [
    "## 練習二\n",
    "```\n",
    "建立數字轉中文的 function\n",
    "加上 try except 判斷數字是否超過可處理範圍\n",
    "```"
   ]
  },
  {
   "cell_type": "code",
   "execution_count": 2,
   "metadata": {
    "ExecuteTime": {
     "end_time": "2021-04-22T12:44:44.878045Z",
     "start_time": "2021-04-22T12:44:44.874179Z"
    }
   },
   "outputs": [],
   "source": [
    "import math\n",
    "number_chinese = {0: '零', 1: '一', 2: '二', 3: '三', 4: '四', 5: '五', 6: '六', 7: '七', 8: '八', 9: '九'}\n",
    "chinese_number = {c:n for n, c in number_chinese.items()}\n",
    "digits=['','十','百', '千', '萬', '十', '百', '千']"
   ]
  },
  {
   "cell_type": "code",
   "execution_count": 3,
   "metadata": {
    "ExecuteTime": {
     "end_time": "2021-04-22T12:44:45.695539Z",
     "start_time": "2021-04-22T12:44:45.679807Z"
    }
   },
   "outputs": [
    {
     "ename": "IndexError",
     "evalue": "list index out of range",
     "output_type": "error",
     "traceback": [
      "\u001b[0;31m---------------------------------------------------------------------------\u001b[0m",
      "\u001b[0;31mIndexError\u001b[0m                                Traceback (most recent call last)",
      "\u001b[0;32m<ipython-input-3-337cbb775e1d>\u001b[0m in \u001b[0;36m<module>\u001b[0;34m\u001b[0m\n\u001b[1;32m     25\u001b[0m     \u001b[0;32mreturn\u001b[0m \u001b[0manswer\u001b[0m\u001b[0;34m[\u001b[0m\u001b[0;36m1\u001b[0m\u001b[0;34m:\u001b[0m\u001b[0;34m]\u001b[0m\u001b[0;34m.\u001b[0m\u001b[0mstrip\u001b[0m\u001b[0;34m(\u001b[0m\u001b[0;34m\"零\"\u001b[0m\u001b[0;34m)\u001b[0m \u001b[0;32mif\u001b[0m \u001b[0;34m(\u001b[0m\u001b[0mdigit\u001b[0m \u001b[0;34m==\u001b[0m \u001b[0;36m1\u001b[0m\u001b[0;34m)\u001b[0m \u001b[0;32mand\u001b[0m \u001b[0;34m(\u001b[0m\u001b[0manswer\u001b[0m\u001b[0;34m[\u001b[0m\u001b[0;36m0\u001b[0m\u001b[0;34m]\u001b[0m\u001b[0;34m==\u001b[0m\u001b[0;34m\"一\"\u001b[0m\u001b[0;34m)\u001b[0m \u001b[0;32melse\u001b[0m \u001b[0manswer\u001b[0m\u001b[0;34m.\u001b[0m\u001b[0mstrip\u001b[0m\u001b[0;34m(\u001b[0m\u001b[0;34m\"零\"\u001b[0m\u001b[0;34m)\u001b[0m\u001b[0;34m\u001b[0m\u001b[0;34m\u001b[0m\u001b[0m\n\u001b[1;32m     26\u001b[0m \u001b[0mnumber\u001b[0m \u001b[0;34m=\u001b[0m \u001b[0;36m22222222222\u001b[0m\u001b[0;34m\u001b[0m\u001b[0;34m\u001b[0m\u001b[0m\n\u001b[0;32m---> 27\u001b[0;31m \u001b[0mnumber_to_chinese\u001b[0m\u001b[0;34m(\u001b[0m\u001b[0mnumber\u001b[0m\u001b[0;34m)\u001b[0m\u001b[0;34m\u001b[0m\u001b[0;34m\u001b[0m\u001b[0m\n\u001b[0m",
      "\u001b[0;32m<ipython-input-3-337cbb775e1d>\u001b[0m in \u001b[0;36mnumber_to_chinese\u001b[0;34m(number)\u001b[0m\n\u001b[1;32m     22\u001b[0m                 \u001b[0manswer\u001b[0m \u001b[0;34m+=\u001b[0m \u001b[0mnumber_of_digit\u001b[0m\u001b[0;34m\u001b[0m\u001b[0;34m\u001b[0m\u001b[0m\n\u001b[1;32m     23\u001b[0m         \u001b[0;32melse\u001b[0m\u001b[0;34m:\u001b[0m\u001b[0;34m\u001b[0m\u001b[0;34m\u001b[0m\u001b[0m\n\u001b[0;32m---> 24\u001b[0;31m             \u001b[0manswer\u001b[0m \u001b[0;34m+=\u001b[0m \u001b[0;34m(\u001b[0m\u001b[0mnumber_of_digit\u001b[0m \u001b[0;34m+\u001b[0m \u001b[0mdigits\u001b[0m\u001b[0;34m[\u001b[0m\u001b[0mi\u001b[0m\u001b[0;34m]\u001b[0m\u001b[0;34m)\u001b[0m\u001b[0;34m\u001b[0m\u001b[0;34m\u001b[0m\u001b[0m\n\u001b[0m\u001b[1;32m     25\u001b[0m     \u001b[0;32mreturn\u001b[0m \u001b[0manswer\u001b[0m\u001b[0;34m[\u001b[0m\u001b[0;36m1\u001b[0m\u001b[0;34m:\u001b[0m\u001b[0;34m]\u001b[0m\u001b[0;34m.\u001b[0m\u001b[0mstrip\u001b[0m\u001b[0;34m(\u001b[0m\u001b[0;34m\"零\"\u001b[0m\u001b[0;34m)\u001b[0m \u001b[0;32mif\u001b[0m \u001b[0;34m(\u001b[0m\u001b[0mdigit\u001b[0m \u001b[0;34m==\u001b[0m \u001b[0;36m1\u001b[0m\u001b[0;34m)\u001b[0m \u001b[0;32mand\u001b[0m \u001b[0;34m(\u001b[0m\u001b[0manswer\u001b[0m\u001b[0;34m[\u001b[0m\u001b[0;36m0\u001b[0m\u001b[0;34m]\u001b[0m\u001b[0;34m==\u001b[0m\u001b[0;34m\"一\"\u001b[0m\u001b[0;34m)\u001b[0m \u001b[0;32melse\u001b[0m \u001b[0manswer\u001b[0m\u001b[0;34m.\u001b[0m\u001b[0mstrip\u001b[0m\u001b[0;34m(\u001b[0m\u001b[0;34m\"零\"\u001b[0m\u001b[0;34m)\u001b[0m\u001b[0;34m\u001b[0m\u001b[0;34m\u001b[0m\u001b[0m\n\u001b[1;32m     26\u001b[0m \u001b[0mnumber\u001b[0m \u001b[0;34m=\u001b[0m \u001b[0;36m22222222222\u001b[0m\u001b[0;34m\u001b[0m\u001b[0;34m\u001b[0m\u001b[0m\n",
      "\u001b[0;31mIndexError\u001b[0m: list index out of range"
     ]
    }
   ],
   "source": [
    "import math\n",
    "number_chinese = {0: '零', 1: '一', 2: '二', 3: '三', 4: '四', 5: '五', 6: '六', 7: '七', 8: '八', 9: '九'}\n",
    "chinese_number = {c:n for n, c in number_chinese.items()}\n",
    "digits=['','十','百', '千', '萬', '十', '百', '千']\n",
    "def number_to_chinese(number):\n",
    "    \"\"\"\n",
    "        將數字轉換成中文表示\n",
    "        若無法轉換，則回傳 None\n",
    "        考慮到「兆」即可\n",
    "    :param number: int\n",
    "    :return: str\n",
    "    \"\"\"\n",
    "    \n",
    "    answer = \"\"\n",
    "    digit = int(math.log10(number))\n",
    "    for i in range(digit, -1, -1):\n",
    "        number_of_digit = number_chinese[(number // (10**i)) % 10]\n",
    "        if number_of_digit == '零':\n",
    "            if (i == 4 or i == 8 or i == 12) and (answer[-1] != digits[i]):\n",
    "                answer = answer.strip(\"零\") + digits[i]\n",
    "            elif answer[-1] == '零':\n",
    "                pass\n",
    "            else:\n",
    "                answer += number_of_digit\n",
    "        else:\n",
    "            answer += (number_of_digit + digits[i])\n",
    "    return answer[1:].strip(\"零\") if (digit == 1) and (answer[0]==\"一\") else answer.strip(\"零\")\n",
    "number = 22222222222\n",
    "number_to_chinese(number) "
   ]
  },
  {
   "cell_type": "markdown",
   "metadata": {},
   "source": [
    "## 練習三\n",
    "```\n",
    "接續迴圈作業，讀入 for_loop_test\n",
    "將資料整理成如下格式\n",
    "\n",
    "'第一層, 第二層, 第三層, 第四層'\n",
    "...\n",
    "```\n",
    "### 每一層底下都有複數層，每個第一層下都有多個第二層，每個第二層下都有多個第三層，依此類推\n",
    "\n",
    "### 輸出結果：\n",
    "```\n",
    "手機/相機/耳機/穿戴,手機,Apple,品牌\n",
    "手機/相機/耳機/穿戴,手機,Apple,顏色\n",
    "手機/相機/耳機/穿戴,手機,Apple,手機類型\n",
    "手機/相機/耳機/穿戴,手機,Apple,螢幕尺寸\n",
    "手機/相機/耳機/穿戴,手機,Apple,ROM/內建儲存空間\n",
    "手機/相機/耳機/穿戴,手機,Apple,處理器類型\n",
    "手機/相機/耳機/穿戴,手機,Apple,主相機畫素\n",
    "手機/相機/耳機/穿戴,手機,三星SAMSUNG,品牌\n",
    "手機/相機/耳機/穿戴,手機,三星SAMSUNG,顏色\n",
    "手機/相機/耳機/穿戴,手機,三星SAMSUNG,主相機畫素\n",
    "手機/相機/耳機/穿戴,手機,三星SAMSUNG,手機類型\n",
    "手機/相機/耳機/穿戴,手機,三星SAMSUNG,螢幕尺寸\n",
    "手機/相機/耳機/穿戴,手機,三星SAMSUNG,ROM/內建儲存空間\n",
    "手機/相機/耳機/穿戴,手機,三星SAMSUNG,處理器類型\n",
    "...\n",
    "```"
   ]
  },
  {
   "cell_type": "code",
   "execution_count": null,
   "metadata": {},
   "outputs": [],
   "source": [
    "source_path = \"./for_loop_test.txt\""
   ]
  }
 ],
 "metadata": {
  "kernelspec": {
   "display_name": "Python 3",
   "language": "python",
   "name": "python3"
  },
  "language_info": {
   "codemirror_mode": {
    "name": "ipython",
    "version": 3
   },
   "file_extension": ".py",
   "mimetype": "text/x-python",
   "name": "python",
   "nbconvert_exporter": "python",
   "pygments_lexer": "ipython3",
   "version": "3.7.3"
  },
  "toc": {
   "base_numbering": 1,
   "nav_menu": {},
   "number_sections": true,
   "sideBar": true,
   "skip_h1_title": false,
   "title_cell": "Table of Contents",
   "title_sidebar": "Contents",
   "toc_cell": false,
   "toc_position": {},
   "toc_section_display": true,
   "toc_window_display": true
  },
  "varInspector": {
   "cols": {
    "lenName": 16,
    "lenType": 16,
    "lenVar": 40
   },
   "kernels_config": {
    "python": {
     "delete_cmd_postfix": "",
     "delete_cmd_prefix": "del ",
     "library": "var_list.py",
     "varRefreshCmd": "print(var_dic_list())"
    },
    "r": {
     "delete_cmd_postfix": ") ",
     "delete_cmd_prefix": "rm(",
     "library": "var_list.r",
     "varRefreshCmd": "cat(var_dic_list()) "
    }
   },
   "types_to_exclude": [
    "module",
    "function",
    "builtin_function_or_method",
    "instance",
    "_Feature"
   ],
   "window_display": false
  }
 },
 "nbformat": 4,
 "nbformat_minor": 2
}
